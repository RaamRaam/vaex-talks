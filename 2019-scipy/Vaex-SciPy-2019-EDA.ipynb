{
 "cells": [
  {
   "cell_type": "markdown",
   "metadata": {},
   "source": [
    "# `vaex` @ SciPy (2019)\n",
    "## New York Taxi Dataset (2009-2015): Exploratory Data Analysis and Machine Learning example"
   ]
  },
  {
   "cell_type": "code",
   "execution_count": null,
   "metadata": {
    "ExecuteTime": {
     "end_time": "2019-07-10T01:59:43.198218Z",
     "start_time": "2019-07-10T01:59:43.195717Z"
    }
   },
   "outputs": [],
   "source": [
    "import vaex\n",
    "from vaex.ui.colormaps import cm_plusmin\n",
    "import warnings; warnings.simplefilter('ignore')\n",
    "\n",
    "import pylab as plt\n",
    "import numpy as np\n",
    "import seaborn as sns"
   ]
  },
  {
   "cell_type": "code",
   "execution_count": null,
   "metadata": {
    "ExecuteTime": {
     "end_time": "2019-07-10T01:59:44.924100Z",
     "start_time": "2019-07-10T01:59:44.810778Z"
    }
   },
   "outputs": [],
   "source": [
    "!ls -lh /data"
   ]
  },
  {
   "cell_type": "code",
   "execution_count": null,
   "metadata": {
    "ExecuteTime": {
     "end_time": "2019-07-10T01:57:52.611153Z",
     "start_time": "2019-07-10T01:57:52.569498Z"
    }
   },
   "outputs": [],
   "source": [
    "df_gaia = vaex.open('/data/gaia-dr2-sort-by-source_id.hdf5')"
   ]
  },
  {
   "cell_type": "code",
   "execution_count": null,
   "metadata": {
    "ExecuteTime": {
     "end_time": "2019-07-10T01:57:53.064396Z",
     "start_time": "2019-07-10T01:57:52.984578Z"
    }
   },
   "outputs": [],
   "source": [
    "df_gaia"
   ]
  },
  {
   "cell_type": "markdown",
   "metadata": {},
   "source": [
    "### Open the dataset"
   ]
  },
  {
   "cell_type": "code",
   "execution_count": null,
   "metadata": {
    "ExecuteTime": {
     "end_time": "2019-07-10T01:59:55.173586Z",
     "start_time": "2019-07-10T01:59:55.156701Z"
    }
   },
   "outputs": [],
   "source": [
    "df = vaex.open('/data/yellow_taxi_2009_2015_f32.hdf5')"
   ]
  },
  {
   "cell_type": "code",
   "execution_count": null,
   "metadata": {
    "ExecuteTime": {
     "end_time": "2019-07-10T01:59:55.895065Z",
     "start_time": "2019-07-10T01:59:55.868388Z"
    }
   },
   "outputs": [],
   "source": [
    "df"
   ]
  },
  {
   "cell_type": "markdown",
   "metadata": {},
   "source": [
    "### Split the data into train & test sets"
   ]
  },
  {
   "cell_type": "code",
   "execution_count": null,
   "metadata": {
    "ExecuteTime": {
     "end_time": "2019-07-10T02:00:11.840636Z",
     "start_time": "2019-07-10T02:00:11.829367Z"
    }
   },
   "outputs": [],
   "source": [
    "# Train / test split (by date)\n",
    "magic_row_nr = 1_026_944_937\n",
    "\n",
    "df_train, df_test = df[:magic_row_nr], df[magic_row_nr:]\n",
    "\n",
    "print(f'Number of samples in the training set: {len(df_train):,}')\n",
    "print(f'Number of samples in the test set    :   {len(df_test):,}')"
   ]
  },
  {
   "cell_type": "markdown",
   "metadata": {},
   "source": [
    "### Basic view in the contents of the data"
   ]
  },
  {
   "cell_type": "code",
   "execution_count": null,
   "metadata": {
    "ExecuteTime": {
     "end_time": "2019-07-10T02:01:34.928827Z",
     "start_time": "2019-07-10T02:00:14.668355Z"
    }
   },
   "outputs": [],
   "source": [
    "# Basic description about the training dataset\n",
    "df_train.describe()"
   ]
  },
  {
   "cell_type": "markdown",
   "metadata": {},
   "source": [
    "### Remove missing data"
   ]
  },
  {
   "cell_type": "code",
   "execution_count": null,
   "metadata": {
    "ExecuteTime": {
     "end_time": "2019-07-10T02:04:10.064493Z",
     "start_time": "2019-07-10T02:04:09.747282Z"
    }
   },
   "outputs": [],
   "source": [
    "# Drop NANs\n",
    "df_train = df_train.dropna(column_names=['dropoff_latitude', 'dropoff_longitude', 'pickup_latitude'])"
   ]
  },
  {
   "cell_type": "markdown",
   "metadata": {},
   "source": [
    "### Abnormal number of passengers"
   ]
  },
  {
   "cell_type": "code",
   "execution_count": null,
   "metadata": {
    "ExecuteTime": {
     "end_time": "2019-07-10T02:04:28.936861Z",
     "start_time": "2019-07-10T02:04:25.977013Z"
    }
   },
   "outputs": [],
   "source": [
    "# Number of passengers\n",
    "# df_train.passenger_count.unique()\n",
    "df_train.passenger_count.value_counts(progress=True)"
   ]
  },
  {
   "cell_type": "code",
   "execution_count": null,
   "metadata": {
    "ExecuteTime": {
     "end_time": "2019-07-10T02:05:22.344878Z",
     "start_time": "2019-07-10T02:05:22.012060Z"
    }
   },
   "outputs": [],
   "source": [
    "# Filter abnormal number of passengers\n",
    "df_train = df_train[(df_train.passenger_count>0) & (df_train.passenger_count<7)]"
   ]
  },
  {
   "cell_type": "markdown",
   "metadata": {},
   "source": [
    "### Clean up distance values"
   ]
  },
  {
   "cell_type": "code",
   "execution_count": null,
   "metadata": {
    "ExecuteTime": {
     "end_time": "2019-07-10T02:05:34.419599Z",
     "start_time": "2019-07-10T02:05:28.391048Z"
    }
   },
   "outputs": [],
   "source": [
    "plt.figure(figsize=(8,4))\n",
    "df_train.plot1d('trip_distance', limits='minmax', f='log1p')\n",
    "plt.ylabel(\"log(count + 1)\")\n",
    "plt.show()"
   ]
  },
  {
   "cell_type": "code",
   "execution_count": null,
   "metadata": {
    "ExecuteTime": {
     "end_time": "2019-07-10T02:06:03.363230Z",
     "start_time": "2019-07-10T02:06:02.599448Z"
    }
   },
   "outputs": [],
   "source": [
    "# What is the largest distance?\n",
    "max_trip_distance = df_train.trip_distance.max()\n",
    "\n",
    "print(f'{max_trip_distance:,} miles.')\n",
    "\n",
    "moon_distance = 238_900\n",
    "print(f'This is {int(max_trip_distance/moon_distance)} times larger than the distance between the Earth and the Moon!')"
   ]
  },
  {
   "cell_type": "code",
   "execution_count": null,
   "metadata": {
    "ExecuteTime": {
     "end_time": "2019-07-10T02:06:07.038539Z",
     "start_time": "2019-07-10T02:06:06.225325Z"
    }
   },
   "outputs": [],
   "source": [
    "plt.figure(figsize=(8,4))\n",
    "df_train.plot1d('trip_distance', limits=[0, 20])\n",
    "plt.show()"
   ]
  },
  {
   "cell_type": "code",
   "execution_count": null,
   "metadata": {
    "ExecuteTime": {
     "end_time": "2019-07-10T02:06:10.687285Z",
     "start_time": "2019-07-10T02:06:10.329039Z"
    }
   },
   "outputs": [],
   "source": [
    "# Filter negative and too large distances\n",
    "df_train = df_train[(df_train.trip_distance>0) & (df_train.trip_distance<10)]"
   ]
  },
  {
   "cell_type": "markdown",
   "metadata": {},
   "source": [
    "### What _is_ New York City really?"
   ]
  },
  {
   "cell_type": "code",
   "execution_count": null,
   "metadata": {
    "ExecuteTime": {
     "end_time": "2019-07-10T02:06:20.337221Z",
     "start_time": "2019-07-10T02:06:15.953070Z"
    }
   },
   "outputs": [],
   "source": [
    "# Interactively plot the pickup locations\n",
    "df_train.plot_widget(df_train.pickup_longitude, \n",
    "                     df_train.pickup_latitude, \n",
    "                     shape=512, \n",
    "                     f='log1p', \n",
    "                     colormap='plasma', \n",
    "                     limits='minmax')"
   ]
  },
  {
   "cell_type": "code",
   "execution_count": null,
   "metadata": {
    "ExecuteTime": {
     "end_time": "2019-07-10T02:07:07.658352Z",
     "start_time": "2019-07-10T02:07:07.655744Z"
    }
   },
   "outputs": [],
   "source": [
    "# Define the NYC boundaries\n",
    "long_min = -74.05\n",
    "long_max = -73.75\n",
    "lat_min = 40.58\n",
    "lat_max = 40.90"
   ]
  },
  {
   "cell_type": "code",
   "execution_count": null,
   "metadata": {
    "ExecuteTime": {
     "end_time": "2019-07-10T02:07:24.098121Z",
     "start_time": "2019-07-10T02:07:23.765513Z"
    }
   },
   "outputs": [],
   "source": [
    "# Make a selection based on the boundaries\n",
    "df_train = df_train[(df_train.pickup_longitude > long_min)  & (df_train.pickup_longitude < long_max) & \\\n",
    "        (df_train.pickup_latitude > lat_min)    & (df_train.pickup_latitude < lat_max) & \\\n",
    "        (df_train.dropoff_longitude > long_min) & (df_train.dropoff_longitude < long_max) & \\\n",
    "        (df_train.dropoff_latitude > lat_min)   & (df_train.dropoff_latitude < lat_max)]"
   ]
  },
  {
   "cell_type": "markdown",
   "metadata": {},
   "source": [
    "### Create some features"
   ]
  },
  {
   "cell_type": "code",
   "execution_count": null,
   "metadata": {
    "ExecuteTime": {
     "end_time": "2019-07-10T02:07:36.777014Z",
     "start_time": "2019-07-10T02:07:36.765159Z"
    }
   },
   "outputs": [],
   "source": [
    "# Speed (miles per hour)\n",
    "df_train['trip_speed_mph'] = df_train.trip_distance / ((df_train.dropoff_datetime - df_train.pickup_datetime) / np.timedelta64(1, 'h'))\n",
    "\n",
    "# Time in transit (minutes)\n",
    "df_train['trip_duration_min'] = (df_train.dropoff_datetime - df_train.pickup_datetime) / np.timedelta64(1, 'm')\n",
    "\n",
    "# fare divided by distance\n",
    "df_train['fare_by_distance'] = (df_train.fare_amount / df_train.trip_distance)"
   ]
  },
  {
   "cell_type": "markdown",
   "metadata": {},
   "source": [
    "### More filters: Trip duration"
   ]
  },
  {
   "cell_type": "code",
   "execution_count": null,
   "metadata": {
    "ExecuteTime": {
     "end_time": "2019-07-10T02:07:57.554105Z",
     "start_time": "2019-07-10T02:07:41.363519Z"
    }
   },
   "outputs": [],
   "source": [
    "plt.figure(figsize=(8,4))\n",
    "df_train.plot1d('trip_duration_min', f='log1p', limits='minmax')\n",
    "plt.ylabel('log(count + 1)')\n",
    "plt.show()"
   ]
  },
  {
   "cell_type": "code",
   "execution_count": null,
   "metadata": {
    "ExecuteTime": {
     "end_time": "2019-07-10T02:08:11.951546Z",
     "start_time": "2019-07-10T02:08:07.597788Z"
    }
   },
   "outputs": [],
   "source": [
    "plt.figure(figsize=(8,4))\n",
    "df_train.plot1d('trip_duration_min', f='log1p', limits=[0, 1000])\n",
    "plt.ylabel('log(count + 1)')\n",
    "plt.show()"
   ]
  },
  {
   "cell_type": "code",
   "execution_count": null,
   "metadata": {
    "ExecuteTime": {
     "end_time": "2019-07-10T02:08:28.612441Z",
     "start_time": "2019-07-10T02:08:28.278692Z"
    }
   },
   "outputs": [],
   "source": [
    "# Filter, keep durations that are within 2 hours\n",
    "df_train = df_train[(df_train.trip_duration_min>0) & (df_train.trip_duration_min<120)]"
   ]
  },
  {
   "cell_type": "markdown",
   "metadata": {},
   "source": [
    "### Create some date/time features"
   ]
  },
  {
   "cell_type": "code",
   "execution_count": null,
   "metadata": {
    "ExecuteTime": {
     "end_time": "2019-07-10T02:09:03.427612Z",
     "start_time": "2019-07-10T02:09:03.422503Z"
    }
   },
   "outputs": [],
   "source": [
    "# Daily activities\n",
    "df_train['pu_hour'] = df_train.pickup_datetime.dt.hour\n",
    "df_train['pu_day_of_week'] = df_train.pickup_datetime.dt.dayofweek\n",
    "df_train['pu_month'] = df_train.pickup_datetime.dt.month - 1\n",
    "df_train['pu_is_weekend'] = (df_train.pu_day_of_week>=5).astype('int')\n",
    "\n",
    "# lists to help with the labeling\n",
    "weekday_names_list = ['Mon', 'Tue', 'Wed', 'Thu', 'Fri', 'Sat', 'Sun']\n",
    "month_names_list = ['Jan', 'Feb', 'Mar', 'Apr', 'May', 'Jun', 'July', 'Aug', 'Sep', 'Oct', 'Nov', 'Dec']"
   ]
  },
  {
   "cell_type": "code",
   "execution_count": null,
   "metadata": {
    "ExecuteTime": {
     "end_time": "2019-07-10T02:09:09.721565Z",
     "start_time": "2019-07-10T02:09:09.718831Z"
    }
   },
   "outputs": [],
   "source": [
    "# Treat these columns as label/ordinal encoded values\n",
    "df_train.categorize(column='pu_hour', labels=list(map(str, range(24))), check=False)\n",
    "df_train.categorize(column='pu_day_of_week', labels=weekday_names_list, check=False)"
   ]
  },
  {
   "cell_type": "code",
   "execution_count": null,
   "metadata": {
    "ExecuteTime": {
     "end_time": "2019-07-10T02:09:24.271336Z",
     "start_time": "2019-07-10T02:09:11.146517Z"
    }
   },
   "outputs": [],
   "source": [
    "# Number of pick-ups per hour for a given day of the week\n",
    "df_train.plot('pu_hour', 'pu_day_of_week', colorbar=True, colormap=cm_plusmin, figsize=(15, 5))"
   ]
  },
  {
   "cell_type": "markdown",
   "metadata": {},
   "source": [
    "### Groupby examples"
   ]
  },
  {
   "cell_type": "code",
   "execution_count": null,
   "metadata": {
    "ExecuteTime": {
     "end_time": "2019-07-10T02:10:57.313600Z",
     "start_time": "2019-07-10T02:10:35.758192Z"
    }
   },
   "outputs": [],
   "source": [
    "df_per_hour = df_train.groupby(by=df_train.pu_hour).agg({'fare_amount': 'mean',\n",
    "                                                         'tip_amount': 'mean',\n",
    "                                                         'fare_by_distance': 'mean',\n",
    "                                                         'trip_duration_min': 'mean',\n",
    "                                                         'trip_speed_mph': 'mean',\n",
    "                                                        })\n",
    "\n",
    "df_per_hour"
   ]
  },
  {
   "cell_type": "code",
   "execution_count": null,
   "metadata": {
    "ExecuteTime": {
     "end_time": "2019-07-10T02:11:07.189011Z",
     "start_time": "2019-07-10T02:11:06.153448Z"
    }
   },
   "outputs": [],
   "source": [
    "plt.figure(figsize=(14, 11))\n",
    "\n",
    "plt.subplot(221)\n",
    "sns.barplot(x=df_per_hour.pu_hour.values, y=df_per_hour.tip_amount.values)\n",
    "plt.title('Mean tip amount')\n",
    "plt.xlabel('hour of day')\n",
    "plt.ylabel('mean tip amount')\n",
    "\n",
    "plt.subplot(222)\n",
    "sns.barplot(x=df_per_hour.pu_hour.values, y=df_per_hour.fare_by_distance.values)\n",
    "plt.title('Mean fare_by_distance')\n",
    "plt.xlabel('hour of day')\n",
    "plt.ylabel('mean fare_by_distance')\n",
    "\n",
    "plt.subplot(223)\n",
    "sns.barplot(x=df_per_hour.pu_hour.values, y=df_per_hour.trip_duration_min.values)\n",
    "plt.title('Mean trip duration')\n",
    "plt.xlabel('hour of day')\n",
    "plt.ylabel('mean trip duration [min]')\n",
    "\n",
    "plt.subplot(224)\n",
    "sns.barplot(x=df_per_hour.pu_hour.values, y=df_per_hour.trip_speed_mph.values)\n",
    "plt.title('Mean trip speed')\n",
    "plt.xlabel('hour of day')\n",
    "plt.ylabel('mean trip speed [miles per hour]')\n",
    "\n",
    "\n",
    "plt.tight_layout()\n",
    "plt.show()"
   ]
  },
  {
   "cell_type": "markdown",
   "metadata": {},
   "source": [
    "### Density Maps"
   ]
  },
  {
   "cell_type": "code",
   "execution_count": null,
   "metadata": {
    "ExecuteTime": {
     "end_time": "2019-07-10T02:12:09.713293Z",
     "start_time": "2019-07-10T02:12:04.986373Z"
    }
   },
   "outputs": [],
   "source": [
    "# Overall density map of pickup locations\n",
    "plt.figure(figsize=(9, 6))\n",
    "df_train.plot(df_train.pickup_longitude, df_train.pickup_latitude, \n",
    "              limits='minmax',\n",
    "              colorbar=True, colormap='plasma', f='log1p', shape=512, vmin=0.5, vmax=10.5)\n",
    "plt.title('Highest density of pickup locations')\n",
    "plt.show()"
   ]
  },
  {
   "cell_type": "code",
   "execution_count": null,
   "metadata": {
    "ExecuteTime": {
     "end_time": "2019-07-10T00:49:24.889541Z",
     "start_time": "2019-07-10T00:48:47.852729Z"
    }
   },
   "outputs": [],
   "source": [
    "# Favourable pickup locations - best payout\n",
    "plt.figure(figsize=(9, 6))\n",
    "df_train.plot(df_train.pickup_longitude, df_train.pickup_latitude, what='mean(fare_by_distance)', \n",
    "              selection = '(pu_hour>=6) & (pu_hour<10) & (pu_day_of_week<5)',\n",
    "              colorbar=True, colormap='plasma', f='log1p', shape=512, vmin=0.75, vmax=2.5)\n",
    "plt.title('Favourable pickup locations - working week mornings')\n",
    "plt.show()"
   ]
  },
  {
   "cell_type": "code",
   "execution_count": null,
   "metadata": {
    "ExecuteTime": {
     "end_time": "2019-07-10T00:22:57.367468Z",
     "start_time": "2019-07-10T00:22:55.378434Z"
    }
   },
   "outputs": [],
   "source": [
    "# All the filtering, in case something went wrong\n",
    "df = vaex.open('/data/yellow_taxi_2009_2015_f32.hdf5')\n",
    "magic_row_nr = 1_026_944_937\n",
    "df_train, df_test = df[:magic_row_nr], df[magic_row_nr:]\n",
    "df_train = df_train.dropna(column_names=['dropoff_latitude', 'dropoff_longitude', 'pickup_latitude'])\n",
    "df_train = df_train[(df_train.passenger_count>0) & (df_train.passenger_count<7)]\n",
    "df_train = df_train[(df_train.trip_distance>0) & (df_train.trip_distance<10)]\n",
    "# Define the NYC boundaries\n",
    "long_min = -74.05\n",
    "long_max = -73.75\n",
    "lat_min = 40.58\n",
    "lat_max = 40.90\n",
    "# Make a selection based on the boundaries\n",
    "df_train = df_train[(df_train.pickup_longitude > long_min)  & (df_train.pickup_longitude < long_max) & \\\n",
    "        (df_train.pickup_latitude > lat_min)    & (df_train.pickup_latitude < lat_max) & \\\n",
    "        (df_train.dropoff_longitude > long_min) & (df_train.dropoff_longitude < long_max) & \\\n",
    "        (df_train.dropoff_latitude > lat_min)   & (df_train.dropoff_latitude < lat_max)]"
   ]
  },
  {
   "cell_type": "markdown",
   "metadata": {},
   "source": [
    "## Predictive modelling example: predict the likely duration of a taxi trip"
   ]
  },
  {
   "cell_type": "code",
   "execution_count": null,
   "metadata": {
    "ExecuteTime": {
     "end_time": "2019-07-10T02:12:35.630301Z",
     "start_time": "2019-07-10T02:12:35.569522Z"
    }
   },
   "outputs": [],
   "source": [
    "import vaex.ml"
   ]
  },
  {
   "cell_type": "code",
   "execution_count": null,
   "metadata": {
    "ExecuteTime": {
     "end_time": "2019-07-10T02:13:11.580026Z",
     "start_time": "2019-07-10T02:13:11.564483Z"
    }
   },
   "outputs": [],
   "source": [
    "# arc-distance in miles\n",
    "def arc_distance(theta_1, phi_1, theta_2, phi_2):\n",
    "    temp = (np.sin((theta_2-theta_1)/2*np.pi/180)**2\n",
    "           + np.cos(theta_1*np.pi/180)*np.cos(theta_2*np.pi/180) * np.sin((phi_2-phi_1)/2*np.pi/180)**2)\n",
    "    distance = 2 * np.arctan2(np.sqrt(temp), np.sqrt(1-temp))\n",
    "    return distance * 3958.8\n",
    "\n",
    "# Add the arc-distance in miles as a virtual column\n",
    "df_train['arc_distance_miles_numpy'] = arc_distance(df_train.pickup_longitude, df_train.pickup_latitude, \n",
    "                                              df_train.dropoff_longitude, df_train.dropoff_latitude)"
   ]
  },
  {
   "cell_type": "code",
   "execution_count": null,
   "metadata": {
    "ExecuteTime": {
     "end_time": "2019-07-10T02:13:21.178462Z",
     "start_time": "2019-07-10T02:13:18.043268Z"
    }
   },
   "outputs": [],
   "source": [
    "df_train.arc_distance_miles_numpy"
   ]
  },
  {
   "cell_type": "code",
   "execution_count": null,
   "metadata": {
    "ExecuteTime": {
     "end_time": "2019-07-10T02:13:52.832197Z",
     "start_time": "2019-07-10T02:13:33.618691Z"
    }
   },
   "outputs": [],
   "source": [
    "df_train['arc_distance_miles_numpy'].sum(progress=True)"
   ]
  },
  {
   "cell_type": "code",
   "execution_count": null,
   "metadata": {
    "ExecuteTime": {
     "end_time": "2019-07-10T02:13:59.018457Z",
     "start_time": "2019-07-10T02:13:58.744700Z"
    }
   },
   "outputs": [],
   "source": [
    "df_train['arc_distance_miles_cuda'] = df_train['arc_distance_miles_numpy'].jit_cuda()"
   ]
  },
  {
   "cell_type": "code",
   "execution_count": null,
   "metadata": {
    "ExecuteTime": {
     "end_time": "2019-07-10T02:14:07.685787Z",
     "start_time": "2019-07-10T02:14:02.056492Z"
    }
   },
   "outputs": [],
   "source": [
    "df_train['arc_distance_miles_cuda'].sum(progress=True)"
   ]
  },
  {
   "cell_type": "code",
   "execution_count": null,
   "metadata": {
    "ExecuteTime": {
     "end_time": "2019-07-10T02:14:29.645914Z",
     "start_time": "2019-07-10T02:14:29.643657Z"
    }
   },
   "outputs": [],
   "source": [
    "df_train['arc_distance_miles'] = df_train['arc_distance_miles_cuda']\n",
    "# df_train['arc_distance_miles'] = df_train['arc_distance_miles_numpy']"
   ]
  },
  {
   "cell_type": "code",
   "execution_count": null,
   "metadata": {
    "ExecuteTime": {
     "end_time": "2019-07-10T02:14:33.445479Z",
     "start_time": "2019-07-10T02:14:33.441213Z"
    }
   },
   "outputs": [],
   "source": [
    "# direction of travel in degrees\n",
    "def direction_angle(theta_1, phi_1, theta_2, phi_2):\n",
    "    dtheta = theta_2 - theta_1\n",
    "    dphi = phi_2 - phi_1\n",
    "    radians = np.arctan2(dtheta, dphi)\n",
    "    return np.rad2deg(radians)\n",
    "\n",
    "df_train['direction_angle_numpy'] = direction_angle(df_train.pickup_longitude, df_train.pickup_latitude, \n",
    "                                           df_train.dropoff_longitude, df_train.dropoff_latitude)"
   ]
  },
  {
   "cell_type": "code",
   "execution_count": null,
   "metadata": {
    "ExecuteTime": {
     "end_time": "2019-07-10T02:14:38.569030Z",
     "start_time": "2019-07-10T02:14:38.201320Z"
    }
   },
   "outputs": [],
   "source": [
    "df_train['direction_angle'] = df_train['direction_angle_numpy'].jit_numba()"
   ]
  },
  {
   "cell_type": "code",
   "execution_count": null,
   "metadata": {},
   "outputs": [],
   "source": []
  },
  {
   "cell_type": "code",
   "execution_count": null,
   "metadata": {
    "ExecuteTime": {
     "end_time": "2019-07-10T02:14:46.798822Z",
     "start_time": "2019-07-10T02:14:46.518997Z"
    }
   },
   "outputs": [],
   "source": [
    "# Examine the train DataFrame at this point \n",
    "df_train.head(5)"
   ]
  },
  {
   "cell_type": "markdown",
   "metadata": {},
   "source": [
    "### Encoding and transforming of features"
   ]
  },
  {
   "cell_type": "code",
   "execution_count": null,
   "metadata": {
    "ExecuteTime": {
     "end_time": "2019-07-10T02:15:27.793246Z",
     "start_time": "2019-07-10T02:15:06.319886Z"
    }
   },
   "outputs": [],
   "source": [
    "# PCA of the pickup and dropoff locations - helps to \"straighten out\" the coordinates\n",
    "\n",
    "# pickup transformations\n",
    "pca_pu = vaex.ml.PCA(features=['pickup_longitude', 'pickup_latitude'], n_components=2)\n",
    "df_train = pca_pu.fit_transform(df_train)\n",
    "\n",
    "# dropoff transformations\n",
    "pca_do = vaex.ml.PCA(features=['dropoff_longitude', 'dropoff_latitude'], n_components=2)\n",
    "df_train = pca_do.fit_transform(df_train)"
   ]
  },
  {
   "cell_type": "code",
   "execution_count": null,
   "metadata": {
    "ExecuteTime": {
     "end_time": "2019-07-10T02:16:12.194186Z",
     "start_time": "2019-07-10T02:15:46.889767Z"
    }
   },
   "outputs": [],
   "source": [
    "plt.figure(figsize=(14, 5))\n",
    "\n",
    "plt.subplot(121)\n",
    "plt.title('pickup - original')\n",
    "df_train.plot(df_train.pickup_longitude, df_train.pickup_latitude,\n",
    "           colormap='plasma', f='log1p', shape=256, colorbar=False)\n",
    "\n",
    "plt.subplot(122)\n",
    "plt.title('pickup - PCA transformed')\n",
    "df_train.plot(df_train.PCA_0, df_train.PCA_1,\n",
    "           colormap='plasma', f='log1p', shape=256, colorbar=False)\n",
    "\n",
    "plt.tight_layout()\n",
    "plt.show()"
   ]
  },
  {
   "cell_type": "code",
   "execution_count": null,
   "metadata": {
    "ExecuteTime": {
     "end_time": "2019-07-10T02:16:33.705977Z",
     "start_time": "2019-07-10T02:16:26.954145Z"
    }
   },
   "outputs": [],
   "source": [
    "df_train.payment_type.value_counts(progress=True)"
   ]
  },
  {
   "cell_type": "code",
   "execution_count": null,
   "metadata": {
    "ExecuteTime": {
     "end_time": "2019-07-10T02:16:54.654661Z",
     "start_time": "2019-07-10T02:16:45.573862Z"
    }
   },
   "outputs": [],
   "source": [
    "# Inspect the payment_type\n",
    "df_train.payment_type.str.lower().value_counts(progress=True)"
   ]
  },
  {
   "cell_type": "markdown",
   "metadata": {},
   "source": [
    "Inspect the _payment_\\__type_\n",
    "From the documentation provided:\n",
    "    - 1 = Credit card\n",
    "    - 2 = Cash\n",
    "    - 3 = No charge\n",
    "    - 4 = Dispute\n",
    "    - 5 = Unknown\n",
    "    - 6 = Voided trip"
   ]
  },
  {
   "cell_type": "code",
   "execution_count": null,
   "metadata": {
    "ExecuteTime": {
     "end_time": "2019-07-10T02:18:24.524494Z",
     "start_time": "2019-07-10T02:18:16.181100Z"
    }
   },
   "outputs": [],
   "source": [
    "# Define a mapping dictionary\n",
    "# map_payment_type = {'csh': 2, 'crd': 1, 'cash': 2, '1': 1, 'cas': 2, '2': 2, 'credit': 1, 'cre': 1, 'unk': 5, \n",
    "#                     'noc': 3, 'no charge': 3, '3':3, 'dis': 4, 'no ': 3, '4': 4, 'dispute': 4, 'na ': 5, '5':5}\n",
    "map_payment_type = {'csh': 2, 'crd': 1, 'cash': 2, 'cas': 2, 'credit': 1, 'cre': 1, 'unk': 5, \n",
    "                    'noc': 3, 'no charge': 3, 'dis': 4, 'no ': 3, 'dispute': 4, 'na ': 5}\n",
    "\n",
    "df_train['payment_type_'] = df_train.payment_type.str.lower().map(map_payment_type, \n",
    "                                                                  default_value=-1, \n",
    "                                                                  allow_missing=True)"
   ]
  },
  {
   "cell_type": "code",
   "execution_count": null,
   "metadata": {
    "ExecuteTime": {
     "end_time": "2019-07-10T02:18:30.355394Z",
     "start_time": "2019-07-10T02:18:29.988248Z"
    }
   },
   "outputs": [],
   "source": [
    "# inspect the DataFrame\n",
    "df_train.head(5)"
   ]
  },
  {
   "cell_type": "markdown",
   "metadata": {},
   "source": [
    "### Setting up the predictor - `LightGBM`"
   ]
  },
  {
   "cell_type": "code",
   "execution_count": null,
   "metadata": {
    "ExecuteTime": {
     "end_time": "2019-07-10T02:18:56.523548Z",
     "start_time": "2019-07-10T02:18:56.520917Z"
    }
   },
   "outputs": [],
   "source": [
    "features_lgbm = ['passenger_count', 'trip_distance', 'rate_code', 'pu_hour', 'pu_day_of_week', 'pu_is_weekend', \n",
    "                 'arc_distance_miles', 'direction_angle', 'PCA_0', 'PCA_1', 'PCA_2', 'PCA_3', 'payment_type_']\n",
    "\n",
    "\n",
    "# the target\n",
    "target = 'trip_duration_min'"
   ]
  },
  {
   "cell_type": "code",
   "execution_count": null,
   "metadata": {
    "ExecuteTime": {
     "end_time": "2019-07-10T02:19:12.255606Z",
     "start_time": "2019-07-10T02:19:12.196769Z"
    }
   },
   "outputs": [],
   "source": [
    "# Import the modeling library\n",
    "import vaex.ml.lightgbm # vaex.ml also supports XGBoost, CatBoost, scikit-learn, annoy, more to come)"
   ]
  },
  {
   "cell_type": "code",
   "execution_count": null,
   "metadata": {
    "ExecuteTime": {
     "end_time": "2019-07-10T02:19:15.572917Z",
     "start_time": "2019-07-10T02:19:12.807500Z"
    }
   },
   "outputs": [],
   "source": [
    "# parameters - standard lightgbm options\n",
    "params = {\n",
    "    'learning_rate': 0.1,       \n",
    "    'max_depth': 5,             \n",
    "    'colsample_bytree': 0.8,\n",
    "    'subsample': 0.8,           \n",
    "    'reg_lambda': 1,            \n",
    "    'reg_alpha': 0,             \n",
    "    'min_child_weight': 1,      \n",
    "    'objective': 'regression',  \n",
    "    'random_state': 42,         \n",
    "    'n_jobs': -1} \n",
    "\n",
    "# Instantiate the model object\n",
    "booster = vaex.ml.lightgbm.LightGBMModel(features=features_lgbm, params=params, num_boost_round=100)\n",
    "\n",
    "# Take small part of the training set to we can do the training in real time fast\n",
    "df_train_mini = df_train[:1_000_000]\n",
    "\n",
    "# Fit the model object\n",
    "booster.fit(df_train_mini, target=target)\n",
    "\n",
    "print('Training completed!')"
   ]
  },
  {
   "cell_type": "code",
   "execution_count": null,
   "metadata": {
    "ExecuteTime": {
     "end_time": "2019-07-10T02:19:20.664394Z",
     "start_time": "2019-07-10T02:19:19.396358Z"
    }
   },
   "outputs": [],
   "source": [
    "# Check performance on the training set - in reality one needs to do proper (x)-validation\n",
    "\n",
    "# Classical predict - get an in-memory array of the predictions\n",
    "pred = booster.predict(df_train_mini)\n",
    "\n",
    "# view the predictions\n",
    "display(pred)\n",
    "\n",
    "# Create a virtual column housing the predictions\n",
    "df_train = booster.transform(df_train)\n",
    "\n",
    "# view the DataFrame\n",
    "df_train.head(5)"
   ]
  },
  {
   "cell_type": "code",
   "execution_count": null,
   "metadata": {
    "ExecuteTime": {
     "end_time": "2019-07-10T02:19:37.927665Z",
     "start_time": "2019-07-10T02:19:37.925377Z"
    }
   },
   "outputs": [],
   "source": [
    "# df_train[['lightgbm_prediction', target]].head()"
   ]
  },
  {
   "cell_type": "markdown",
   "metadata": {},
   "source": [
    "### Second estimator?!"
   ]
  },
  {
   "cell_type": "code",
   "execution_count": null,
   "metadata": {
    "ExecuteTime": {
     "end_time": "2019-07-10T02:20:01.940940Z",
     "start_time": "2019-07-10T02:19:40.067535Z"
    }
   },
   "outputs": [],
   "source": [
    "# One hot encoding of categorical features\n",
    "one_hot_enc = vaex.ml.OneHotEncoder(features=['payment_type_', \n",
    "                                              'pu_hour', 'pu_day_of_week', 'pu_month'], prefix='onehot_')\n",
    "\n",
    "df_train = one_hot_enc.fit_transform(df_train)"
   ]
  },
  {
   "cell_type": "code",
   "execution_count": null,
   "metadata": {
    "ExecuteTime": {
     "end_time": "2019-07-10T02:20:24.889772Z",
     "start_time": "2019-07-10T02:20:01.942419Z"
    }
   },
   "outputs": [],
   "source": [
    "# Standard scale some of the numerical features\n",
    "standard_scaler = vaex.ml.StandardScaler(features=['arc_distance_miles', 'direction_angle', 'trip_distance'])\n",
    "df_train = standard_scaler.fit_transform(df_train)"
   ]
  },
  {
   "cell_type": "code",
   "execution_count": null,
   "metadata": {
    "ExecuteTime": {
     "end_time": "2019-07-10T02:20:25.302447Z",
     "start_time": "2019-07-10T02:20:24.891180Z"
    }
   },
   "outputs": [],
   "source": [
    "# View the training DataFrame now\n",
    "df_train.head(5)"
   ]
  },
  {
   "cell_type": "code",
   "execution_count": null,
   "metadata": {
    "ExecuteTime": {
     "end_time": "2019-07-10T02:20:25.342105Z",
     "start_time": "2019-07-10T02:20:25.303901Z"
    }
   },
   "outputs": [],
   "source": [
    "# Try a linear model\n",
    "import vaex.ml.sklearn\n",
    "from sklearn.linear_model import LinearRegression"
   ]
  },
  {
   "cell_type": "code",
   "execution_count": null,
   "metadata": {
    "ExecuteTime": {
     "end_time": "2019-07-10T02:20:25.346694Z",
     "start_time": "2019-07-10T02:20:25.343236Z"
    }
   },
   "outputs": [],
   "source": [
    "# Specify which features to use\n",
    "features_linear = ['PCA_0', 'PCA_1', 'PCA_2', 'PCA_3', 'pu_is_weekend'] + \\\n",
    "                  [feature for feature in df_train.get_column_names() if 'standard_scaled_' in feature] + \\\n",
    "                  [feature for feature in df_train.get_column_names() if 'onehot_' in feature]"
   ]
  },
  {
   "cell_type": "code",
   "execution_count": null,
   "metadata": {
    "ExecuteTime": {
     "end_time": "2019-07-10T02:20:33.910510Z",
     "start_time": "2019-07-10T02:20:29.805913Z"
    }
   },
   "outputs": [],
   "source": [
    "# Instantiate the vaex-sklearn model \n",
    "linear_model = vaex.ml.sklearn.SKLearnPredictor(model=LinearRegression(copy_X=False, n_jobs=-1), \n",
    "                                                features=features_linear, prediction_name='linear_prediction')\n",
    "\n",
    "# Agaom, take small part of the training so we can train in real time.\n",
    "df_train_mini = df_train[:1_000_000]\n",
    "\n",
    "\n",
    "# Fit the model object\n",
    "linear_model.fit(df_train_mini, target=target)\n",
    "\n",
    "print('Training completed!')"
   ]
  },
  {
   "cell_type": "code",
   "execution_count": null,
   "metadata": {
    "ExecuteTime": {
     "end_time": "2019-07-10T02:20:36.352807Z",
     "start_time": "2019-07-10T02:20:33.913066Z"
    }
   },
   "outputs": [],
   "source": [
    "# Check performance on the training set - in reality one needs to do proper (x)-validation\n",
    "\n",
    "# Classical predict - get an in-memory array of the predictions\n",
    "pred_linear = linear_model.predict(df_train_mini)\n",
    "\n",
    "# view the predictions\n",
    "display(pred_linear)\n",
    "\n",
    "# Create a virtual column housing the predictions\n",
    "df_train = linear_model.transform(df_train)\n",
    "\n",
    "# view the DataFrame \n",
    "df_train[[feature for feature in df_train.get_column_names() if 'vendor' not in feature]].head(5)"
   ]
  },
  {
   "cell_type": "markdown",
   "metadata": {},
   "source": [
    "### Ensemble?!"
   ]
  },
  {
   "cell_type": "code",
   "execution_count": null,
   "metadata": {
    "ExecuteTime": {
     "end_time": "2019-07-10T02:20:39.122973Z",
     "start_time": "2019-07-10T02:20:39.109090Z"
    }
   },
   "outputs": [],
   "source": [
    "# Average the predictions from the Gradient Boosting and Linear models\n",
    "df_train['final_prediction'] = (df_train.lightgbm_prediction + df_train.linear_prediction) / 2"
   ]
  },
  {
   "cell_type": "code",
   "execution_count": null,
   "metadata": {
    "ExecuteTime": {
     "end_time": "2019-07-10T02:20:39.947528Z",
     "start_time": "2019-07-10T02:20:39.560638Z"
    }
   },
   "outputs": [],
   "source": [
    "### Display the DataFrame\n",
    "df_train.head(5)"
   ]
  },
  {
   "cell_type": "markdown",
   "metadata": {},
   "source": [
    "### So what about a pipeline?"
   ]
  },
  {
   "cell_type": "code",
   "execution_count": null,
   "metadata": {
    "ExecuteTime": {
     "end_time": "2019-07-10T02:20:53.045694Z",
     "start_time": "2019-07-10T02:20:52.842829Z"
    }
   },
   "outputs": [],
   "source": [
    "g = df_train.final_prediction._graphviz()\n",
    "g.render('test')"
   ]
  },
  {
   "cell_type": "code",
   "execution_count": null,
   "metadata": {
    "ExecuteTime": {
     "end_time": "2019-07-10T02:21:45.590818Z",
     "start_time": "2019-07-10T02:21:45.577223Z"
    }
   },
   "outputs": [],
   "source": [
    "# The vaex state - all the pipeline you need!\n",
    "state = df_train.state_get()"
   ]
  },
  {
   "cell_type": "code",
   "execution_count": null,
   "metadata": {
    "ExecuteTime": {
     "end_time": "2019-07-10T02:21:48.888197Z",
     "start_time": "2019-07-10T02:21:48.868168Z"
    }
   },
   "outputs": [],
   "source": [
    "# The test DataFrame was untouched for this whole time..\n",
    "df_test.head(5)"
   ]
  },
  {
   "cell_type": "code",
   "execution_count": null,
   "metadata": {
    "ExecuteTime": {
     "end_time": "2019-07-10T02:21:58.333416Z",
     "start_time": "2019-07-10T02:21:58.168138Z"
    }
   },
   "outputs": [],
   "source": [
    "# Apply the state transformations to the test DataFrame\n",
    "df_test.state_set(state=state)"
   ]
  },
  {
   "cell_type": "code",
   "execution_count": null,
   "metadata": {
    "ExecuteTime": {
     "end_time": "2019-07-10T02:22:02.770374Z",
     "start_time": "2019-07-10T02:21:59.783160Z"
    }
   },
   "outputs": [],
   "source": [
    "# view the test DataFrame\n",
    "df_test.head(20)"
   ]
  },
  {
   "cell_type": "code",
   "execution_count": null,
   "metadata": {
    "ExecuteTime": {
     "end_time": "2019-07-10T01:03:25.146868Z",
     "start_time": "2019-07-10T01:03:25.122228Z"
    }
   },
   "outputs": [],
   "source": [
    "df_train.state_write('mypipeline.json')"
   ]
  },
  {
   "cell_type": "code",
   "execution_count": null,
   "metadata": {
    "ExecuteTime": {
     "end_time": "2019-07-10T01:04:13.506645Z",
     "start_time": "2019-07-10T01:04:13.503251Z"
    }
   },
   "outputs": [],
   "source": [
    "state['selections']"
   ]
  },
  {
   "cell_type": "code",
   "execution_count": null,
   "metadata": {
    "ExecuteTime": {
     "end_time": "2019-07-10T02:22:45.762356Z",
     "start_time": "2019-07-10T02:22:42.376613Z"
    }
   },
   "outputs": [],
   "source": [
    "# Check the performance\n",
    "from sklearn.metrics import mean_absolute_error, mean_squared_error\n",
    "\n",
    "mae_test_score = mean_absolute_error(df_test[:1_000_000].trip_duration_min.values, \n",
    "                                     df_test[:1_000_000].final_prediction.values)\n",
    "mse_test_score = mean_squared_error(df_test[:1_000_000].trip_duration_min.values, \n",
    "                                    df_test[:1_000_000].final_prediction.values)\n",
    "\n",
    "print('The mean absolute error is %2.3f' % mae_test_score)\n",
    "print('The mean squared score is %2.3f' % mse_test_score)"
   ]
  },
  {
   "cell_type": "markdown",
   "metadata": {},
   "source": [
    "### End of EDA+ML example"
   ]
  }
 ],
 "metadata": {
  "kernelspec": {
   "display_name": "Python 3",
   "language": "python",
   "name": "python3"
  },
  "language_info": {
   "codemirror_mode": {
    "name": "ipython",
    "version": 3
   },
   "file_extension": ".py",
   "mimetype": "text/x-python",
   "name": "python",
   "nbconvert_exporter": "python",
   "pygments_lexer": "ipython3",
   "version": "3.7.3"
  }
 },
 "nbformat": 4,
 "nbformat_minor": 4
}
