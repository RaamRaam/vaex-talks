{
 "cells": [
  {
   "cell_type": "markdown",
   "metadata": {},
   "source": [
    "# `vaex` @ PyData London 2019\n",
    "## New York Taxi Dataset (2009-2015): Exploratory Data Analysis and Machine Learning example\n",
    "\n",
    "https://www1.nyc.gov/site/tlc/about/tlc-trip-record-data.page"
   ]
  },
  {
   "cell_type": "code",
   "execution_count": null,
   "metadata": {
    "ExecuteTime": {
     "end_time": "2019-07-12T21:46:24.177378Z",
     "start_time": "2019-07-12T21:46:22.894215Z"
    }
   },
   "outputs": [],
   "source": [
    "import vaex\n",
    "from vaex.ui.colormaps import cm_plusmin\n",
    "import warnings; warnings.simplefilter('ignore')\n",
    "\n",
    "\n",
    "import pylab as plt\n",
    "import numpy as np\n",
    "import seaborn as sns"
   ]
  },
  {
   "cell_type": "code",
   "execution_count": null,
   "metadata": {
    "ExecuteTime": {
     "end_time": "2019-07-12T21:46:29.142461Z",
     "start_time": "2019-07-12T21:46:28.978933Z"
    }
   },
   "outputs": [],
   "source": [
    "!ls -lh /data"
   ]
  },
  {
   "cell_type": "code",
   "execution_count": null,
   "metadata": {
    "ExecuteTime": {
     "end_time": "2019-07-12T21:46:50.449575Z",
     "start_time": "2019-07-12T21:46:50.409886Z"
    }
   },
   "outputs": [],
   "source": [
    "df_gaia = vaex.open('/data/gaia-dr2-sort-by-source_id.hdf5')"
   ]
  },
  {
   "cell_type": "code",
   "execution_count": null,
   "metadata": {
    "ExecuteTime": {
     "end_time": "2019-07-12T21:46:52.526162Z",
     "start_time": "2019-07-12T21:46:52.435672Z"
    }
   },
   "outputs": [],
   "source": [
    "df_gaia"
   ]
  },
  {
   "cell_type": "markdown",
   "metadata": {},
   "source": [
    "### Open the dataset"
   ]
  },
  {
   "cell_type": "code",
   "execution_count": null,
   "metadata": {
    "ExecuteTime": {
     "end_time": "2019-07-12T21:47:27.610511Z",
     "start_time": "2019-07-12T21:47:27.600123Z"
    }
   },
   "outputs": [],
   "source": [
    "# Opens the data\n",
    "df = vaex.open('/data/yellow_taxi_2009_2015_f32.hdf5')\n",
    "\n",
    "# Check length\n",
    "print(f'Number of samples in the data: {len(df):,}')"
   ]
  },
  {
   "cell_type": "code",
   "execution_count": null,
   "metadata": {
    "ExecuteTime": {
     "end_time": "2019-07-12T21:47:36.519154Z",
     "start_time": "2019-07-12T21:47:36.502737Z"
    }
   },
   "outputs": [],
   "source": [
    "# View a portion of the dataset\n",
    "df"
   ]
  },
  {
   "cell_type": "markdown",
   "metadata": {},
   "source": [
    "### Split the data into train & test sets"
   ]
  },
  {
   "cell_type": "code",
   "execution_count": null,
   "metadata": {
    "ExecuteTime": {
     "end_time": "2019-07-12T21:47:57.331538Z",
     "start_time": "2019-07-12T21:47:57.320357Z"
    }
   },
   "outputs": [],
   "source": [
    "# Train / test split (by date)\n",
    "df_train = df[:1_026_944_937]\n",
    "df_test = df[1_026_944_937:]\n",
    "\n",
    "print(f'Number of samples in the training set: {len(df_train):,}')\n",
    "print(f'Number of samples in the test set:       {len(df_test):,}')\n",
    "\n",
    "# Check if the lengths of the datasets match\n",
    "assert len(df) == len(df_test) + len(df_train)"
   ]
  },
  {
   "cell_type": "markdown",
   "metadata": {},
   "source": [
    "### Basic view in the contents of the data"
   ]
  },
  {
   "cell_type": "code",
   "execution_count": null,
   "metadata": {
    "ExecuteTime": {
     "end_time": "2019-07-12T21:49:51.577183Z",
     "start_time": "2019-07-12T21:48:18.602897Z"
    }
   },
   "outputs": [],
   "source": [
    "# Basic description about the training dataset\n",
    "df_train.describe()\n",
    "# 9 min"
   ]
  },
  {
   "cell_type": "markdown",
   "metadata": {},
   "source": [
    "### Remove missing data"
   ]
  },
  {
   "cell_type": "code",
   "execution_count": null,
   "metadata": {
    "ExecuteTime": {
     "end_time": "2019-07-12T21:52:01.894830Z",
     "start_time": "2019-07-12T21:52:01.547397Z"
    }
   },
   "outputs": [],
   "source": [
    "# Drop NANs\n",
    "df_train = df_train.dropna(column_names=['dropoff_latitude', 'dropoff_longitude', 'pickup_latitude'])"
   ]
  },
  {
   "cell_type": "markdown",
   "metadata": {},
   "source": [
    "### Abnormal number of passengers"
   ]
  },
  {
   "cell_type": "code",
   "execution_count": null,
   "metadata": {
    "ExecuteTime": {
     "end_time": "2019-07-12T21:53:09.357312Z",
     "start_time": "2019-07-12T21:53:05.666987Z"
    }
   },
   "outputs": [],
   "source": [
    "# Number of passengers\n",
    "df_train.passenger_count.value_counts(progress=True)"
   ]
  },
  {
   "cell_type": "code",
   "execution_count": null,
   "metadata": {
    "ExecuteTime": {
     "end_time": "2019-07-12T21:52:59.033426Z",
     "start_time": "2019-07-12T21:52:58.624415Z"
    }
   },
   "outputs": [],
   "source": [
    "# Filter abnormal number of passengers\n",
    "df_train = df_train[(df_train.passenger_count>0) & (df_train.passenger_count<7)]"
   ]
  },
  {
   "cell_type": "markdown",
   "metadata": {},
   "source": [
    "### Clean up distance values"
   ]
  },
  {
   "cell_type": "code",
   "execution_count": null,
   "metadata": {
    "ExecuteTime": {
     "end_time": "2019-07-12T21:53:52.689509Z",
     "start_time": "2019-07-12T21:53:49.691870Z"
    }
   },
   "outputs": [],
   "source": [
    "plt.figure(figsize=(8,4))\n",
    "df_train.plot1d('trip_distance', limits='minmax', f='log1p')\n",
    "plt.show()"
   ]
  },
  {
   "cell_type": "code",
   "execution_count": null,
   "metadata": {
    "ExecuteTime": {
     "end_time": "2019-07-12T21:54:10.192976Z",
     "start_time": "2019-07-12T21:54:09.084525Z"
    }
   },
   "outputs": [],
   "source": [
    "# How many trips have 0.0 distance?\n",
    "(df_train.trip_distance==0).astype('int').sum()"
   ]
  },
  {
   "cell_type": "code",
   "execution_count": null,
   "metadata": {
    "ExecuteTime": {
     "end_time": "2019-07-12T21:54:22.180817Z",
     "start_time": "2019-07-12T21:54:21.142447Z"
    }
   },
   "outputs": [],
   "source": [
    "# What is the largest distance?\n",
    "_ = df_train.trip_distance.max()\n",
    "\n",
    "print(_, 'miles.')\n",
    "\n",
    "print('This is %3.1f times larger than the distance between the Earth and the Moon!' % (_ / 238_900))\n",
    "print('or')\n",
    "print('This is %1.1f the distance to Mars!' % (_ / 33_900_000))"
   ]
  },
  {
   "cell_type": "code",
   "execution_count": null,
   "metadata": {
    "ExecuteTime": {
     "end_time": "2019-07-12T21:54:38.481974Z",
     "start_time": "2019-07-12T21:54:37.402817Z"
    }
   },
   "outputs": [],
   "source": [
    "plt.figure(figsize=(8,4))\n",
    "df_train.plot1d('trip_distance', limits=[0, 20], f=None)\n",
    "plt.show()"
   ]
  },
  {
   "cell_type": "code",
   "execution_count": null,
   "metadata": {
    "ExecuteTime": {
     "end_time": "2019-07-12T21:54:50.946969Z",
     "start_time": "2019-07-12T21:54:50.476525Z"
    }
   },
   "outputs": [],
   "source": [
    "# Filter negative and too large distances\n",
    "df_train = df_train[(df_train.trip_distance>0) & (df_train.trip_distance<10)]"
   ]
  },
  {
   "cell_type": "markdown",
   "metadata": {},
   "source": [
    "### What _is_ New York City really?"
   ]
  },
  {
   "cell_type": "code",
   "execution_count": null,
   "metadata": {
    "ExecuteTime": {
     "end_time": "2019-07-12T21:55:02.550571Z",
     "start_time": "2019-07-12T21:54:58.022239Z"
    }
   },
   "outputs": [],
   "source": [
    "# Interactively plot the pickup locations\n",
    "df_train.plot_widget(df_train.pickup_longitude, \n",
    "                     df_train.pickup_latitude, \n",
    "                     shape=512, \n",
    "                     f='log1p', \n",
    "                     colormap='plasma', \n",
    "                     limits='minmax')"
   ]
  },
  {
   "cell_type": "code",
   "execution_count": null,
   "metadata": {
    "ExecuteTime": {
     "end_time": "2019-07-12T21:56:07.025273Z",
     "start_time": "2019-07-12T21:56:07.022963Z"
    }
   },
   "outputs": [],
   "source": [
    "# Define the NYC boundaries\n",
    "long_min = -74.05\n",
    "long_max = -73.75\n",
    "lat_min = 40.58\n",
    "lat_max = 40.90"
   ]
  },
  {
   "cell_type": "code",
   "execution_count": null,
   "metadata": {
    "ExecuteTime": {
     "end_time": "2019-07-12T21:56:09.478368Z",
     "start_time": "2019-07-12T21:56:08.968581Z"
    }
   },
   "outputs": [],
   "source": [
    "# Make a selection based on the boundaries\n",
    "df_train = df_train[(df_train.pickup_longitude > long_min)  & (df_train.pickup_longitude < long_max) & \\\n",
    "        (df_train.pickup_latitude > lat_min)    & (df_train.pickup_latitude < lat_max) & \\\n",
    "        (df_train.dropoff_longitude > long_min) & (df_train.dropoff_longitude < long_max) & \\\n",
    "        (df_train.dropoff_latitude > lat_min)   & (df_train.dropoff_latitude < lat_max)]"
   ]
  },
  {
   "cell_type": "markdown",
   "metadata": {},
   "source": [
    "### Create some features"
   ]
  },
  {
   "cell_type": "code",
   "execution_count": null,
   "metadata": {
    "ExecuteTime": {
     "end_time": "2019-07-12T21:56:18.134066Z",
     "start_time": "2019-07-12T21:56:12.520704Z"
    }
   },
   "outputs": [],
   "source": [
    "# Speed (miles per hour)\n",
    "df_train['trip_speed_mph'] = df_train.trip_distance / ((df_train.dropoff_datetime - df_train.pickup_datetime) / np.timedelta64(1, 'h'))\n",
    "\n",
    "# Time in transit (minutes)\n",
    "df_train['trip_duration_min'] = (df_train.dropoff_datetime - df_train.pickup_datetime) / np.timedelta64(1, 'm')\n",
    "\n",
    "# fare divided by distance\n",
    "df_train['fare_by_distance'] = (df_train.fare_amount / df_train.trip_distance).jit_numba()"
   ]
  },
  {
   "cell_type": "markdown",
   "metadata": {},
   "source": [
    "### More filters: Trip duration"
   ]
  },
  {
   "cell_type": "code",
   "execution_count": null,
   "metadata": {
    "ExecuteTime": {
     "end_time": "2019-07-12T21:56:40.635898Z",
     "start_time": "2019-07-12T21:56:25.963109Z"
    }
   },
   "outputs": [],
   "source": [
    "plt.figure(figsize=(8,4))\n",
    "df_train.plot1d('trip_duration_min', f='log1p', limits='minmax')\n",
    "plt.ylabel('log(count + 1)')\n",
    "plt.show()"
   ]
  },
  {
   "cell_type": "code",
   "execution_count": null,
   "metadata": {
    "ExecuteTime": {
     "end_time": "2019-07-12T21:57:03.282809Z",
     "start_time": "2019-07-12T21:56:58.067985Z"
    }
   },
   "outputs": [],
   "source": [
    "plt.figure(figsize=(8,4))\n",
    "df_train.plot1d('trip_duration_min', f='log1p', limits=[0, 1000])\n",
    "plt.ylabel('log(count + 1)')\n",
    "plt.show()"
   ]
  },
  {
   "cell_type": "code",
   "execution_count": null,
   "metadata": {
    "ExecuteTime": {
     "end_time": "2019-07-12T21:57:19.550916Z",
     "start_time": "2019-07-12T21:57:19.110806Z"
    }
   },
   "outputs": [],
   "source": [
    "# Filter, keep durations that are within 2 hours\n",
    "df_train = df_train[(df_train.trip_duration_min>0) & (df_train.trip_duration_min<120)]"
   ]
  },
  {
   "cell_type": "markdown",
   "metadata": {},
   "source": [
    "### Create some date/time features"
   ]
  },
  {
   "cell_type": "code",
   "execution_count": null,
   "metadata": {
    "ExecuteTime": {
     "end_time": "2019-07-12T21:57:26.601297Z",
     "start_time": "2019-07-12T21:57:26.596406Z"
    }
   },
   "outputs": [],
   "source": [
    "# Daily activities\n",
    "df_train['pu_hour'] = df_train.pickup_datetime.dt.hour\n",
    "df_train['pu_day_of_week'] = df_train.pickup_datetime.dt.dayofweek\n",
    "df_train['pu_month'] = df_train.pickup_datetime.dt.month - 1\n",
    "df_train['pu_is_weekend'] = (df_train.pu_day_of_week>=5).astype('int')\n",
    "\n",
    "# lists to help with the labeling\n",
    "weekday_names_list = ['Mon', 'Tue', 'Wed', 'Thu', 'Fri', 'Sat', 'Sun']\n",
    "month_names_list = ['Jan', 'Feb', 'Mar', 'Apr', 'May', 'Jun', 'July', 'Aug', 'Sep', 'Oct', 'Nov', 'Dec']"
   ]
  },
  {
   "cell_type": "code",
   "execution_count": null,
   "metadata": {
    "ExecuteTime": {
     "end_time": "2019-07-12T21:57:58.536631Z",
     "start_time": "2019-07-12T21:57:29.748313Z"
    }
   },
   "outputs": [],
   "source": [
    "# Treat these columns as label/ordinal encoded values\n",
    "df_train.categorize(column='pu_hour')\n",
    "df_train.categorize(column='pu_day_of_week')"
   ]
  },
  {
   "cell_type": "code",
   "execution_count": null,
   "metadata": {
    "ExecuteTime": {
     "end_time": "2019-07-12T21:58:18.861418Z",
     "start_time": "2019-07-12T21:57:58.538755Z"
    }
   },
   "outputs": [],
   "source": [
    "# Number of pick-ups per hour for a given day of the week\n",
    "df_train.plot('pu_hour', 'pu_day_of_week', colorbar=True, colormap=cm_plusmin, figsize=(15, 5))\n",
    "plt.xticks(np.arange(24), np.arange(24))\n",
    "plt.yticks(np.arange(7), weekday_names_list)\n",
    "plt.show()"
   ]
  },
  {
   "cell_type": "markdown",
   "metadata": {},
   "source": [
    "### Groupby examples"
   ]
  },
  {
   "cell_type": "code",
   "execution_count": null,
   "metadata": {
    "ExecuteTime": {
     "end_time": "2019-07-12T21:59:26.203141Z",
     "start_time": "2019-07-12T21:58:52.695794Z"
    }
   },
   "outputs": [],
   "source": [
    "df_per_hour = df_train.groupby(by=df_train.pu_hour).agg({'tip_amount': 'mean',\n",
    "                                                         'trip_speed_mph': 'mean',\n",
    "                                                        })\n",
    "\n",
    "# Display the grouped DataFrame\n",
    "df_per_hour"
   ]
  },
  {
   "cell_type": "code",
   "execution_count": null,
   "metadata": {
    "ExecuteTime": {
     "end_time": "2019-07-12T21:59:34.630010Z",
     "start_time": "2019-07-12T21:59:33.701852Z"
    }
   },
   "outputs": [],
   "source": [
    "plt.figure(figsize=(14, 5))\n",
    "\n",
    "plt.subplot(121)\n",
    "sns.barplot(x=df_per_hour.pu_hour.values, y=df_per_hour.tip_amount.values)\n",
    "plt.title('Mean tip amount')\n",
    "plt.xlabel('hour of day')\n",
    "plt.ylabel('mean tip amount')\n",
    "\n",
    "plt.subplot(122)\n",
    "sns.barplot(x=df_per_hour.pu_hour.values, y=df_per_hour.trip_speed_mph.values)\n",
    "plt.title('Mean trip speed')\n",
    "plt.xlabel('hour of day')\n",
    "plt.ylabel('mean trip speed [miles per hour]')\n",
    "\n",
    "\n",
    "plt.tight_layout()\n",
    "plt.show()"
   ]
  },
  {
   "cell_type": "code",
   "execution_count": null,
   "metadata": {
    "ExecuteTime": {
     "end_time": "2019-07-12T22:17:24.346153Z",
     "start_time": "2019-07-12T22:17:22.590521Z"
    }
   },
   "outputs": [],
   "source": [
    "# All the filtering, in case something went wrong\n",
    "import vaex\n",
    "import numpy as np\n",
    "import pylab as plt\n",
    "df = vaex.open('/data/yellow_taxi_2009_2015_f32.hdf5')\n",
    "magic_row_nr = 1_026_944_937\n",
    "df_train, df_test = df[:magic_row_nr], df[magic_row_nr:]\n",
    "df_train = df_train.dropna(column_names=['dropoff_latitude', 'dropoff_longitude', 'pickup_latitude'])\n",
    "df_train = df_train[(df_train.passenger_count>0) & (df_train.passenger_count<7)]\n",
    "df_train = df_train[(df_train.trip_distance>0) & (df_train.trip_distance<10)]\n",
    "# Define the NYC boundaries\n",
    "long_min = -74.05\n",
    "long_max = -73.75\n",
    "lat_min = 40.58\n",
    "lat_max = 40.90\n",
    "# Make a selection based on the boundaries\n",
    "df_train = df_train[(df_train.pickup_longitude > long_min)  & (df_train.pickup_longitude < long_max) & \\\n",
    "        (df_train.pickup_latitude > lat_min)    & (df_train.pickup_latitude < lat_max) & \\\n",
    "        (df_train.dropoff_longitude > long_min) & (df_train.dropoff_longitude < long_max) & \\\n",
    "        (df_train.dropoff_latitude > lat_min)   & (df_train.dropoff_latitude < lat_max)]\n",
    "df_train['pu_hour'] = df_train.pickup_datetime.dt.hour\n",
    "df_train['pu_day_of_week'] = df_train.pickup_datetime.dt.dayofweek\n",
    "df_train['pu_month'] = df_train.pickup_datetime.dt.month - 1\n",
    "df_train['pu_is_weekend'] = (df_train.pu_day_of_week>=5).astype('int')\n",
    "df_train['trip_speed_mph'] = df_train.trip_distance / ((df_train.dropoff_datetime - df_train.pickup_datetime) / np.timedelta64(1, 'h'))\n",
    "df_train['trip_duration_min'] = (df_train.dropoff_datetime - df_train.pickup_datetime) / np.timedelta64(1, 'm')\n",
    "df_train['fare_by_distance'] = (df_train.fare_amount / df_train.trip_distance)\n"
   ]
  },
  {
   "cell_type": "markdown",
   "metadata": {},
   "source": [
    "## Predictive modelling example: predict the likely duration of a taxi trip"
   ]
  },
  {
   "cell_type": "code",
   "execution_count": null,
   "metadata": {
    "ExecuteTime": {
     "end_time": "2019-07-12T22:17:45.917633Z",
     "start_time": "2019-07-12T22:17:32.790642Z"
    }
   },
   "outputs": [],
   "source": [
    "df_train"
   ]
  },
  {
   "cell_type": "code",
   "execution_count": null,
   "metadata": {
    "ExecuteTime": {
     "end_time": "2019-07-12T22:17:45.921053Z",
     "start_time": "2019-07-12T22:17:45.919114Z"
    }
   },
   "outputs": [],
   "source": [
    "import vaex.ml"
   ]
  },
  {
   "cell_type": "code",
   "execution_count": null,
   "metadata": {
    "ExecuteTime": {
     "end_time": "2019-07-12T22:17:45.928497Z",
     "start_time": "2019-07-12T22:17:45.922606Z"
    }
   },
   "outputs": [],
   "source": [
    "# arc-distance in miles\n",
    "def arc_distance(theta_1, phi_1, theta_2, phi_2):\n",
    "    temp = (np.sin((theta_2-theta_1)/2*np.pi/180)**2\n",
    "           + np.cos(theta_1*np.pi/180)*np.cos(theta_2*np.pi/180) * np.sin((phi_2-phi_1)/2*np.pi/180)**2)\n",
    "    distance = 2 * np.arctan2(np.sqrt(temp), np.sqrt(1-temp))\n",
    "    return distance * 3958.8\n",
    "\n",
    "# distance London - Utrecht [miles]\n",
    "arc_distance(51.5069797, -0.1295992, 52.0842715, 5.0124523)"
   ]
  },
  {
   "cell_type": "code",
   "execution_count": null,
   "metadata": {
    "ExecuteTime": {
     "end_time": "2019-07-12T22:17:45.936354Z",
     "start_time": "2019-07-12T22:17:45.930274Z"
    }
   },
   "outputs": [],
   "source": [
    "# Add the arc-distance in miles as a virtual column\n",
    "df_train['arc_distance_miles_numpy'] = arc_distance(df_train.pickup_longitude, df_train.pickup_latitude, \n",
    "                                              df_train.dropoff_longitude, df_train.dropoff_latitude)"
   ]
  },
  {
   "cell_type": "code",
   "execution_count": null,
   "metadata": {
    "ExecuteTime": {
     "end_time": "2019-07-12T22:18:14.634162Z",
     "start_time": "2019-07-12T22:17:49.691135Z"
    }
   },
   "outputs": [],
   "source": [
    "df_train['arc_distance_miles_numpy'].sum(progress=True)"
   ]
  },
  {
   "cell_type": "code",
   "execution_count": null,
   "metadata": {
    "ExecuteTime": {
     "end_time": "2019-07-12T22:18:16.736639Z",
     "start_time": "2019-07-12T22:18:16.733303Z"
    }
   },
   "outputs": [],
   "source": [
    "df_train['arc_distance_miles_cuda'] = df_train['arc_distance_miles_numpy'].jit_cuda()"
   ]
  },
  {
   "cell_type": "code",
   "execution_count": null,
   "metadata": {
    "ExecuteTime": {
     "end_time": "2019-07-12T22:18:22.638313Z",
     "start_time": "2019-07-12T22:18:17.367381Z"
    }
   },
   "outputs": [],
   "source": [
    "df_train['arc_distance_miles_cuda'].sum(progress=True)"
   ]
  },
  {
   "cell_type": "code",
   "execution_count": null,
   "metadata": {
    "ExecuteTime": {
     "end_time": "2019-07-12T22:01:40.914882Z",
     "start_time": "2019-07-12T22:01:40.912847Z"
    }
   },
   "outputs": [],
   "source": [
    "# choose GPU or CPU\n",
    "df_train['arc_distance_miles'] = df_train['arc_distance_miles_cuda']\n",
    "# df_train['arc_distance_miles'] = df_train['arc_distance_miles_numpy']"
   ]
  },
  {
   "cell_type": "code",
   "execution_count": null,
   "metadata": {
    "ExecuteTime": {
     "end_time": "2019-07-12T22:01:48.235977Z",
     "start_time": "2019-07-12T22:01:48.097634Z"
    }
   },
   "outputs": [],
   "source": [
    "# direction of travel in degrees\n",
    "def direction_angle(theta_1, phi_1, theta_2, phi_2):\n",
    "    dtheta = theta_2 - theta_1\n",
    "    dphi = phi_2 - phi_1\n",
    "    radians = np.arctan2(dtheta, dphi)\n",
    "    return np.rad2deg(radians)\n",
    "\n",
    "# The direction of travel\n",
    "df_train['direction_angle'] = direction_angle(df_train.pickup_longitude, df_train.pickup_latitude, \n",
    "                                           df_train.dropoff_longitude, df_train.dropoff_latitude).jit_numba()"
   ]
  },
  {
   "cell_type": "code",
   "execution_count": null,
   "metadata": {
    "ExecuteTime": {
     "end_time": "2019-07-12T22:02:06.643293Z",
     "start_time": "2019-07-12T22:02:06.088426Z"
    }
   },
   "outputs": [],
   "source": [
    "# Examine the train DataFrame at this point \n",
    "df_train.head(10)"
   ]
  },
  {
   "cell_type": "markdown",
   "metadata": {},
   "source": [
    "### Encoding and transforming of features"
   ]
  },
  {
   "cell_type": "code",
   "execution_count": null,
   "metadata": {
    "ExecuteTime": {
     "end_time": "2019-07-12T22:03:26.426613Z",
     "start_time": "2019-07-12T22:02:39.744446Z"
    }
   },
   "outputs": [],
   "source": [
    "# PCA of the pickup and dropoff locations - helps to \"straighten out\" the coordinates\n",
    "\n",
    "# pickup transformations\n",
    "pca_pu = vaex.ml.PCA(features=['pickup_longitude', 'pickup_latitude'], n_components=2)\n",
    "df_train = pca_pu.fit_transform(df_train)\n",
    "\n",
    "# dropoff transformations\n",
    "pca_do = vaex.ml.PCA(features=['dropoff_longitude', 'dropoff_latitude'], n_components=2)\n",
    "df_train = pca_do.fit_transform(df_train)"
   ]
  },
  {
   "cell_type": "code",
   "execution_count": null,
   "metadata": {
    "ExecuteTime": {
     "end_time": "2019-07-12T22:04:05.825150Z",
     "start_time": "2019-07-12T22:03:26.429196Z"
    }
   },
   "outputs": [],
   "source": [
    "plt.figure(figsize=(14, 5))\n",
    "\n",
    "plt.subplot(121)\n",
    "plt.title('pickup - original')\n",
    "df_train.plot(df_train.pickup_longitude, df_train.pickup_latitude,\n",
    "           colormap='plasma', f='log1p', shape=256, colorbar=False)\n",
    "\n",
    "plt.subplot(122)\n",
    "plt.title('pickup - PCA transformed')\n",
    "df_train.plot(df_train.PCA_0, df_train.PCA_1,\n",
    "           colormap='plasma', f='log1p', shape=256, colorbar=False)\n",
    "\n",
    "plt.tight_layout()\n",
    "plt.show()"
   ]
  },
  {
   "cell_type": "code",
   "execution_count": null,
   "metadata": {
    "ExecuteTime": {
     "end_time": "2019-07-12T22:05:20.059113Z",
     "start_time": "2019-07-12T22:04:46.407177Z"
    }
   },
   "outputs": [],
   "source": [
    "# Inspect the payment_type\n",
    "df_train.payment_type.str.lower().value_counts(progress=True)"
   ]
  },
  {
   "cell_type": "markdown",
   "metadata": {},
   "source": [
    "Inspect the _payment_\\__type_\n",
    "From the documentation provided:\n",
    "- 1 = Credit card\n",
    "- 2 = Cash\n",
    "- 3 = No charge\n",
    "- 4 = Dispute\n",
    "- 5 = Unknown\n",
    "- 6 = Voided trip"
   ]
  },
  {
   "cell_type": "code",
   "execution_count": null,
   "metadata": {
    "ExecuteTime": {
     "end_time": "2019-07-12T22:06:08.004419Z",
     "start_time": "2019-07-12T22:05:43.277156Z"
    }
   },
   "outputs": [],
   "source": [
    "# Define a mapping dictionary\n",
    "map_payment_type = {'csh': 2, 'crd': 1, 'cash': 2, '1': 1, 'cas': 2, '2': 2, 'credit': 1, 'cre': 1, 'unk': 5, \n",
    "                    'noc': 3, 'no charge': 3, '3':3, 'dis': 4, 'no ': 3, '4': 4, 'dispute': 4, 'na ': 5, '5':5}\n",
    "\n",
    "df_train['payment_type_'] = df_train.payment_type.str.lower().map(map_payment_type, \n",
    "                                                                  default_value=-1, \n",
    "                                                                  allow_missing=True)"
   ]
  },
  {
   "cell_type": "code",
   "execution_count": null,
   "metadata": {
    "ExecuteTime": {
     "end_time": "2019-07-12T22:06:08.769827Z",
     "start_time": "2019-07-12T22:06:08.007070Z"
    }
   },
   "outputs": [],
   "source": [
    "# inspect the DataFrame\n",
    "df_train.head(5)"
   ]
  },
  {
   "cell_type": "markdown",
   "metadata": {},
   "source": [
    "### Setting up the predictor - `LightGBM`"
   ]
  },
  {
   "cell_type": "code",
   "execution_count": null,
   "metadata": {
    "ExecuteTime": {
     "end_time": "2019-07-12T22:06:18.369075Z",
     "start_time": "2019-07-12T22:06:18.366621Z"
    }
   },
   "outputs": [],
   "source": [
    "features_lgbm = ['passenger_count', 'trip_distance', 'rate_code', 'pu_hour', 'pu_day_of_week', 'pu_is_weekend', \n",
    "                 'arc_distance_miles', 'direction_angle', 'PCA_0', 'PCA_1', 'PCA_2', 'PCA_3', 'payment_type_']\n",
    "\n",
    "\n",
    "# the target\n",
    "target = 'trip_duration_min'"
   ]
  },
  {
   "cell_type": "code",
   "execution_count": null,
   "metadata": {
    "ExecuteTime": {
     "end_time": "2019-07-12T22:06:20.301061Z",
     "start_time": "2019-07-12T22:06:20.206583Z"
    }
   },
   "outputs": [],
   "source": [
    "# Import the modeling library\n",
    "import vaex.ml.lightgbm # vaex.ml also supports XGBoost, CatBoost, scikit-learn, annoy, more to come)"
   ]
  },
  {
   "cell_type": "code",
   "execution_count": null,
   "metadata": {
    "ExecuteTime": {
     "end_time": "2019-07-12T22:06:30.206071Z",
     "start_time": "2019-07-12T22:06:23.207971Z"
    }
   },
   "outputs": [],
   "source": [
    "# parameters - standard lightgbm options\n",
    "params = {\n",
    "    'learning_rate': 0.1,       \n",
    "    'max_depth': 5,             \n",
    "    'colsample_bytree': 0.8,\n",
    "    'subsample': 0.8,           \n",
    "    'reg_lambda': 1,            \n",
    "    'reg_alpha': 0,             \n",
    "    'min_child_weight': 1,      \n",
    "    'objective': 'regression',  \n",
    "    'random_state': 42,         \n",
    "    'n_jobs': -1} \n",
    "\n",
    "# Instantiate the model object\n",
    "booster = vaex.ml.lightgbm.LightGBMModel(features=features_lgbm, params=params, num_boost_round=100)\n",
    "\n",
    "# Take small part of the training set to we can do the training in real time fast\n",
    "df_train_mini = df_train[:1_000_000]\n",
    "\n",
    "# Fit the model object\n",
    "booster.fit(df_train_mini, target=target)\n",
    "\n",
    "print('Training completed!')"
   ]
  },
  {
   "cell_type": "code",
   "execution_count": null,
   "metadata": {
    "ExecuteTime": {
     "end_time": "2019-07-12T22:06:38.273177Z",
     "start_time": "2019-07-12T22:06:34.835123Z"
    }
   },
   "outputs": [],
   "source": [
    "# Check performance on the training set - in reality one needs to do proper (x)-validation\n",
    "\n",
    "# Classical predict - get an in-memory array of the predictions\n",
    "pred = booster.predict(df_train_mini)\n",
    "\n",
    "# view the predictions\n",
    "display(pred)\n",
    "\n",
    "# Create a virtual column housing the predictions\n",
    "df_train = booster.transform(df_train)\n",
    "\n",
    "# view the DataFrame\n",
    "df_train.head(5)"
   ]
  },
  {
   "cell_type": "code",
   "execution_count": null,
   "metadata": {
    "ExecuteTime": {
     "end_time": "2019-07-12T22:06:58.277713Z",
     "start_time": "2019-07-12T22:06:58.224524Z"
    }
   },
   "outputs": [],
   "source": [
    "# Check the performance\n",
    "from sklearn.metrics import mean_absolute_error, mean_squared_error\n",
    "\n",
    "mae_train_score = mean_absolute_error(df_train_mini.trip_duration_min.values, pred)\n",
    "mse_train_score = mean_squared_error(df_train_mini.trip_duration_min.values, pred)\n",
    "\n",
    "print('The mean absolute error is %2.3f' % mae_train_score)\n",
    "print('The mean squared score is %2.3f' % mse_train_score)"
   ]
  },
  {
   "cell_type": "markdown",
   "metadata": {},
   "source": [
    "### Second estimator?!"
   ]
  },
  {
   "cell_type": "code",
   "execution_count": null,
   "metadata": {
    "ExecuteTime": {
     "end_time": "2019-07-12T22:08:23.628625Z",
     "start_time": "2019-07-12T22:07:28.890236Z"
    }
   },
   "outputs": [],
   "source": [
    "# One hot encoding of categorical features\n",
    "one_hot_enc = vaex.ml.OneHotEncoder(features=['payment_type_', \n",
    "                                              'pu_hour', 'pu_day_of_week', 'pu_month'], prefix='onehot_')\n",
    "\n",
    "df_train = one_hot_enc.fit_transform(df_train)"
   ]
  },
  {
   "cell_type": "code",
   "execution_count": null,
   "metadata": {
    "ExecuteTime": {
     "end_time": "2019-07-12T22:09:26.389280Z",
     "start_time": "2019-07-12T22:08:23.631411Z"
    }
   },
   "outputs": [],
   "source": [
    "# Standard scale some of the numerical features\n",
    "standard_scaler = vaex.ml.StandardScaler(features=['arc_distance_miles', 'direction_angle', 'trip_distance'])\n",
    "df_train = standard_scaler.fit_transform(df_train)"
   ]
  },
  {
   "cell_type": "code",
   "execution_count": null,
   "metadata": {
    "ExecuteTime": {
     "end_time": "2019-07-12T22:09:26.455195Z",
     "start_time": "2019-07-12T22:09:26.393800Z"
    }
   },
   "outputs": [],
   "source": [
    "# Try a linear model\n",
    "import vaex.ml.sklearn\n",
    "from sklearn.linear_model import LinearRegression"
   ]
  },
  {
   "cell_type": "code",
   "execution_count": null,
   "metadata": {
    "ExecuteTime": {
     "end_time": "2019-07-12T22:09:26.465157Z",
     "start_time": "2019-07-12T22:09:26.458774Z"
    }
   },
   "outputs": [],
   "source": [
    "# Specify which features to use\n",
    "features_linear = ['PCA_0', 'PCA_1', 'PCA_2', 'PCA_3', 'pu_is_weekend'] + \\\n",
    "                  [feature for feature in df_train.get_column_names() if 'standard_scaled_' in feature] + \\\n",
    "                  [feature for feature in df_train.get_column_names() if 'onehot_' in feature]"
   ]
  },
  {
   "cell_type": "code",
   "execution_count": null,
   "metadata": {
    "ExecuteTime": {
     "end_time": "2019-07-12T22:09:36.972369Z",
     "start_time": "2019-07-12T22:09:26.468984Z"
    }
   },
   "outputs": [],
   "source": [
    "# Instantiate the vaex-sklearn model \n",
    "linear_model = vaex.ml.sklearn.SKLearnPredictor(model=LinearRegression(copy_X=False, n_jobs=-1), \n",
    "                                                features=features_linear, prediction_name='linear_prediction')\n",
    "\n",
    "# Agaom, take small part of the training so we can train in real time.\n",
    "df_train_mini = df_train[:1_000_000]\n",
    "\n",
    "\n",
    "# Fit the model object\n",
    "linear_model.fit(df_train_mini, target=target)\n",
    "\n",
    "print('Training completed!')"
   ]
  },
  {
   "cell_type": "code",
   "execution_count": null,
   "metadata": {
    "ExecuteTime": {
     "end_time": "2019-07-12T22:09:42.550155Z",
     "start_time": "2019-07-12T22:09:36.976455Z"
    }
   },
   "outputs": [],
   "source": [
    "# Check performance on the training set - in reality one needs to do proper (x)-validation\n",
    "\n",
    "# Classical predict - get an in-memory array of the predictions\n",
    "pred_linear = linear_model.predict(df_train_mini)\n",
    "\n",
    "# view the predictions\n",
    "display(pred_linear)\n",
    "\n",
    "# Create a virtual column housing the predictions\n",
    "df_train = linear_model.transform(df_train)\n",
    "\n",
    "# view the DataFrame \n",
    "df_train.head(5)"
   ]
  },
  {
   "cell_type": "code",
   "execution_count": null,
   "metadata": {
    "ExecuteTime": {
     "end_time": "2019-07-12T16:03:42.152930Z",
     "start_time": "2019-07-12T16:03:42.125755Z"
    }
   },
   "outputs": [],
   "source": [
    "mae_train_score = mean_absolute_error(df_train_mini.trip_duration_min.values, pred_linear)\n",
    "mse_train_score = mean_squared_error(df_train_mini.trip_duration_min.values, pred_linear)\n",
    "\n",
    "print('The mean absolute error is %2.3f' % mae_train_score)\n",
    "print('The mean squared score is %2.3f' % mse_train_score)"
   ]
  },
  {
   "cell_type": "markdown",
   "metadata": {},
   "source": [
    "### Ensemble?!"
   ]
  },
  {
   "cell_type": "code",
   "execution_count": null,
   "metadata": {
    "ExecuteTime": {
     "end_time": "2019-07-12T22:10:12.231122Z",
     "start_time": "2019-07-12T22:10:12.220418Z"
    }
   },
   "outputs": [],
   "source": [
    "# Average the predictions from the Gradient Boosting and Linear models\n",
    "df_train['final_prediction'] = (df_train.lightgbm_prediction + df_train.linear_prediction) / 2"
   ]
  },
  {
   "cell_type": "code",
   "execution_count": null,
   "metadata": {
    "ExecuteTime": {
     "end_time": "2019-07-12T22:10:15.546339Z",
     "start_time": "2019-07-12T22:10:14.272287Z"
    }
   },
   "outputs": [],
   "source": [
    "### Display the DataFrame\n",
    "df_train.head(5)"
   ]
  },
  {
   "cell_type": "code",
   "execution_count": null,
   "metadata": {
    "ExecuteTime": {
     "end_time": "2019-07-12T16:03:48.876216Z",
     "start_time": "2019-07-12T16:03:42.795715Z"
    }
   },
   "outputs": [],
   "source": [
    "mae_train_score = mean_absolute_error(df_train[:1_000_000].trip_duration_min.values, \n",
    "                                      df_train[:1_000_000].final_prediction.values)\n",
    "mse_train_score = mean_squared_error(df_train[:1_000_000].trip_duration_min.values, \n",
    "                                     df_train[:1_000_000].final_prediction.values)\n",
    "\n",
    "print('The mean absolute error is %2.3f' % mae_train_score)\n",
    "print('The mean squared score is %2.3f' % mse_train_score)"
   ]
  },
  {
   "cell_type": "markdown",
   "metadata": {},
   "source": [
    "### So what about a pipeline?"
   ]
  },
  {
   "cell_type": "markdown",
   "metadata": {},
   "source": [
    "## The `vaex` `state` – all the pipeline you need!"
   ]
  },
  {
   "cell_type": "code",
   "execution_count": null,
   "metadata": {
    "ExecuteTime": {
     "end_time": "2019-07-12T22:10:56.806468Z",
     "start_time": "2019-07-12T22:10:56.759713Z"
    }
   },
   "outputs": [],
   "source": [
    "# Save the state to disk\n",
    "state = df_train.state_write('./taxi_ml_state.json')"
   ]
  },
  {
   "cell_type": "code",
   "execution_count": null,
   "metadata": {},
   "outputs": [],
   "source": []
  },
  {
   "cell_type": "code",
   "execution_count": null,
   "metadata": {},
   "outputs": [],
   "source": []
  },
  {
   "cell_type": "code",
   "execution_count": null,
   "metadata": {},
   "outputs": [],
   "source": []
  },
  {
   "cell_type": "code",
   "execution_count": null,
   "metadata": {},
   "outputs": [],
   "source": []
  },
  {
   "cell_type": "code",
   "execution_count": null,
   "metadata": {},
   "outputs": [],
   "source": []
  },
  {
   "cell_type": "code",
   "execution_count": null,
   "metadata": {},
   "outputs": [],
   "source": []
  }
 ],
 "metadata": {
  "kernelspec": {
   "display_name": "Python 3",
   "language": "python",
   "name": "python3"
  },
  "language_info": {
   "codemirror_mode": {
    "name": "ipython",
    "version": 3
   },
   "file_extension": ".py",
   "mimetype": "text/x-python",
   "name": "python",
   "nbconvert_exporter": "python",
   "pygments_lexer": "ipython3",
   "version": "3.7.3"
  }
 },
 "nbformat": 4,
 "nbformat_minor": 2
}
