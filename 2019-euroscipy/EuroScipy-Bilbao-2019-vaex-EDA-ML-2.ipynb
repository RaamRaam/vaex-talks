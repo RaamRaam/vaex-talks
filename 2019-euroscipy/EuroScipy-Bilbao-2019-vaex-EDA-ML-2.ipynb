{
 "cells": [
  {
   "cell_type": "markdown",
   "metadata": {},
   "source": [
    "# `vaex` @ EuroScipy Bilbao 2019\n",
    "\n",
    "## New York Taxi Dataset (2009-2015): Exploratory Data Analysis and Machine Learning example"
   ]
  },
  {
   "cell_type": "code",
   "execution_count": null,
   "metadata": {
    "ExecuteTime": {
     "end_time": "2019-07-13T14:24:21.691991Z",
     "start_time": "2019-07-13T14:24:20.272393Z"
    }
   },
   "outputs": [],
   "source": [
    "import vaex"
   ]
  },
  {
   "cell_type": "markdown",
   "metadata": {},
   "source": [
    "### Read in the data"
   ]
  },
  {
   "cell_type": "code",
   "execution_count": null,
   "metadata": {
    "ExecuteTime": {
     "end_time": "2019-07-13T14:24:22.635940Z",
     "start_time": "2019-07-13T14:24:22.615666Z"
    }
   },
   "outputs": [],
   "source": [
    "df = vaex.open('/data/yellow_taxi_2009_2015_f32.hdf5')"
   ]
  },
  {
   "cell_type": "markdown",
   "metadata": {},
   "source": [
    "### Re-define the test set"
   ]
  },
  {
   "cell_type": "code",
   "execution_count": null,
   "metadata": {
    "ExecuteTime": {
     "end_time": "2019-07-13T14:24:24.438337Z",
     "start_time": "2019-07-13T14:24:24.427749Z"
    }
   },
   "outputs": [],
   "source": [
    "# The test set\n",
    "df_test = df[1_026_944_937:]"
   ]
  },
  {
   "cell_type": "markdown",
   "metadata": {},
   "source": [
    "### Inspect the test set"
   ]
  },
  {
   "cell_type": "code",
   "execution_count": null,
   "metadata": {
    "ExecuteTime": {
     "end_time": "2019-07-13T14:24:26.912697Z",
     "start_time": "2019-07-13T14:24:26.885873Z"
    }
   },
   "outputs": [],
   "source": [
    "df_test.head(10)"
   ]
  },
  {
   "cell_type": "markdown",
   "metadata": {},
   "source": [
    "### Load the _state_ into the test DataFrame"
   ]
  },
  {
   "cell_type": "code",
   "execution_count": null,
   "metadata": {
    "ExecuteTime": {
     "end_time": "2019-07-13T14:24:36.171089Z",
     "start_time": "2019-07-13T14:24:35.205251Z"
    }
   },
   "outputs": [],
   "source": [
    "# This is where the magic happens\n",
    "df_test.state_load('./taxi_ml_state.json')\n",
    "# df_test.state_load('./copy-taxi_ml_state.json') # in case we mess up (which never happens)"
   ]
  },
  {
   "cell_type": "code",
   "execution_count": null,
   "metadata": {
    "ExecuteTime": {
     "end_time": "2019-07-13T14:24:41.121719Z",
     "start_time": "2019-07-13T14:24:38.134295Z"
    },
    "scrolled": false
   },
   "outputs": [],
   "source": [
    "# Lets see what happened\n",
    "df_test.head(21)"
   ]
  },
  {
   "cell_type": "code",
   "execution_count": null,
   "metadata": {
    "ExecuteTime": {
     "end_time": "2019-07-13T14:25:03.224413Z",
     "start_time": "2019-07-13T14:24:59.624351Z"
    }
   },
   "outputs": [],
   "source": [
    "# Check the performance\n",
    "from sklearn.metrics import mean_absolute_error, mean_squared_error\n",
    "\n",
    "mae_test_score = mean_absolute_error(df_test[:1_000_000].trip_duration_min.values, \n",
    "                                     df_test[:1_000_000].final_prediction.values)\n",
    "mse_test_score = mean_squared_error(df_test[:1_000_000].trip_duration_min.values, \n",
    "                                    df_test[:1_000_000].final_prediction.values)\n",
    "\n",
    "print('The mean absolute error is %2.3f' % mae_test_score)\n",
    "print('The mean squared score is %2.3f' % mse_test_score)"
   ]
  },
  {
   "cell_type": "code",
   "execution_count": null,
   "metadata": {
    "ExecuteTime": {
     "end_time": "2019-07-13T14:25:04.060342Z",
     "start_time": "2019-07-13T14:25:04.057162Z"
    }
   },
   "outputs": [],
   "source": [
    "df_test.column_count()"
   ]
  },
  {
   "cell_type": "code",
   "execution_count": null,
   "metadata": {
    "ExecuteTime": {
     "end_time": "2019-07-12T11:04:27.371162Z",
     "start_time": "2019-07-12T11:04:27.255735Z"
    }
   },
   "outputs": [],
   "source": [
    "df_test.final_prediction._graphviz()"
   ]
  },
  {
   "cell_type": "code",
   "execution_count": null,
   "metadata": {
    "ExecuteTime": {
     "end_time": "2019-07-12T11:02:40.290653Z",
     "start_time": "2019-07-12T11:02:40.255966Z"
    }
   },
   "outputs": [],
   "source": [
    "df_test.state_get()"
   ]
  },
  {
   "cell_type": "markdown",
   "metadata": {},
   "source": [
    "## Thank you for your attention!"
   ]
  }
 ],
 "metadata": {
  "kernelspec": {
   "display_name": "Python 3",
   "language": "python",
   "name": "python3"
  },
  "language_info": {
   "codemirror_mode": {
    "name": "ipython",
    "version": 3
   },
   "file_extension": ".py",
   "mimetype": "text/x-python",
   "name": "python",
   "nbconvert_exporter": "python",
   "pygments_lexer": "ipython3",
   "version": "3.6.7"
  }
 },
 "nbformat": 4,
 "nbformat_minor": 2
}
