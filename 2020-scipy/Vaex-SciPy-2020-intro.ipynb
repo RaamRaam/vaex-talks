{
 "cells": [
  {
   "cell_type": "markdown",
   "metadata": {},
   "source": [
    "# Computer - desktop/server\n",
    " * AMD Ryzen Threadripper 3970X (32 cores, we will use 8 today)\n",
    " * 128GB RAM (it would happily work on 16-32GB)\n",
    " * Costs ~5k euro\n",
    " \n",
    "Notebook at https://github.com/vaexio/vaex-talks/tree/master/2020-scipy\n"
   ]
  },
  {
   "cell_type": "code",
   "execution_count": 1,
   "metadata": {
    "ExecuteTime": {
     "end_time": "2020-06-12T14:05:08.025284Z",
     "start_time": "2020-06-12T14:05:07.947148Z"
    }
   },
   "outputs": [],
   "source": [
    "import warnings;\n",
    "warnings.simplefilter('ignore')\n",
    "import matplotlib\n",
    "matplotlib.rcParams['figure.dpi'] = 120"
   ]
  },
  {
   "cell_type": "markdown",
   "metadata": {},
   "source": [
    "# Opening files"
   ]
  },
  {
   "cell_type": "code",
   "execution_count": 2,
   "metadata": {
    "ExecuteTime": {
     "end_time": "2020-06-12T14:05:10.916660Z",
     "start_time": "2020-06-12T14:05:10.473795Z"
    },
    "execution": {
     "iopub.execute_input": "2020-06-12T08:42:35.255774Z",
     "iopub.status.busy": "2020-06-12T08:42:35.255636Z",
     "iopub.status.idle": "2020-06-12T08:42:35.258492Z",
     "shell.execute_reply": "2020-06-12T08:42:35.258093Z",
     "shell.execute_reply.started": "2020-06-12T08:42:35.255761Z"
    }
   },
   "outputs": [],
   "source": [
    "import vaex\n",
    "import numpy as np\n",
    "vaex.multithreading.thread_count_default = 8"
   ]
  },
  {
   "cell_type": "code",
   "execution_count": 3,
   "metadata": {
    "ExecuteTime": {
     "end_time": "2020-06-12T14:05:12.920605Z",
     "start_time": "2020-06-12T14:05:12.803875Z"
    },
    "execution": {
     "iopub.execute_input": "2020-06-12T08:42:36.704858Z",
     "iopub.status.busy": "2020-06-12T08:42:36.704703Z",
     "iopub.status.idle": "2020-06-12T08:42:36.870759Z",
     "shell.execute_reply": "2020-06-12T08:42:36.870018Z",
     "shell.execute_reply.started": "2020-06-12T08:42:36.704840Z"
    }
   },
   "outputs": [
    {
     "name": "stdout",
     "output_type": "stream",
     "text": [
      "-rw-r--r-- 1 maartenbreddels adm 1,2T mei  4 16:21 /data/gaia/gaia-dr2-sort-by-source_id.hdf5\r\n"
     ]
    }
   ],
   "source": [
    "!ls -alh /data/gaia/gaia-dr2-sort-by-source_id.hdf5"
   ]
  },
  {
   "cell_type": "code",
   "execution_count": 6,
   "metadata": {
    "ExecuteTime": {
     "end_time": "2020-06-12T14:05:31.211522Z",
     "start_time": "2020-06-12T14:05:31.120018Z"
    },
    "execution": {
     "iopub.execute_input": "2020-06-12T08:42:37.769517Z",
     "iopub.status.busy": "2020-06-12T08:42:37.769287Z",
     "iopub.status.idle": "2020-06-12T08:42:37.862272Z",
     "shell.execute_reply": "2020-06-12T08:42:37.861849Z",
     "shell.execute_reply.started": "2020-06-12T08:42:37.769489Z"
    }
   },
   "outputs": [
    {
     "data": {
      "text/html": [
       "<table>\n",
       "<thead>\n",
       "<tr><th>#                                        </th><th>solution_id        </th><th>designation                    </th><th>source_id          </th><th>random_index  </th><th>ref_epoch  </th><th>ra                </th><th>ra_error            </th><th>dec                  </th><th>dec_error          </th><th>parallax           </th><th>parallax_error     </th><th>parallax_over_error  </th><th>pmra              </th><th>pmra_error         </th><th>pmdec              </th><th>pmdec_error        </th><th>ra_dec_corr        </th><th>ra_parallax_corr  </th><th>ra_pmra_corr  </th><th>ra_pmdec_corr  </th><th>dec_parallax_corr   </th><th>dec_pmra_corr       </th><th>dec_pmdec_corr     </th><th>parallax_pmra_corr  </th><th>parallax_pmdec_corr  </th><th>pmra_pmdec_corr     </th><th>astrometric_n_obs_al  </th><th>astrometric_n_obs_ac  </th><th>astrometric_n_good_obs_al  </th><th>astrometric_n_bad_obs_al  </th><th>astrometric_gof_al  </th><th>astrometric_chi2_al  </th><th>astrometric_excess_noise  </th><th>astrometric_excess_noise_sig  </th><th>astrometric_params_solved  </th><th>astrometric_primary_flag  </th><th>astrometric_weight_al  </th><th>astrometric_pseudo_colour  </th><th>astrometric_pseudo_colour_error  </th><th>mean_varpi_factor_al  </th><th>astrometric_matched_observations  </th><th>visibility_periods_used  </th><th>astrometric_sigma5d_max  </th><th>frame_rotator_object_type  </th><th>matched_observations  </th><th>duplicated_source  </th><th>phot_g_n_obs  </th><th>phot_g_mean_flux  </th><th>phot_g_mean_flux_error  </th><th>phot_g_mean_flux_over_error  </th><th>phot_g_mean_mag  </th><th>phot_bp_n_obs  </th><th>phot_bp_mean_flux  </th><th>phot_bp_mean_flux_error  </th><th>phot_bp_mean_flux_over_error  </th><th>phot_bp_mean_mag  </th><th>phot_rp_n_obs  </th><th>phot_rp_mean_flux  </th><th>phot_rp_mean_flux_error  </th><th>phot_rp_mean_flux_over_error  </th><th>phot_rp_mean_mag  </th><th>phot_bp_rp_excess_factor  </th><th>phot_proc_mode  </th><th>bp_rp    </th><th>bp_g              </th><th>g_rp              </th><th>radial_velocity  </th><th>radial_velocity_error  </th><th>rv_nb_transits  </th><th>rv_template_teff  </th><th>rv_template_logg  </th><th>rv_template_fe_h  </th><th>phot_variable_flag  </th><th>l                 </th><th>b                  </th><th>ecl_lon           </th><th>ecl_lat            </th><th>priam_flags  </th><th>teff_val  </th><th>teff_percentile_lower  </th><th>teff_percentile_upper  </th><th>a_g_val  </th><th>a_g_percentile_lower  </th><th>a_g_percentile_upper  </th><th>e_bp_min_rp_val  </th><th>e_bp_min_rp_percentile_lower  </th><th>e_bp_min_rp_percentile_upper  </th><th>flame_flags  </th><th>radius_val  </th><th>radius_percentile_lower  </th><th>radius_percentile_upper  </th><th>lum_val   </th><th>lum_percentile_lower  </th><th>lum_percentile_upper  </th></tr>\n",
       "</thead>\n",
       "<tbody>\n",
       "<tr><td><i style='opacity: 0.6'>0</i>            </td><td>1635721458409799680</td><td>b&#x27;Gaia DR2 4295806720&#x27;         </td><td>4295806720         </td><td>833719442     </td><td>2015.5     </td><td>44.9961536841596  </td><td>0.119381727827906   </td><td>0.005615806210679649 </td><td>0.12287249077395065</td><td>0.07144782399869501</td><td>0.16248493485095816</td><td>0.43971968           </td><td>11.733411429340324</td><td>0.2431241681877592 </td><td>-4.7759340851709   </td><td>0.2389884371856387 </td><td>0.022670548        </td><td>0.27376112        </td><td>-0.061221834  </td><td>0.09342154     </td><td>-0.43380169999999996</td><td>-0.10258209         </td><td>-0.23457742        </td><td>0.2862106           </td><td>0.24838115           </td><td>0.30606467          </td><td>107                   </td><td>0                     </td><td>106                        </td><td>1                         </td><td>1.6358627000000001  </td><td>125.30832            </td><td>0.0                       </td><td>0.0                           </td><td>31                         </td><td>False                     </td><td>1.6281219999999998     </td><td>1.6129292688600716         </td><td>0.03975095740667449              </td><td>0.026966427           </td><td>13                                </td><td>10                       </td><td>0.25016737               </td><td>0                          </td><td>13                    </td><td>False              </td><td>103           </td><td>1635.9507708728468</td><td>2.7757613305963007      </td><td>589.3701                     </td><td>17.65394         </td><td>10             </td><td>785.6408778060331  </td><td>8.304744041442405        </td><td>94.601456                     </td><td>18.113329         </td><td>11             </td><td>1205.3932347369573 </td><td>12.695619867587247       </td><td>94.9456                       </td><td>17.059097         </td><td>1.2170502                 </td><td>0               </td><td>1.0542316</td><td>0.45938873        </td><td>0.5948429000000001</td><td>nan              </td><td>nan                    </td><td>0               </td><td>nan               </td><td>nan               </td><td>nan               </td><td>b&#x27;NOT_AVAILABLE&#x27;    </td><td>176.9510737567222 </td><td>-48.901521688994805</td><td>42.5337243367526  </td><td>-16.32957311107743 </td><td>nan          </td><td>nan       </td><td>nan                    </td><td>nan                    </td><td>nan      </td><td>nan                   </td><td>nan                   </td><td>nan              </td><td>nan                           </td><td>nan                           </td><td>nan          </td><td>nan         </td><td>nan                      </td><td>nan                      </td><td>nan       </td><td>nan                   </td><td>nan                   </td></tr>\n",
       "<tr><td><i style='opacity: 0.6'>1</i>            </td><td>1635721458409799680</td><td>b&#x27;Gaia DR2 34361129088&#x27;        </td><td>34361129088        </td><td>1253687186    </td><td>2015.5     </td><td>45.00431616420765 </td><td>0.13221516031053107 </td><td>0.021045032689712983 </td><td>0.15033009946029466</td><td>3.48677407917816   </td><td>0.1943677537725032 </td><td>17.939056            </td><td>30.2997273525487  </td><td>0.2890571540060363 </td><td>20.102047674607906 </td><td>0.2904121164006919 </td><td>0.06490505         </td><td>0.10328879        </td><td>-3.8125843e-05</td><td>0.010977124    </td><td>-0.5181503          </td><td>-0.15682727         </td><td>-0.25213727        </td><td>0.25715247          </td><td>0.36133286           </td><td>0.21847394          </td><td>97                    </td><td>0                     </td><td>97                         </td><td>0                         </td><td>3.1044097           </td><td>139.97816            </td><td>0.4393295485806768        </td><td>2.2560181660871423            </td><td>31                         </td><td>False                     </td><td>1.285051               </td><td>1.3322381786391089         </td><td>0.043729691466259976             </td><td>0.030602371           </td><td>11                                </td><td>9                        </td><td>0.29393765               </td><td>0                          </td><td>11                    </td><td>False              </td><td>96            </td><td>1712.9128925457007</td><td>3.0338739347619077      </td><td>564.59595                    </td><td>17.604027        </td><td>11             </td><td>397.3368347119427  </td><td>13.369227259151073       </td><td>29.720254999999998            </td><td>18.85349          </td><td>10             </td><td>2155.4795941459947 </td><td>8.25350128363993         </td><td>261.15942                     </td><td>16.428060000000002</td><td>1.4903364                 </td><td>0               </td><td>2.4254303</td><td>1.249464          </td><td>1.1759663         </td><td>nan              </td><td>nan                    </td><td>0               </td><td>nan               </td><td>nan               </td><td>nan               </td><td>b&#x27;NOT_AVAILABLE&#x27;    </td><td>176.94278716312405</td><td>-48.88493841774036 </td><td>42.54656815575859 </td><td>-16.317213719979975</td><td>nan          </td><td>nan       </td><td>nan                    </td><td>nan                    </td><td>nan      </td><td>nan                   </td><td>nan                   </td><td>nan              </td><td>nan                           </td><td>nan                           </td><td>nan          </td><td>nan         </td><td>nan                      </td><td>nan                      </td><td>nan       </td><td>nan                   </td><td>nan                   </td></tr>\n",
       "<tr><td><i style='opacity: 0.6'>2</i>            </td><td>1635721458409799680</td><td>b&#x27;Gaia DR2 38655544960&#x27;        </td><td>38655544960        </td><td>1168973894    </td><td>2015.5     </td><td>45.004974244984105</td><td>0.029723176168001464</td><td>0.019877000365797717 </td><td>0.0398615194906984 </td><td>3.1212565825574363 </td><td>0.04667520041451068</td><td>66.87184             </td><td>29.669773387717747</td><td>0.07106567711614904</td><td>19.225962799772443 </td><td>0.08279741152631212</td><td>0.11690165         </td><td>0.2090516         </td><td>-0.14794418   </td><td>-0.082815714   </td><td>-0.6151166          </td><td>-0.4523399          </td><td>-0.59776425        </td><td>0.45273238          </td><td>0.47702566           </td><td>0.595477            </td><td>104                   </td><td>0                     </td><td>104                        </td><td>0                         </td><td>-2.2898765          </td><td>69.61933             </td><td>0.0                       </td><td>0.0                           </td><td>31                         </td><td>False                     </td><td>54.20531999999999      </td><td>1.5148504032402288         </td><td>0.010003998099121137             </td><td>0.07058261            </td><td>12                                </td><td>9                        </td><td>0.10163828               </td><td>0                          </td><td>12                    </td><td>False              </td><td>103           </td><td>41605.42089500058 </td><td>18.392505474272053      </td><td>2262.0854                    </td><td>14.140491        </td><td>11             </td><td>17692.585419434203 </td><td>53.957682875030116       </td><td>327.89743                     </td><td>14.731910000000001</td><td>11             </td><td>34351.87449020634  </td><td>58.427462958732775       </td><td>587.94055                     </td><td>13.422044         </td><td>1.2509058000000002        </td><td>0               </td><td>1.309866 </td><td>0.5914191999999999</td><td>0.71844673        </td><td>nan              </td><td>nan                    </td><td>0               </td><td>nan               </td><td>nan               </td><td>nan               </td><td>b&#x27;NOT_AVAILABLE&#x27;    </td><td>176.94476069003898</td><td>-48.88527495232597 </td><td>42.54686709098933 </td><td>-16.318523323705843</td><td>100001.0     </td><td>4962.0    </td><td>4770.505               </td><td>5050.6665              </td><td>0.032    </td><td>0.0149                </td><td>0.2091                </td><td>0.016            </td><td>0.0069                        </td><td>0.0728                        </td><td>200111.0     </td><td>0.5863995   </td><td>0.5659911999999999       </td><td>0.63442224               </td><td>0.18780576</td><td>0.18156888            </td><td>0.19404264            </td></tr>\n",
       "<tr><td><i style='opacity: 0.6'>3</i>            </td><td>1635721458409799680</td><td>b&#x27;Gaia DR2 309238066432&#x27;       </td><td>309238066432       </td><td>716364491     </td><td>2015.5     </td><td>44.99503703932583 </td><td>0.3748451704441453  </td><td>0.03815183599451371  </td><td>0.354580932399439  </td><td>1.5788410668677395 </td><td>0.4509078829430168 </td><td>3.5014714999999996   </td><td>0.9185563546406772</td><td>0.8071335238976993 </td><td>-0.4685586426340295</td><td>0.7201817396537079 </td><td>0.042778816        </td><td>0.14737031        </td><td>-0.08400111   </td><td>0.071659945    </td><td>-0.175486           </td><td>0.009628623000000001</td><td>-0.06346788        </td><td>0.19779278          </td><td>0.17691185           </td><td>0.061723847000000005</td><td>114                   </td><td>0                     </td><td>114                        </td><td>0                         </td><td>-0.38584504         </td><td>102.75944            </td><td>0.0                       </td><td>0.0                           </td><td>31                         </td><td>False                     </td><td>0.1383114              </td><td>1.2159144402017843         </td><td>0.1151187960793006               </td><td>-0.07122756           </td><td>13                                </td><td>10                       </td><td>0.71777946               </td><td>0                          </td><td>13                    </td><td>False              </td><td>114           </td><td>263.32165329152957</td><td>1.644274128985754       </td><td>160.14462                    </td><td>19.63715         </td><td>9              </td><td>50.62248230415713  </td><td>4.981187273921231        </td><td>10.162734                     </td><td>21.090529999999998</td><td>9              </td><td>355.4098452181598  </td><td>7.532196715416053        </td><td>47.185417                     </td><td>18.385096         </td><td>1.5419633                 </td><td>0               </td><td>2.7054348</td><td>1.4533806         </td><td>1.2520542         </td><td>nan              </td><td>nan                    </td><td>0               </td><td>nan               </td><td>nan               </td><td>nan               </td><td>b&#x27;NOT_AVAILABLE&#x27;    </td><td>176.91426520135354</td><td>-48.87974729251865 </td><td>42.54254808202412 </td><td>-16.29813865533474 </td><td>nan          </td><td>nan       </td><td>nan                    </td><td>nan                    </td><td>nan      </td><td>nan                   </td><td>nan                   </td><td>nan              </td><td>nan                           </td><td>nan                           </td><td>nan          </td><td>nan         </td><td>nan                      </td><td>nan                      </td><td>nan       </td><td>nan                   </td><td>nan                   </td></tr>\n",
       "<tr><td><i style='opacity: 0.6'>4</i>            </td><td>1635721458409799680</td><td>b&#x27;Gaia DR2 343597448960&#x27;       </td><td>343597448960       </td><td>1007197339    </td><td>2015.5     </td><td>44.963895325304286</td><td>0.1672591368280593  </td><td>0.04359518482272568  </td><td>0.15843084907464913</td><td>0.1124232337595906 </td><td>0.19677095501039435</td><td>0.5713406            </td><td>6.778646355438693 </td><td>0.34015943821418143</td><td>-1.5922073291150058</td><td>0.3142620551370774 </td><td>0.095711425        </td><td>0.25192115        </td><td>-0.09463473   </td><td>0.11687218     </td><td>-0.14148766         </td><td>0.10662418          </td><td>0.001552241        </td><td>0.1539189           </td><td>0.0099432925         </td><td>0.1900829           </td><td>114                   </td><td>0                     </td><td>111                        </td><td>3                         </td><td>0.7612909000000001  </td><td>116.762924           </td><td>0.4379146032596523        </td><td>1.164799959704128             </td><td>31                         </td><td>False                     </td><td>0.7568838999999999     </td><td>1.5231059896314436         </td><td>0.0485359898688584               </td><td>0.009498954           </td><td>13                                </td><td>9                        </td><td>0.31823537               </td><td>0                          </td><td>13                    </td><td>False              </td><td>109           </td><td>1037.4128672255997</td><td>2.2948097285863445      </td><td>452.06924000000004           </td><td>18.148487        </td><td>9              </td><td>446.11647691960206 </td><td>12.472760208872558       </td><td>35.76726                      </td><td>18.727767999999998</td><td>10             </td><td>851.5124585934102  </td><td>10.580999260922557       </td><td>80.47561999999999             </td><td>17.436443         </td><td>1.2508317                 </td><td>0               </td><td>1.2913246</td><td>0.57928085        </td><td>0.71204376        </td><td>nan              </td><td>nan                    </td><td>0               </td><td>nan               </td><td>nan               </td><td>nan               </td><td>b&#x27;NOT_AVAILABLE&#x27;    </td><td>176.8754231026413 </td><td>-48.89837989670807 </td><td>42.513191444633726</td><td>-16.28380551789907 </td><td>nan          </td><td>nan       </td><td>nan                    </td><td>nan                    </td><td>nan      </td><td>nan                   </td><td>nan                   </td><td>nan              </td><td>nan                           </td><td>nan                           </td><td>nan          </td><td>nan         </td><td>nan                      </td><td>nan                      </td><td>nan       </td><td>nan                   </td><td>nan                   </td></tr>\n",
       "<tr><td>...                                      </td><td>...                </td><td>...                            </td><td>...                </td><td>...           </td><td>...        </td><td>...               </td><td>...                 </td><td>...                  </td><td>...                </td><td>...                </td><td>...                </td><td>...                  </td><td>...               </td><td>...                </td><td>...                </td><td>...                </td><td>...                </td><td>...               </td><td>...           </td><td>...            </td><td>...                 </td><td>...                 </td><td>...                </td><td>...                 </td><td>...                  </td><td>...                 </td><td>...                   </td><td>...                   </td><td>...                        </td><td>...                       </td><td>...                 </td><td>...                  </td><td>...                       </td><td>...                           </td><td>...                        </td><td>...                       </td><td>...                    </td><td>...                        </td><td>...                              </td><td>...                   </td><td>...                               </td><td>...                      </td><td>...                      </td><td>...                        </td><td>...                   </td><td>...                </td><td>...           </td><td>...               </td><td>...                     </td><td>...                          </td><td>...              </td><td>...            </td><td>...                </td><td>...                      </td><td>...                           </td><td>...               </td><td>...            </td><td>...                </td><td>...                      </td><td>...                           </td><td>...               </td><td>...                       </td><td>...             </td><td>...      </td><td>...               </td><td>...               </td><td>...              </td><td>...                    </td><td>...             </td><td>...               </td><td>...               </td><td>...               </td><td>...                 </td><td>...               </td><td>...                </td><td>...               </td><td>...                </td><td>...          </td><td>...       </td><td>...                    </td><td>...                    </td><td>...      </td><td>...                   </td><td>...                   </td><td>...              </td><td>...                           </td><td>...                           </td><td>...          </td><td>...         </td><td>...                      </td><td>...                      </td><td>...       </td><td>...                   </td><td>...                   </td></tr>\n",
       "<tr><td><i style='opacity: 0.6'>1,692,919,130</i></td><td>1635721458409799680</td><td>b&#x27;Gaia DR2 6917528963217645568&#x27;</td><td>6917528963217645568</td><td>711904833     </td><td>2015.5     </td><td>314.98351260118864</td><td>6.1917502919260725  </td><td>-0.017961413757040568</td><td>1.9976645630944625 </td><td>nan                </td><td>nan                </td><td>nan                  </td><td>nan               </td><td>nan                </td><td>nan                </td><td>nan                </td><td>-0.9468261999999998</td><td>nan               </td><td>nan           </td><td>nan            </td><td>nan                 </td><td>nan                 </td><td>nan                </td><td>nan                 </td><td>nan                  </td><td>nan                 </td><td>256                   </td><td>0                     </td><td>255                        </td><td>1                         </td><td>0.09006713          </td><td>251.34973            </td><td>0.0                       </td><td>0.0                           </td><td>3                          </td><td>False                     </td><td>0.035857863999999996   </td><td>nan                        </td><td>nan                              </td><td>-0.18235932           </td><td>30                                </td><td>6                        </td><td>13.550334                </td><td>0                          </td><td>36                    </td><td>False              </td><td>276           </td><td>130.46916462266304</td><td>0.8370730500448316      </td><td>155.86354                    </td><td>20.399595        </td><td>0              </td><td>nan                </td><td>nan                      </td><td>nan                           </td><td>nan               </td><td>0              </td><td>nan                </td><td>nan                      </td><td>nan                           </td><td>nan               </td><td>nan                       </td><td>2               </td><td>nan      </td><td>nan               </td><td>nan               </td><td>nan              </td><td>nan                    </td><td>0               </td><td>nan               </td><td>nan               </td><td>nan               </td><td>b&#x27;NOT_AVAILABLE&#x27;    </td><td>48.891138199898776</td><td>-28.255063825226554</td><td>317.44227847436525</td><td>16.323719462219874 </td><td>nan          </td><td>nan       </td><td>nan                    </td><td>nan                    </td><td>nan      </td><td>nan                   </td><td>nan                   </td><td>nan              </td><td>nan                           </td><td>nan                           </td><td>nan          </td><td>nan         </td><td>nan                      </td><td>nan                      </td><td>nan       </td><td>nan                   </td><td>nan                   </td></tr>\n",
       "<tr><td><i style='opacity: 0.6'>1,692,919,131</i></td><td>1635721458409799680</td><td>b&#x27;Gaia DR2 6917528993281571840&#x27;</td><td>6917528993281571840</td><td>1057759634    </td><td>2015.5     </td><td>314.9904017564393 </td><td>0.2686243051566997  </td><td>-0.008367585301478679</td><td>0.13220884263955485</td><td>0.9767377244025096 </td><td>0.20966425878115624</td><td>4.658580000000001    </td><td>-8.789568499444613</td><td>0.6024182711252432 </td><td>-9.887007450999603 </td><td>0.3609798630506912 </td><td>-0.71226794        </td><td>-0.32785413       </td><td>-0.79407966   </td><td>0.67225677     </td><td>0.6483722           </td><td>0.66855806          </td><td>-0.88509864        </td><td>0.31642532          </td><td>-0.57081836          </td><td>-0.71771705         </td><td>288                   </td><td>0                     </td><td>286                        </td><td>2                         </td><td>0.15602541          </td><td>284.04306            </td><td>0.10468895650873274       </td><td>0.1926633779846534            </td><td>31                         </td><td>False                     </td><td>1.5025905000000002     </td><td>1.4398141313394808         </td><td>0.024217901524240717             </td><td>-0.18079054           </td><td>33                                </td><td>7                        </td><td>0.6392459                </td><td>0                          </td><td>35                    </td><td>False              </td><td>300           </td><td>1708.7844181229475</td><td>1.7183001457312599      </td><td>994.4621                     </td><td>17.606647        </td><td>0              </td><td>nan                </td><td>nan                      </td><td>nan                           </td><td>nan               </td><td>0              </td><td>nan                </td><td>nan                      </td><td>nan                           </td><td>nan               </td><td>nan                       </td><td>2               </td><td>nan      </td><td>nan               </td><td>nan               </td><td>nan              </td><td>nan                    </td><td>0               </td><td>nan               </td><td>nan               </td><td>nan               </td><td>b&#x27;NOT_AVAILABLE&#x27;    </td><td>48.90450543399686 </td><td>-28.25599336436905 </td><td>317.4520713869125 </td><td>16.330873481856276 </td><td>nan          </td><td>nan       </td><td>nan                    </td><td>nan                    </td><td>nan      </td><td>nan                   </td><td>nan                   </td><td>nan              </td><td>nan                           </td><td>nan                           </td><td>nan          </td><td>nan         </td><td>nan                      </td><td>nan                      </td><td>nan       </td><td>nan                   </td><td>nan                   </td></tr>\n",
       "<tr><td><i style='opacity: 0.6'>1,692,919,132</i></td><td>1635721458409799680</td><td>b&#x27;Gaia DR2 6917528993281819008&#x27;</td><td>6917528993281819008</td><td>49260802      </td><td>2015.5     </td><td>315.00503877002456</td><td>0.9552057496355612  </td><td>-0.005736736411478651</td><td>0.4779456781063856 </td><td>-0.1827374708936312</td><td>0.6920683360998278 </td><td>-0.26404542          </td><td>-2.893619483581229</td><td>2.08879809691233   </td><td>-10.430692969558967</td><td>1.3486921231345796 </td><td>-0.6087746         </td><td>-0.27599064       </td><td>-0.81443137   </td><td>0.5377084      </td><td>0.5961895           </td><td>0.5714225           </td><td>-0.9083530000000001</td><td>0.24399203          </td><td>-0.50589395          </td><td>-0.5980193          </td><td>262                   </td><td>0                     </td><td>260                        </td><td>2                         </td><td>0.8898790000000001  </td><td>274.92728            </td><td>0.0                       </td><td>0.0                           </td><td>31                         </td><td>False                     </td><td>0.15255077             </td><td>1.4387809895123045         </td><td>0.08102495521913795              </td><td>-0.17755668           </td><td>30                                </td><td>7                        </td><td>2.18716                  </td><td>0                          </td><td>32                    </td><td>False              </td><td>276           </td><td>334.30089812181717</td><td>1.2490521307085771      </td><td>267.64367999999996           </td><td>19.378021        </td><td>0              </td><td>nan                </td><td>nan                      </td><td>nan                           </td><td>nan               </td><td>0              </td><td>nan                </td><td>nan                      </td><td>nan                           </td><td>nan               </td><td>nan                       </td><td>2               </td><td>nan      </td><td>nan               </td><td>nan               </td><td>nan              </td><td>nan                    </td><td>0               </td><td>nan               </td><td>nan               </td><td>nan               </td><td>b&#x27;NOT_AVAILABLE&#x27;    </td><td>48.915662985463   </td><td>-28.26715505980319 </td><td>317.46745740038915</td><td>16.329098939790963 </td><td>nan          </td><td>nan       </td><td>nan                    </td><td>nan                    </td><td>nan      </td><td>nan                   </td><td>nan                   </td><td>nan              </td><td>nan                           </td><td>nan                           </td><td>nan          </td><td>nan         </td><td>nan                      </td><td>nan                      </td><td>nan       </td><td>nan                   </td><td>nan                   </td></tr>\n",
       "<tr><td><i style='opacity: 0.6'>1,692,919,133</i></td><td>1635721458409799680</td><td>b&#x27;Gaia DR2 6917528993283204480&#x27;</td><td>6917528993283204480</td><td>916652582     </td><td>2015.5     </td><td>314.9990508711522 </td><td>1.0200557955731553  </td><td>-0.002570580482067311</td><td>0.4785034535013264 </td><td>1.1944658684106606 </td><td>0.7390532046807501 </td><td>1.6162108999999998   </td><td>-4.969626151660421</td><td>2.3067588023833188 </td><td>-3.8381494703152055</td><td>1.3348034677367284 </td><td>-0.6952682         </td><td>-0.19890665       </td><td>-0.81487304   </td><td>0.6605273      </td><td>0.5953058000000001  </td><td>0.6642836999999999  </td><td>-0.8895016         </td><td>0.19809727          </td><td>-0.5282448000000001  </td><td>-0.72904134         </td><td>270                   </td><td>9                     </td><td>268                        </td><td>2                         </td><td>-0.077295646        </td><td>260.5681             </td><td>0.0                       </td><td>0.0                           </td><td>31                         </td><td>False                     </td><td>0.1274624              </td><td>1.4639756577435132         </td><td>0.09127171084755213              </td><td>-0.18912020000000002  </td><td>31                                </td><td>7                        </td><td>2.3505502000000003       </td><td>0                          </td><td>33                    </td><td>False              </td><td>283           </td><td>284.94374839895426</td><td>1.2279312655182504      </td><td>232.05186                    </td><td>19.551468        </td><td>0              </td><td>nan                </td><td>nan                      </td><td>nan                           </td><td>nan               </td><td>0              </td><td>nan                </td><td>nan                      </td><td>nan                           </td><td>nan               </td><td>nan                       </td><td>2               </td><td>nan      </td><td>nan               </td><td>nan               </td><td>nan              </td><td>nan                    </td><td>0               </td><td>nan               </td><td>nan               </td><td>nan               </td><td>b&#x27;NOT_AVAILABLE&#x27;    </td><td>48.91521924800499 </td><td>-28.26039290592401 </td><td>317.4624588295149 </td><td>16.333881134855314 </td><td>nan          </td><td>nan       </td><td>nan                    </td><td>nan                    </td><td>nan      </td><td>nan                   </td><td>nan                   </td><td>nan              </td><td>nan                           </td><td>nan                           </td><td>nan          </td><td>nan         </td><td>nan                      </td><td>nan                      </td><td>nan       </td><td>nan                   </td><td>nan                   </td></tr>\n",
       "<tr><td><i style='opacity: 0.6'>1,692,919,134</i></td><td>1635721458409799680</td><td>b&#x27;Gaia DR2 6917528997577384320&#x27;</td><td>6917528997577384320</td><td>776446853     </td><td>2015.5     </td><td>315.00363653770665</td><td>0.5569226827403532  </td><td>-0.006758168913672078</td><td>0.2820440565211547 </td><td>1.9776835145839613 </td><td>0.4707730790922877 </td><td>4.2009273            </td><td>10.168637963656453</td><td>1.3243511199805955 </td><td>-4.6319503374116335</td><td>0.7670280680975615 </td><td>-0.7069446999999999</td><td>-0.3524638        </td><td>-0.7288846    </td><td>0.64234614     </td><td>0.6655390999999999  </td><td>0.64305264          </td><td>-0.8681120000000001</td><td>0.35158044          </td><td>-0.5439387           </td><td>-0.6995311          </td><td>267                   </td><td>0                     </td><td>267                        </td><td>0                         </td><td>5.658867            </td><td>413.15482000000003   </td><td>0.7578628201652942        </td><td>2.9604550451112943            </td><td>31                         </td><td>False                     </td><td>0.34310368             </td><td>1.3329285827339423         </td><td>0.05324715704124628              </td><td>-0.18852596           </td><td>31                                </td><td>7                        </td><td>1.3650335                </td><td>0                          </td><td>33                    </td><td>False              </td><td>286           </td><td>691.5784446136888 </td><td>1.5703237685944336      </td><td>440.405                      </td><td>18.588762        </td><td>0              </td><td>nan                </td><td>nan                      </td><td>nan                           </td><td>nan               </td><td>0              </td><td>nan                </td><td>nan                      </td><td>nan                           </td><td>nan               </td><td>nan                       </td><td>2               </td><td>nan      </td><td>nan               </td><td>nan               </td><td>nan              </td><td>nan                    </td><td>0               </td><td>nan               </td><td>nan               </td><td>nan               </td><td>b&#x27;NOT_AVAILABLE&#x27;    </td><td>48.91384657658588 </td><td>-28.266484088273092</td><td>317.4657484276085 </td><td>16.32853338725998  </td><td>nan          </td><td>nan       </td><td>nan                    </td><td>nan                    </td><td>nan      </td><td>nan                   </td><td>nan                   </td><td>nan              </td><td>nan                           </td><td>nan                           </td><td>nan          </td><td>nan         </td><td>nan                      </td><td>nan                      </td><td>nan       </td><td>nan                   </td><td>nan                   </td></tr>\n",
       "</tbody>\n",
       "</table>"
      ],
      "text/plain": [
       "#              solution_id          designation                      source_id            random_index    ref_epoch    ra                  ra_error              dec                    dec_error            parallax             parallax_error       parallax_over_error    pmra                pmra_error           pmdec                pmdec_error          ra_dec_corr          ra_parallax_corr    ra_pmra_corr    ra_pmdec_corr    dec_parallax_corr     dec_pmra_corr         dec_pmdec_corr       parallax_pmra_corr    parallax_pmdec_corr    pmra_pmdec_corr       astrometric_n_obs_al    astrometric_n_obs_ac    astrometric_n_good_obs_al    astrometric_n_bad_obs_al    astrometric_gof_al    astrometric_chi2_al    astrometric_excess_noise    astrometric_excess_noise_sig    astrometric_params_solved    astrometric_primary_flag    astrometric_weight_al    astrometric_pseudo_colour    astrometric_pseudo_colour_error    mean_varpi_factor_al    astrometric_matched_observations    visibility_periods_used    astrometric_sigma5d_max    frame_rotator_object_type    matched_observations    duplicated_source    phot_g_n_obs    phot_g_mean_flux    phot_g_mean_flux_error    phot_g_mean_flux_over_error    phot_g_mean_mag    phot_bp_n_obs    phot_bp_mean_flux    phot_bp_mean_flux_error    phot_bp_mean_flux_over_error    phot_bp_mean_mag    phot_rp_n_obs    phot_rp_mean_flux    phot_rp_mean_flux_error    phot_rp_mean_flux_over_error    phot_rp_mean_mag    phot_bp_rp_excess_factor    phot_proc_mode    bp_rp      bp_g                g_rp                radial_velocity    radial_velocity_error    rv_nb_transits    rv_template_teff    rv_template_logg    rv_template_fe_h    phot_variable_flag    l                   b                    ecl_lon             ecl_lat              priam_flags    teff_val    teff_percentile_lower    teff_percentile_upper    a_g_val    a_g_percentile_lower    a_g_percentile_upper    e_bp_min_rp_val    e_bp_min_rp_percentile_lower    e_bp_min_rp_percentile_upper    flame_flags    radius_val    radius_percentile_lower    radius_percentile_upper    lum_val     lum_percentile_lower    lum_percentile_upper\n",
       "0              1635721458409799680  b'Gaia DR2 4295806720'           4295806720           833719442       2015.5       44.9961536841596    0.119381727827906     0.005615806210679649   0.12287249077395065  0.07144782399869501  0.16248493485095816  0.43971968             11.733411429340324  0.2431241681877592   -4.7759340851709     0.2389884371856387   0.022670548          0.27376112          -0.061221834    0.09342154       -0.43380169999999996  -0.10258209           -0.23457742          0.2862106             0.24838115             0.30606467            107                     0                       106                          1                           1.6358627000000001    125.30832              0.0                         0.0                             31                           False                       1.6281219999999998       1.6129292688600716           0.03975095740667449                0.026966427             13                                  10                         0.25016737                 0                            13                      False                103             1635.9507708728468  2.7757613305963007        589.3701                       17.65394           10               785.6408778060331    8.304744041442405          94.601456                       18.113329           11               1205.3932347369573   12.695619867587247         94.9456                         17.059097           1.2170502                   0                 1.0542316  0.45938873          0.5948429000000001  nan                nan                      0                 nan                 nan                 nan                 b'NOT_AVAILABLE'      176.9510737567222   -48.901521688994805  42.5337243367526    -16.32957311107743   nan            nan         nan                      nan                      nan        nan                     nan                     nan                nan                             nan                             nan            nan           nan                        nan                        nan         nan                     nan\n",
       "1              1635721458409799680  b'Gaia DR2 34361129088'          34361129088          1253687186      2015.5       45.00431616420765   0.13221516031053107   0.021045032689712983   0.15033009946029466  3.48677407917816     0.1943677537725032   17.939056              30.2997273525487    0.2890571540060363   20.102047674607906   0.2904121164006919   0.06490505           0.10328879          -3.8125843e-05  0.010977124      -0.5181503            -0.15682727           -0.25213727          0.25715247            0.36133286             0.21847394            97                      0                       97                           0                           3.1044097             139.97816              0.4393295485806768          2.2560181660871423              31                           False                       1.285051                 1.3322381786391089           0.043729691466259976               0.030602371             11                                  9                          0.29393765                 0                            11                      False                96              1712.9128925457007  3.0338739347619077        564.59595                      17.604027          11               397.3368347119427    13.369227259151073         29.720254999999998              18.85349            10               2155.4795941459947   8.25350128363993           261.15942                       16.428060000000002  1.4903364                   0                 2.4254303  1.249464            1.1759663           nan                nan                      0                 nan                 nan                 nan                 b'NOT_AVAILABLE'      176.94278716312405  -48.88493841774036   42.54656815575859   -16.317213719979975  nan            nan         nan                      nan                      nan        nan                     nan                     nan                nan                             nan                             nan            nan           nan                        nan                        nan         nan                     nan\n",
       "2              1635721458409799680  b'Gaia DR2 38655544960'          38655544960          1168973894      2015.5       45.004974244984105  0.029723176168001464  0.019877000365797717   0.0398615194906984   3.1212565825574363   0.04667520041451068  66.87184               29.669773387717747  0.07106567711614904  19.225962799772443   0.08279741152631212  0.11690165           0.2090516           -0.14794418     -0.082815714     -0.6151166            -0.4523399            -0.59776425          0.45273238            0.47702566             0.595477              104                     0                       104                          0                           -2.2898765            69.61933               0.0                         0.0                             31                           False                       54.20531999999999        1.5148504032402288           0.010003998099121137               0.07058261              12                                  9                          0.10163828                 0                            12                      False                103             41605.42089500058   18.392505474272053        2262.0854                      14.140491          11               17692.585419434203   53.957682875030116         327.89743                       14.731910000000001  11               34351.87449020634    58.427462958732775         587.94055                       13.422044           1.2509058000000002          0                 1.309866   0.5914191999999999  0.71844673          nan                nan                      0                 nan                 nan                 nan                 b'NOT_AVAILABLE'      176.94476069003898  -48.88527495232597   42.54686709098933   -16.318523323705843  100001.0       4962.0      4770.505                 5050.6665                0.032      0.0149                  0.2091                  0.016              0.0069                          0.0728                          200111.0       0.5863995     0.5659911999999999         0.63442224                 0.18780576  0.18156888              0.19404264\n",
       "3              1635721458409799680  b'Gaia DR2 309238066432'         309238066432         716364491       2015.5       44.99503703932583   0.3748451704441453    0.03815183599451371    0.354580932399439    1.5788410668677395   0.4509078829430168   3.5014714999999996     0.9185563546406772  0.8071335238976993   -0.4685586426340295  0.7201817396537079   0.042778816          0.14737031          -0.08400111     0.071659945      -0.175486             0.009628623000000001  -0.06346788          0.19779278            0.17691185             0.061723847000000005  114                     0                       114                          0                           -0.38584504           102.75944              0.0                         0.0                             31                           False                       0.1383114                1.2159144402017843           0.1151187960793006                 -0.07122756             13                                  10                         0.71777946                 0                            13                      False                114             263.32165329152957  1.644274128985754         160.14462                      19.63715           9                50.62248230415713    4.981187273921231          10.162734                       21.090529999999998  9                355.4098452181598    7.532196715416053          47.185417                       18.385096           1.5419633                   0                 2.7054348  1.4533806           1.2520542           nan                nan                      0                 nan                 nan                 nan                 b'NOT_AVAILABLE'      176.91426520135354  -48.87974729251865   42.54254808202412   -16.29813865533474   nan            nan         nan                      nan                      nan        nan                     nan                     nan                nan                             nan                             nan            nan           nan                        nan                        nan         nan                     nan\n",
       "4              1635721458409799680  b'Gaia DR2 343597448960'         343597448960         1007197339      2015.5       44.963895325304286  0.1672591368280593    0.04359518482272568    0.15843084907464913  0.1124232337595906   0.19677095501039435  0.5713406              6.778646355438693   0.34015943821418143  -1.5922073291150058  0.3142620551370774   0.095711425          0.25192115          -0.09463473     0.11687218       -0.14148766           0.10662418            0.001552241          0.1539189             0.0099432925           0.1900829             114                     0                       111                          3                           0.7612909000000001    116.762924             0.4379146032596523          1.164799959704128               31                           False                       0.7568838999999999       1.5231059896314436           0.0485359898688584                 0.009498954             13                                  9                          0.31823537                 0                            13                      False                109             1037.4128672255997  2.2948097285863445        452.06924000000004             18.148487          9                446.11647691960206   12.472760208872558         35.76726                        18.727767999999998  10               851.5124585934102    10.580999260922557         80.47561999999999               17.436443           1.2508317                   0                 1.2913246  0.57928085          0.71204376          nan                nan                      0                 nan                 nan                 nan                 b'NOT_AVAILABLE'      176.8754231026413   -48.89837989670807   42.513191444633726  -16.28380551789907   nan            nan         nan                      nan                      nan        nan                     nan                     nan                nan                             nan                             nan            nan           nan                        nan                        nan         nan                     nan\n",
       "...            ...                  ...                              ...                  ...             ...          ...                 ...                   ...                    ...                  ...                  ...                  ...                    ...                 ...                  ...                  ...                  ...                  ...                 ...             ...              ...                   ...                   ...                  ...                   ...                    ...                   ...                     ...                     ...                          ...                         ...                   ...                    ...                         ...                             ...                          ...                         ...                      ...                          ...                                ...                     ...                                 ...                        ...                        ...                          ...                     ...                  ...             ...                 ...                       ...                            ...                ...              ...                  ...                        ...                             ...                 ...              ...                  ...                        ...                             ...                 ...                         ...               ...        ...                 ...                 ...                ...                      ...               ...                 ...                 ...                 ...                   ...                 ...                  ...                 ...                  ...            ...         ...                      ...                      ...        ...                     ...                     ...                ...                             ...                             ...            ...           ...                        ...                        ...         ...                     ...\n",
       "1,692,919,130  1635721458409799680  b'Gaia DR2 6917528963217645568'  6917528963217645568  711904833       2015.5       314.98351260118864  6.1917502919260725    -0.017961413757040568  1.9976645630944625   nan                  nan                  nan                    nan                 nan                  nan                  nan                  -0.9468261999999998  nan                 nan             nan              nan                   nan                   nan                  nan                   nan                    nan                   256                     0                       255                          1                           0.09006713            251.34973              0.0                         0.0                             3                            False                       0.035857863999999996     nan                          nan                                -0.18235932             30                                  6                          13.550334                  0                            36                      False                276             130.46916462266304  0.8370730500448316        155.86354                      20.399595          0                nan                  nan                        nan                             nan                 0                nan                  nan                        nan                             nan                 nan                         2                 nan        nan                 nan                 nan                nan                      0                 nan                 nan                 nan                 b'NOT_AVAILABLE'      48.891138199898776  -28.255063825226554  317.44227847436525  16.323719462219874   nan            nan         nan                      nan                      nan        nan                     nan                     nan                nan                             nan                             nan            nan           nan                        nan                        nan         nan                     nan\n",
       "1,692,919,131  1635721458409799680  b'Gaia DR2 6917528993281571840'  6917528993281571840  1057759634      2015.5       314.9904017564393   0.2686243051566997    -0.008367585301478679  0.13220884263955485  0.9767377244025096   0.20966425878115624  4.658580000000001      -8.789568499444613  0.6024182711252432   -9.887007450999603   0.3609798630506912   -0.71226794          -0.32785413         -0.79407966     0.67225677       0.6483722             0.66855806            -0.88509864          0.31642532            -0.57081836            -0.71771705           288                     0                       286                          2                           0.15602541            284.04306              0.10468895650873274         0.1926633779846534              31                           False                       1.5025905000000002       1.4398141313394808           0.024217901524240717               -0.18079054             33                                  7                          0.6392459                  0                            35                      False                300             1708.7844181229475  1.7183001457312599        994.4621                       17.606647          0                nan                  nan                        nan                             nan                 0                nan                  nan                        nan                             nan                 nan                         2                 nan        nan                 nan                 nan                nan                      0                 nan                 nan                 nan                 b'NOT_AVAILABLE'      48.90450543399686   -28.25599336436905   317.4520713869125   16.330873481856276   nan            nan         nan                      nan                      nan        nan                     nan                     nan                nan                             nan                             nan            nan           nan                        nan                        nan         nan                     nan\n",
       "1,692,919,132  1635721458409799680  b'Gaia DR2 6917528993281819008'  6917528993281819008  49260802        2015.5       315.00503877002456  0.9552057496355612    -0.005736736411478651  0.4779456781063856   -0.1827374708936312  0.6920683360998278   -0.26404542            -2.893619483581229  2.08879809691233     -10.430692969558967  1.3486921231345796   -0.6087746           -0.27599064         -0.81443137     0.5377084        0.5961895             0.5714225             -0.9083530000000001  0.24399203            -0.50589395            -0.5980193            262                     0                       260                          2                           0.8898790000000001    274.92728              0.0                         0.0                             31                           False                       0.15255077               1.4387809895123045           0.08102495521913795                -0.17755668             30                                  7                          2.18716                    0                            32                      False                276             334.30089812181717  1.2490521307085771        267.64367999999996             19.378021          0                nan                  nan                        nan                             nan                 0                nan                  nan                        nan                             nan                 nan                         2                 nan        nan                 nan                 nan                nan                      0                 nan                 nan                 nan                 b'NOT_AVAILABLE'      48.915662985463     -28.26715505980319   317.46745740038915  16.329098939790963   nan            nan         nan                      nan                      nan        nan                     nan                     nan                nan                             nan                             nan            nan           nan                        nan                        nan         nan                     nan\n",
       "1,692,919,133  1635721458409799680  b'Gaia DR2 6917528993283204480'  6917528993283204480  916652582       2015.5       314.9990508711522   1.0200557955731553    -0.002570580482067311  0.4785034535013264   1.1944658684106606   0.7390532046807501   1.6162108999999998     -4.969626151660421  2.3067588023833188   -3.8381494703152055  1.3348034677367284   -0.6952682           -0.19890665         -0.81487304     0.6605273        0.5953058000000001    0.6642836999999999    -0.8895016           0.19809727            -0.5282448000000001    -0.72904134           270                     9                       268                          2                           -0.077295646          260.5681               0.0                         0.0                             31                           False                       0.1274624                1.4639756577435132           0.09127171084755213                -0.18912020000000002    31                                  7                          2.3505502000000003         0                            33                      False                283             284.94374839895426  1.2279312655182504        232.05186                      19.551468          0                nan                  nan                        nan                             nan                 0                nan                  nan                        nan                             nan                 nan                         2                 nan        nan                 nan                 nan                nan                      0                 nan                 nan                 nan                 b'NOT_AVAILABLE'      48.91521924800499   -28.26039290592401   317.4624588295149   16.333881134855314   nan            nan         nan                      nan                      nan        nan                     nan                     nan                nan                             nan                             nan            nan           nan                        nan                        nan         nan                     nan\n",
       "1,692,919,134  1635721458409799680  b'Gaia DR2 6917528997577384320'  6917528997577384320  776446853       2015.5       315.00363653770665  0.5569226827403532    -0.006758168913672078  0.2820440565211547   1.9776835145839613   0.4707730790922877   4.2009273              10.168637963656453  1.3243511199805955   -4.6319503374116335  0.7670280680975615   -0.7069446999999999  -0.3524638          -0.7288846      0.64234614       0.6655390999999999    0.64305264            -0.8681120000000001  0.35158044            -0.5439387             -0.6995311            267                     0                       267                          0                           5.658867              413.15482000000003     0.7578628201652942          2.9604550451112943              31                           False                       0.34310368               1.3329285827339423           0.05324715704124628                -0.18852596             31                                  7                          1.3650335                  0                            33                      False                286             691.5784446136888   1.5703237685944336        440.405                        18.588762          0                nan                  nan                        nan                             nan                 0                nan                  nan                        nan                             nan                 nan                         2                 nan        nan                 nan                 nan                nan                      0                 nan                 nan                 nan                 b'NOT_AVAILABLE'      48.91384657658588   -28.266484088273092  317.4657484276085   16.32853338725998    nan            nan         nan                      nan                      nan        nan                     nan                     nan                nan                             nan                             nan            nan           nan                        nan                        nan         nan                     nan"
      ]
     },
     "execution_count": 6,
     "metadata": {},
     "output_type": "execute_result"
    }
   ],
   "source": [
    "# hdf5 or arrow - memory mapped\n",
    "df = vaex.open('/data/gaia/gaia-dr2-sort-by-source_id.hdf5')\n",
    "df"
   ]
  },
  {
   "cell_type": "markdown",
   "metadata": {},
   "source": [
    "# Expressions / virtual columns"
   ]
  },
  {
   "cell_type": "code",
   "execution_count": 7,
   "metadata": {
    "ExecuteTime": {
     "end_time": "2020-06-12T14:06:06.051669Z",
     "start_time": "2020-06-12T14:06:06.027010Z"
    },
    "execution": {
     "iopub.execute_input": "2020-06-12T08:42:40.976739Z",
     "iopub.status.busy": "2020-06-12T08:42:40.976514Z",
     "iopub.status.idle": "2020-06-12T08:42:40.997811Z",
     "shell.execute_reply": "2020-06-12T08:42:40.997400Z",
     "shell.execute_reply.started": "2020-06-12T08:42:40.976714Z"
    }
   },
   "outputs": [
    {
     "data": {
      "text/plain": [
       "Expression = (1 / parallax)\n",
       "Length: 1,692,919,135 dtype: float64 (expression)\n",
       "-------------------------------------------------\n",
       "         0   13.9962\n",
       "         1  0.286798\n",
       "         2  0.320384\n",
       "         3  0.633376\n",
       "         4   8.89496\n",
       "        ...         \n",
       "1692919130       nan\n",
       "1692919131   1.02382\n",
       "1692919132  -5.47233\n",
       "1692919133  0.837194\n",
       "1692919134  0.505642"
      ]
     },
     "execution_count": 7,
     "metadata": {},
     "output_type": "execute_result"
    }
   ],
   "source": [
    "distance = 1/df.parallax\n",
    "distance"
   ]
  },
  {
   "cell_type": "code",
   "execution_count": 8,
   "metadata": {
    "ExecuteTime": {
     "end_time": "2020-06-12T14:06:41.443615Z",
     "start_time": "2020-06-12T14:06:41.440974Z"
    },
    "execution": {
     "iopub.execute_input": "2020-06-12T08:42:42.183549Z",
     "iopub.status.busy": "2020-06-12T08:42:42.183322Z",
     "iopub.status.idle": "2020-06-12T08:42:42.186602Z",
     "shell.execute_reply": "2020-06-12T08:42:42.186042Z",
     "shell.execute_reply.started": "2020-06-12T08:42:42.183523Z"
    }
   },
   "outputs": [],
   "source": [
    "# virtual columns - lazy - no memory usage\n",
    "df['distance'] = distance"
   ]
  },
  {
   "cell_type": "code",
   "execution_count": 9,
   "metadata": {
    "ExecuteTime": {
     "end_time": "2020-06-12T14:06:43.137844Z",
     "start_time": "2020-06-12T14:06:43.069806Z"
    },
    "execution": {
     "iopub.execute_input": "2020-06-12T08:42:42.676359Z",
     "iopub.status.busy": "2020-06-12T08:42:42.676134Z",
     "iopub.status.idle": "2020-06-12T08:42:42.743709Z",
     "shell.execute_reply": "2020-06-12T08:42:42.743294Z",
     "shell.execute_reply.started": "2020-06-12T08:42:42.676333Z"
    }
   },
   "outputs": [
    {
     "data": {
      "text/html": [
       "<table>\n",
       "<thead>\n",
       "<tr><th>#                                        </th><th>solution_id        </th><th>designation                    </th><th>source_id          </th><th>random_index  </th><th>ref_epoch  </th><th>ra                </th><th>ra_error            </th><th>dec                  </th><th>dec_error          </th><th>parallax           </th><th>parallax_error     </th><th>parallax_over_error  </th><th>pmra              </th><th>pmra_error         </th><th>pmdec              </th><th>pmdec_error        </th><th>ra_dec_corr        </th><th>ra_parallax_corr  </th><th>ra_pmra_corr  </th><th>ra_pmdec_corr  </th><th>dec_parallax_corr   </th><th>dec_pmra_corr       </th><th>dec_pmdec_corr     </th><th>parallax_pmra_corr  </th><th>parallax_pmdec_corr  </th><th>pmra_pmdec_corr     </th><th>astrometric_n_obs_al  </th><th>astrometric_n_obs_ac  </th><th>astrometric_n_good_obs_al  </th><th>astrometric_n_bad_obs_al  </th><th>astrometric_gof_al  </th><th>astrometric_chi2_al  </th><th>astrometric_excess_noise  </th><th>astrometric_excess_noise_sig  </th><th>astrometric_params_solved  </th><th>astrometric_primary_flag  </th><th>astrometric_weight_al  </th><th>astrometric_pseudo_colour  </th><th>astrometric_pseudo_colour_error  </th><th>mean_varpi_factor_al  </th><th>astrometric_matched_observations  </th><th>visibility_periods_used  </th><th>astrometric_sigma5d_max  </th><th>frame_rotator_object_type  </th><th>matched_observations  </th><th>duplicated_source  </th><th>phot_g_n_obs  </th><th>phot_g_mean_flux  </th><th>phot_g_mean_flux_error  </th><th>phot_g_mean_flux_over_error  </th><th>phot_g_mean_mag  </th><th>phot_bp_n_obs  </th><th>phot_bp_mean_flux  </th><th>phot_bp_mean_flux_error  </th><th>phot_bp_mean_flux_over_error  </th><th>phot_bp_mean_mag  </th><th>phot_rp_n_obs  </th><th>phot_rp_mean_flux  </th><th>phot_rp_mean_flux_error  </th><th>phot_rp_mean_flux_over_error  </th><th>phot_rp_mean_mag  </th><th>phot_bp_rp_excess_factor  </th><th>phot_proc_mode  </th><th>bp_rp    </th><th>bp_g              </th><th>g_rp              </th><th>radial_velocity  </th><th>radial_velocity_error  </th><th>rv_nb_transits  </th><th>rv_template_teff  </th><th>rv_template_logg  </th><th>rv_template_fe_h  </th><th>phot_variable_flag  </th><th>l                 </th><th>b                  </th><th>ecl_lon           </th><th>ecl_lat            </th><th>priam_flags  </th><th>teff_val  </th><th>teff_percentile_lower  </th><th>teff_percentile_upper  </th><th>a_g_val  </th><th>a_g_percentile_lower  </th><th>a_g_percentile_upper  </th><th>e_bp_min_rp_val  </th><th>e_bp_min_rp_percentile_lower  </th><th>e_bp_min_rp_percentile_upper  </th><th>flame_flags  </th><th>radius_val  </th><th>radius_percentile_lower  </th><th>radius_percentile_upper  </th><th>lum_val   </th><th>lum_percentile_lower  </th><th>lum_percentile_upper  </th><th>distance           </th></tr>\n",
       "</thead>\n",
       "<tbody>\n",
       "<tr><td><i style='opacity: 0.6'>0</i>            </td><td>1635721458409799680</td><td>b&#x27;Gaia DR2 4295806720&#x27;         </td><td>4295806720         </td><td>833719442     </td><td>2015.5     </td><td>44.9961536841596  </td><td>0.119381727827906   </td><td>0.005615806210679649 </td><td>0.12287249077395065</td><td>0.07144782399869501</td><td>0.16248493485095816</td><td>0.43971968           </td><td>11.733411429340324</td><td>0.2431241681877592 </td><td>-4.7759340851709   </td><td>0.2389884371856387 </td><td>0.022670548        </td><td>0.27376112        </td><td>-0.061221834  </td><td>0.09342154     </td><td>-0.43380169999999996</td><td>-0.10258209         </td><td>-0.23457742        </td><td>0.2862106           </td><td>0.24838115           </td><td>0.30606467          </td><td>107                   </td><td>0                     </td><td>106                        </td><td>1                         </td><td>1.6358627000000001  </td><td>125.30832            </td><td>0.0                       </td><td>0.0                           </td><td>31                         </td><td>False                     </td><td>1.6281219999999998     </td><td>1.6129292688600716         </td><td>0.03975095740667449              </td><td>0.026966427           </td><td>13                                </td><td>10                       </td><td>0.25016737               </td><td>0                          </td><td>13                    </td><td>False              </td><td>103           </td><td>1635.9507708728468</td><td>2.7757613305963007      </td><td>589.3701                     </td><td>17.65394         </td><td>10             </td><td>785.6408778060331  </td><td>8.304744041442405        </td><td>94.601456                     </td><td>18.113329         </td><td>11             </td><td>1205.3932347369573 </td><td>12.695619867587247       </td><td>94.9456                       </td><td>17.059097         </td><td>1.2170502                 </td><td>0               </td><td>1.0542316</td><td>0.45938873        </td><td>0.5948429000000001</td><td>nan              </td><td>nan                    </td><td>0               </td><td>nan               </td><td>nan               </td><td>nan               </td><td>b&#x27;NOT_AVAILABLE&#x27;    </td><td>176.9510737567222 </td><td>-48.901521688994805</td><td>42.5337243367526  </td><td>-16.32957311107743 </td><td>nan          </td><td>nan       </td><td>nan                    </td><td>nan                    </td><td>nan      </td><td>nan                   </td><td>nan                   </td><td>nan              </td><td>nan                           </td><td>nan                           </td><td>nan          </td><td>nan         </td><td>nan                      </td><td>nan                      </td><td>nan       </td><td>nan                   </td><td>nan                   </td><td>13.996227513076745 </td></tr>\n",
       "<tr><td><i style='opacity: 0.6'>1</i>            </td><td>1635721458409799680</td><td>b&#x27;Gaia DR2 34361129088&#x27;        </td><td>34361129088        </td><td>1253687186    </td><td>2015.5     </td><td>45.00431616420765 </td><td>0.13221516031053107 </td><td>0.021045032689712983 </td><td>0.15033009946029466</td><td>3.48677407917816   </td><td>0.1943677537725032 </td><td>17.939056            </td><td>30.2997273525487  </td><td>0.2890571540060363 </td><td>20.102047674607906 </td><td>0.2904121164006919 </td><td>0.06490505         </td><td>0.10328879        </td><td>-3.8125843e-05</td><td>0.010977124    </td><td>-0.5181503          </td><td>-0.15682727         </td><td>-0.25213727        </td><td>0.25715247          </td><td>0.36133286           </td><td>0.21847394          </td><td>97                    </td><td>0                     </td><td>97                         </td><td>0                         </td><td>3.1044097           </td><td>139.97816            </td><td>0.4393295485806768        </td><td>2.2560181660871423            </td><td>31                         </td><td>False                     </td><td>1.285051               </td><td>1.3322381786391089         </td><td>0.043729691466259976             </td><td>0.030602371           </td><td>11                                </td><td>9                        </td><td>0.29393765               </td><td>0                          </td><td>11                    </td><td>False              </td><td>96            </td><td>1712.9128925457007</td><td>3.0338739347619077      </td><td>564.59595                    </td><td>17.604027        </td><td>11             </td><td>397.3368347119427  </td><td>13.369227259151073       </td><td>29.720254999999998            </td><td>18.85349          </td><td>10             </td><td>2155.4795941459947 </td><td>8.25350128363993         </td><td>261.15942                     </td><td>16.428060000000002</td><td>1.4903364                 </td><td>0               </td><td>2.4254303</td><td>1.249464          </td><td>1.1759663         </td><td>nan              </td><td>nan                    </td><td>0               </td><td>nan               </td><td>nan               </td><td>nan               </td><td>b&#x27;NOT_AVAILABLE&#x27;    </td><td>176.94278716312405</td><td>-48.88493841774036 </td><td>42.54656815575859 </td><td>-16.317213719979975</td><td>nan          </td><td>nan       </td><td>nan                    </td><td>nan                    </td><td>nan      </td><td>nan                   </td><td>nan                   </td><td>nan              </td><td>nan                           </td><td>nan                           </td><td>nan          </td><td>nan         </td><td>nan                      </td><td>nan                      </td><td>nan       </td><td>nan                   </td><td>nan                   </td><td>0.28679804807878523</td></tr>\n",
       "<tr><td><i style='opacity: 0.6'>2</i>            </td><td>1635721458409799680</td><td>b&#x27;Gaia DR2 38655544960&#x27;        </td><td>38655544960        </td><td>1168973894    </td><td>2015.5     </td><td>45.004974244984105</td><td>0.029723176168001464</td><td>0.019877000365797717 </td><td>0.0398615194906984 </td><td>3.1212565825574363 </td><td>0.04667520041451068</td><td>66.87184             </td><td>29.669773387717747</td><td>0.07106567711614904</td><td>19.225962799772443 </td><td>0.08279741152631212</td><td>0.11690165         </td><td>0.2090516         </td><td>-0.14794418   </td><td>-0.082815714   </td><td>-0.6151166          </td><td>-0.4523399          </td><td>-0.59776425        </td><td>0.45273238          </td><td>0.47702566           </td><td>0.595477            </td><td>104                   </td><td>0                     </td><td>104                        </td><td>0                         </td><td>-2.2898765          </td><td>69.61933             </td><td>0.0                       </td><td>0.0                           </td><td>31                         </td><td>False                     </td><td>54.20531999999999      </td><td>1.5148504032402288         </td><td>0.010003998099121137             </td><td>0.07058261            </td><td>12                                </td><td>9                        </td><td>0.10163828               </td><td>0                          </td><td>12                    </td><td>False              </td><td>103           </td><td>41605.42089500058 </td><td>18.392505474272053      </td><td>2262.0854                    </td><td>14.140491        </td><td>11             </td><td>17692.585419434203 </td><td>53.957682875030116       </td><td>327.89743                     </td><td>14.731910000000001</td><td>11             </td><td>34351.87449020634  </td><td>58.427462958732775       </td><td>587.94055                     </td><td>13.422044         </td><td>1.2509058000000002        </td><td>0               </td><td>1.309866 </td><td>0.5914191999999999</td><td>0.71844673        </td><td>nan              </td><td>nan                    </td><td>0               </td><td>nan               </td><td>nan               </td><td>nan               </td><td>b&#x27;NOT_AVAILABLE&#x27;    </td><td>176.94476069003898</td><td>-48.88527495232597 </td><td>42.54686709098933 </td><td>-16.318523323705843</td><td>100001.0     </td><td>4962.0    </td><td>4770.505               </td><td>5050.6665              </td><td>0.032    </td><td>0.0149                </td><td>0.2091                </td><td>0.016            </td><td>0.0069                        </td><td>0.0728                        </td><td>200111.0     </td><td>0.5863995   </td><td>0.5659911999999999       </td><td>0.63442224               </td><td>0.18780576</td><td>0.18156888            </td><td>0.19404264            </td><td>0.32038378568052195</td></tr>\n",
       "<tr><td><i style='opacity: 0.6'>3</i>            </td><td>1635721458409799680</td><td>b&#x27;Gaia DR2 309238066432&#x27;       </td><td>309238066432       </td><td>716364491     </td><td>2015.5     </td><td>44.99503703932583 </td><td>0.3748451704441453  </td><td>0.03815183599451371  </td><td>0.354580932399439  </td><td>1.5788410668677395 </td><td>0.4509078829430168 </td><td>3.5014714999999996   </td><td>0.9185563546406772</td><td>0.8071335238976993 </td><td>-0.4685586426340295</td><td>0.7201817396537079 </td><td>0.042778816        </td><td>0.14737031        </td><td>-0.08400111   </td><td>0.071659945    </td><td>-0.175486           </td><td>0.009628623000000001</td><td>-0.06346788        </td><td>0.19779278          </td><td>0.17691185           </td><td>0.061723847000000005</td><td>114                   </td><td>0                     </td><td>114                        </td><td>0                         </td><td>-0.38584504         </td><td>102.75944            </td><td>0.0                       </td><td>0.0                           </td><td>31                         </td><td>False                     </td><td>0.1383114              </td><td>1.2159144402017843         </td><td>0.1151187960793006               </td><td>-0.07122756           </td><td>13                                </td><td>10                       </td><td>0.71777946               </td><td>0                          </td><td>13                    </td><td>False              </td><td>114           </td><td>263.32165329152957</td><td>1.644274128985754       </td><td>160.14462                    </td><td>19.63715         </td><td>9              </td><td>50.62248230415713  </td><td>4.981187273921231        </td><td>10.162734                     </td><td>21.090529999999998</td><td>9              </td><td>355.4098452181598  </td><td>7.532196715416053        </td><td>47.185417                     </td><td>18.385096         </td><td>1.5419633                 </td><td>0               </td><td>2.7054348</td><td>1.4533806         </td><td>1.2520542         </td><td>nan              </td><td>nan                    </td><td>0               </td><td>nan               </td><td>nan               </td><td>nan               </td><td>b&#x27;NOT_AVAILABLE&#x27;    </td><td>176.91426520135354</td><td>-48.87974729251865 </td><td>42.54254808202412 </td><td>-16.29813865533474 </td><td>nan          </td><td>nan       </td><td>nan                    </td><td>nan                    </td><td>nan      </td><td>nan                   </td><td>nan                   </td><td>nan              </td><td>nan                           </td><td>nan                           </td><td>nan          </td><td>nan         </td><td>nan                      </td><td>nan                      </td><td>nan       </td><td>nan                   </td><td>nan                   </td><td>0.6333759749383125 </td></tr>\n",
       "<tr><td><i style='opacity: 0.6'>4</i>            </td><td>1635721458409799680</td><td>b&#x27;Gaia DR2 343597448960&#x27;       </td><td>343597448960       </td><td>1007197339    </td><td>2015.5     </td><td>44.963895325304286</td><td>0.1672591368280593  </td><td>0.04359518482272568  </td><td>0.15843084907464913</td><td>0.1124232337595906 </td><td>0.19677095501039435</td><td>0.5713406            </td><td>6.778646355438693 </td><td>0.34015943821418143</td><td>-1.5922073291150058</td><td>0.3142620551370774 </td><td>0.095711425        </td><td>0.25192115        </td><td>-0.09463473   </td><td>0.11687218     </td><td>-0.14148766         </td><td>0.10662418          </td><td>0.001552241        </td><td>0.1539189           </td><td>0.0099432925         </td><td>0.1900829           </td><td>114                   </td><td>0                     </td><td>111                        </td><td>3                         </td><td>0.7612909000000001  </td><td>116.762924           </td><td>0.4379146032596523        </td><td>1.164799959704128             </td><td>31                         </td><td>False                     </td><td>0.7568838999999999     </td><td>1.5231059896314436         </td><td>0.0485359898688584               </td><td>0.009498954           </td><td>13                                </td><td>9                        </td><td>0.31823537               </td><td>0                          </td><td>13                    </td><td>False              </td><td>109           </td><td>1037.4128672255997</td><td>2.2948097285863445      </td><td>452.06924000000004           </td><td>18.148487        </td><td>9              </td><td>446.11647691960206 </td><td>12.472760208872558       </td><td>35.76726                      </td><td>18.727767999999998</td><td>10             </td><td>851.5124585934102  </td><td>10.580999260922557       </td><td>80.47561999999999             </td><td>17.436443         </td><td>1.2508317                 </td><td>0               </td><td>1.2913246</td><td>0.57928085        </td><td>0.71204376        </td><td>nan              </td><td>nan                    </td><td>0               </td><td>nan               </td><td>nan               </td><td>nan               </td><td>b&#x27;NOT_AVAILABLE&#x27;    </td><td>176.8754231026413 </td><td>-48.89837989670807 </td><td>42.513191444633726</td><td>-16.28380551789907 </td><td>nan          </td><td>nan       </td><td>nan                    </td><td>nan                    </td><td>nan      </td><td>nan                   </td><td>nan                   </td><td>nan              </td><td>nan                           </td><td>nan                           </td><td>nan          </td><td>nan         </td><td>nan                      </td><td>nan                      </td><td>nan       </td><td>nan                   </td><td>nan                   </td><td>8.894958511320104  </td></tr>\n",
       "<tr><td>...                                      </td><td>...                </td><td>...                            </td><td>...                </td><td>...           </td><td>...        </td><td>...               </td><td>...                 </td><td>...                  </td><td>...                </td><td>...                </td><td>...                </td><td>...                  </td><td>...               </td><td>...                </td><td>...                </td><td>...                </td><td>...                </td><td>...               </td><td>...           </td><td>...            </td><td>...                 </td><td>...                 </td><td>...                </td><td>...                 </td><td>...                  </td><td>...                 </td><td>...                   </td><td>...                   </td><td>...                        </td><td>...                       </td><td>...                 </td><td>...                  </td><td>...                       </td><td>...                           </td><td>...                        </td><td>...                       </td><td>...                    </td><td>...                        </td><td>...                              </td><td>...                   </td><td>...                               </td><td>...                      </td><td>...                      </td><td>...                        </td><td>...                   </td><td>...                </td><td>...           </td><td>...               </td><td>...                     </td><td>...                          </td><td>...              </td><td>...            </td><td>...                </td><td>...                      </td><td>...                           </td><td>...               </td><td>...            </td><td>...                </td><td>...                      </td><td>...                           </td><td>...               </td><td>...                       </td><td>...             </td><td>...      </td><td>...               </td><td>...               </td><td>...              </td><td>...                    </td><td>...             </td><td>...               </td><td>...               </td><td>...               </td><td>...                 </td><td>...               </td><td>...                </td><td>...               </td><td>...                </td><td>...          </td><td>...       </td><td>...                    </td><td>...                    </td><td>...      </td><td>...                   </td><td>...                   </td><td>...              </td><td>...                           </td><td>...                           </td><td>...          </td><td>...         </td><td>...                      </td><td>...                      </td><td>...       </td><td>...                   </td><td>...                   </td><td>...                </td></tr>\n",
       "<tr><td><i style='opacity: 0.6'>1,692,919,130</i></td><td>1635721458409799680</td><td>b&#x27;Gaia DR2 6917528963217645568&#x27;</td><td>6917528963217645568</td><td>711904833     </td><td>2015.5     </td><td>314.98351260118864</td><td>6.1917502919260725  </td><td>-0.017961413757040568</td><td>1.9976645630944625 </td><td>nan                </td><td>nan                </td><td>nan                  </td><td>nan               </td><td>nan                </td><td>nan                </td><td>nan                </td><td>-0.9468261999999998</td><td>nan               </td><td>nan           </td><td>nan            </td><td>nan                 </td><td>nan                 </td><td>nan                </td><td>nan                 </td><td>nan                  </td><td>nan                 </td><td>256                   </td><td>0                     </td><td>255                        </td><td>1                         </td><td>0.09006713          </td><td>251.34973            </td><td>0.0                       </td><td>0.0                           </td><td>3                          </td><td>False                     </td><td>0.035857863999999996   </td><td>nan                        </td><td>nan                              </td><td>-0.18235932           </td><td>30                                </td><td>6                        </td><td>13.550334                </td><td>0                          </td><td>36                    </td><td>False              </td><td>276           </td><td>130.46916462266304</td><td>0.8370730500448316      </td><td>155.86354                    </td><td>20.399595        </td><td>0              </td><td>nan                </td><td>nan                      </td><td>nan                           </td><td>nan               </td><td>0              </td><td>nan                </td><td>nan                      </td><td>nan                           </td><td>nan               </td><td>nan                       </td><td>2               </td><td>nan      </td><td>nan               </td><td>nan               </td><td>nan              </td><td>nan                    </td><td>0               </td><td>nan               </td><td>nan               </td><td>nan               </td><td>b&#x27;NOT_AVAILABLE&#x27;    </td><td>48.891138199898776</td><td>-28.255063825226554</td><td>317.44227847436525</td><td>16.323719462219874 </td><td>nan          </td><td>nan       </td><td>nan                    </td><td>nan                    </td><td>nan      </td><td>nan                   </td><td>nan                   </td><td>nan              </td><td>nan                           </td><td>nan                           </td><td>nan          </td><td>nan         </td><td>nan                      </td><td>nan                      </td><td>nan       </td><td>nan                   </td><td>nan                   </td><td>nan                </td></tr>\n",
       "<tr><td><i style='opacity: 0.6'>1,692,919,131</i></td><td>1635721458409799680</td><td>b&#x27;Gaia DR2 6917528993281571840&#x27;</td><td>6917528993281571840</td><td>1057759634    </td><td>2015.5     </td><td>314.9904017564393 </td><td>0.2686243051566997  </td><td>-0.008367585301478679</td><td>0.13220884263955485</td><td>0.9767377244025096 </td><td>0.20966425878115624</td><td>4.658580000000001    </td><td>-8.789568499444613</td><td>0.6024182711252432 </td><td>-9.887007450999603 </td><td>0.3609798630506912 </td><td>-0.71226794        </td><td>-0.32785413       </td><td>-0.79407966   </td><td>0.67225677     </td><td>0.6483722           </td><td>0.66855806          </td><td>-0.88509864        </td><td>0.31642532          </td><td>-0.57081836          </td><td>-0.71771705         </td><td>288                   </td><td>0                     </td><td>286                        </td><td>2                         </td><td>0.15602541          </td><td>284.04306            </td><td>0.10468895650873274       </td><td>0.1926633779846534            </td><td>31                         </td><td>False                     </td><td>1.5025905000000002     </td><td>1.4398141313394808         </td><td>0.024217901524240717             </td><td>-0.18079054           </td><td>33                                </td><td>7                        </td><td>0.6392459                </td><td>0                          </td><td>35                    </td><td>False              </td><td>300           </td><td>1708.7844181229475</td><td>1.7183001457312599      </td><td>994.4621                     </td><td>17.606647        </td><td>0              </td><td>nan                </td><td>nan                      </td><td>nan                           </td><td>nan               </td><td>0              </td><td>nan                </td><td>nan                      </td><td>nan                           </td><td>nan               </td><td>nan                       </td><td>2               </td><td>nan      </td><td>nan               </td><td>nan               </td><td>nan              </td><td>nan                    </td><td>0               </td><td>nan               </td><td>nan               </td><td>nan               </td><td>b&#x27;NOT_AVAILABLE&#x27;    </td><td>48.90450543399686 </td><td>-28.25599336436905 </td><td>317.4520713869125 </td><td>16.330873481856276 </td><td>nan          </td><td>nan       </td><td>nan                    </td><td>nan                    </td><td>nan      </td><td>nan                   </td><td>nan                   </td><td>nan              </td><td>nan                           </td><td>nan                           </td><td>nan          </td><td>nan         </td><td>nan                      </td><td>nan                      </td><td>nan       </td><td>nan                   </td><td>nan                   </td><td>1.0238162968587299 </td></tr>\n",
       "<tr><td><i style='opacity: 0.6'>1,692,919,132</i></td><td>1635721458409799680</td><td>b&#x27;Gaia DR2 6917528993281819008&#x27;</td><td>6917528993281819008</td><td>49260802      </td><td>2015.5     </td><td>315.00503877002456</td><td>0.9552057496355612  </td><td>-0.005736736411478651</td><td>0.4779456781063856 </td><td>-0.1827374708936312</td><td>0.6920683360998278 </td><td>-0.26404542          </td><td>-2.893619483581229</td><td>2.08879809691233   </td><td>-10.430692969558967</td><td>1.3486921231345796 </td><td>-0.6087746         </td><td>-0.27599064       </td><td>-0.81443137   </td><td>0.5377084      </td><td>0.5961895           </td><td>0.5714225           </td><td>-0.9083530000000001</td><td>0.24399203          </td><td>-0.50589395          </td><td>-0.5980193          </td><td>262                   </td><td>0                     </td><td>260                        </td><td>2                         </td><td>0.8898790000000001  </td><td>274.92728            </td><td>0.0                       </td><td>0.0                           </td><td>31                         </td><td>False                     </td><td>0.15255077             </td><td>1.4387809895123045         </td><td>0.08102495521913795              </td><td>-0.17755668           </td><td>30                                </td><td>7                        </td><td>2.18716                  </td><td>0                          </td><td>32                    </td><td>False              </td><td>276           </td><td>334.30089812181717</td><td>1.2490521307085771      </td><td>267.64367999999996           </td><td>19.378021        </td><td>0              </td><td>nan                </td><td>nan                      </td><td>nan                           </td><td>nan               </td><td>0              </td><td>nan                </td><td>nan                      </td><td>nan                           </td><td>nan               </td><td>nan                       </td><td>2               </td><td>nan      </td><td>nan               </td><td>nan               </td><td>nan              </td><td>nan                    </td><td>0               </td><td>nan               </td><td>nan               </td><td>nan               </td><td>b&#x27;NOT_AVAILABLE&#x27;    </td><td>48.915662985463   </td><td>-28.26715505980319 </td><td>317.46745740038915</td><td>16.329098939790963 </td><td>nan          </td><td>nan       </td><td>nan                    </td><td>nan                    </td><td>nan      </td><td>nan                   </td><td>nan                   </td><td>nan              </td><td>nan                           </td><td>nan                           </td><td>nan          </td><td>nan         </td><td>nan                      </td><td>nan                      </td><td>nan       </td><td>nan                   </td><td>nan                   </td><td>-5.472331400395079 </td></tr>\n",
       "<tr><td><i style='opacity: 0.6'>1,692,919,133</i></td><td>1635721458409799680</td><td>b&#x27;Gaia DR2 6917528993283204480&#x27;</td><td>6917528993283204480</td><td>916652582     </td><td>2015.5     </td><td>314.9990508711522 </td><td>1.0200557955731553  </td><td>-0.002570580482067311</td><td>0.4785034535013264 </td><td>1.1944658684106606 </td><td>0.7390532046807501 </td><td>1.6162108999999998   </td><td>-4.969626151660421</td><td>2.3067588023833188 </td><td>-3.8381494703152055</td><td>1.3348034677367284 </td><td>-0.6952682         </td><td>-0.19890665       </td><td>-0.81487304   </td><td>0.6605273      </td><td>0.5953058000000001  </td><td>0.6642836999999999  </td><td>-0.8895016         </td><td>0.19809727          </td><td>-0.5282448000000001  </td><td>-0.72904134         </td><td>270                   </td><td>9                     </td><td>268                        </td><td>2                         </td><td>-0.077295646        </td><td>260.5681             </td><td>0.0                       </td><td>0.0                           </td><td>31                         </td><td>False                     </td><td>0.1274624              </td><td>1.4639756577435132         </td><td>0.09127171084755213              </td><td>-0.18912020000000002  </td><td>31                                </td><td>7                        </td><td>2.3505502000000003       </td><td>0                          </td><td>33                    </td><td>False              </td><td>283           </td><td>284.94374839895426</td><td>1.2279312655182504      </td><td>232.05186                    </td><td>19.551468        </td><td>0              </td><td>nan                </td><td>nan                      </td><td>nan                           </td><td>nan               </td><td>0              </td><td>nan                </td><td>nan                      </td><td>nan                           </td><td>nan               </td><td>nan                       </td><td>2               </td><td>nan      </td><td>nan               </td><td>nan               </td><td>nan              </td><td>nan                    </td><td>0               </td><td>nan               </td><td>nan               </td><td>nan               </td><td>b&#x27;NOT_AVAILABLE&#x27;    </td><td>48.91521924800499 </td><td>-28.26039290592401 </td><td>317.4624588295149 </td><td>16.333881134855314 </td><td>nan          </td><td>nan       </td><td>nan                    </td><td>nan                    </td><td>nan      </td><td>nan                   </td><td>nan                   </td><td>nan              </td><td>nan                           </td><td>nan                           </td><td>nan          </td><td>nan         </td><td>nan                      </td><td>nan                      </td><td>nan       </td><td>nan                   </td><td>nan                   </td><td>0.8371942861210308 </td></tr>\n",
       "<tr><td><i style='opacity: 0.6'>1,692,919,134</i></td><td>1635721458409799680</td><td>b&#x27;Gaia DR2 6917528997577384320&#x27;</td><td>6917528997577384320</td><td>776446853     </td><td>2015.5     </td><td>315.00363653770665</td><td>0.5569226827403532  </td><td>-0.006758168913672078</td><td>0.2820440565211547 </td><td>1.9776835145839613 </td><td>0.4707730790922877 </td><td>4.2009273            </td><td>10.168637963656453</td><td>1.3243511199805955 </td><td>-4.6319503374116335</td><td>0.7670280680975615 </td><td>-0.7069446999999999</td><td>-0.3524638        </td><td>-0.7288846    </td><td>0.64234614     </td><td>0.6655390999999999  </td><td>0.64305264          </td><td>-0.8681120000000001</td><td>0.35158044          </td><td>-0.5439387           </td><td>-0.6995311          </td><td>267                   </td><td>0                     </td><td>267                        </td><td>0                         </td><td>5.658867            </td><td>413.15482000000003   </td><td>0.7578628201652942        </td><td>2.9604550451112943            </td><td>31                         </td><td>False                     </td><td>0.34310368             </td><td>1.3329285827339423         </td><td>0.05324715704124628              </td><td>-0.18852596           </td><td>31                                </td><td>7                        </td><td>1.3650335                </td><td>0                          </td><td>33                    </td><td>False              </td><td>286           </td><td>691.5784446136888 </td><td>1.5703237685944336      </td><td>440.405                      </td><td>18.588762        </td><td>0              </td><td>nan                </td><td>nan                      </td><td>nan                           </td><td>nan               </td><td>0              </td><td>nan                </td><td>nan                      </td><td>nan                           </td><td>nan               </td><td>nan                       </td><td>2               </td><td>nan      </td><td>nan               </td><td>nan               </td><td>nan              </td><td>nan                    </td><td>0               </td><td>nan               </td><td>nan               </td><td>nan               </td><td>b&#x27;NOT_AVAILABLE&#x27;    </td><td>48.91384657658588 </td><td>-28.266484088273092</td><td>317.4657484276085 </td><td>16.32853338725998  </td><td>nan          </td><td>nan       </td><td>nan                    </td><td>nan                    </td><td>nan      </td><td>nan                   </td><td>nan                   </td><td>nan              </td><td>nan                           </td><td>nan                           </td><td>nan          </td><td>nan         </td><td>nan                      </td><td>nan                      </td><td>nan       </td><td>nan                   </td><td>nan                   </td><td>0.5056420770187624 </td></tr>\n",
       "</tbody>\n",
       "</table>"
      ],
      "text/plain": [
       "#              solution_id          designation                      source_id            random_index    ref_epoch    ra                  ra_error              dec                    dec_error            parallax             parallax_error       parallax_over_error    pmra                pmra_error           pmdec                pmdec_error          ra_dec_corr          ra_parallax_corr    ra_pmra_corr    ra_pmdec_corr    dec_parallax_corr     dec_pmra_corr         dec_pmdec_corr       parallax_pmra_corr    parallax_pmdec_corr    pmra_pmdec_corr       astrometric_n_obs_al    astrometric_n_obs_ac    astrometric_n_good_obs_al    astrometric_n_bad_obs_al    astrometric_gof_al    astrometric_chi2_al    astrometric_excess_noise    astrometric_excess_noise_sig    astrometric_params_solved    astrometric_primary_flag    astrometric_weight_al    astrometric_pseudo_colour    astrometric_pseudo_colour_error    mean_varpi_factor_al    astrometric_matched_observations    visibility_periods_used    astrometric_sigma5d_max    frame_rotator_object_type    matched_observations    duplicated_source    phot_g_n_obs    phot_g_mean_flux    phot_g_mean_flux_error    phot_g_mean_flux_over_error    phot_g_mean_mag    phot_bp_n_obs    phot_bp_mean_flux    phot_bp_mean_flux_error    phot_bp_mean_flux_over_error    phot_bp_mean_mag    phot_rp_n_obs    phot_rp_mean_flux    phot_rp_mean_flux_error    phot_rp_mean_flux_over_error    phot_rp_mean_mag    phot_bp_rp_excess_factor    phot_proc_mode    bp_rp      bp_g                g_rp                radial_velocity    radial_velocity_error    rv_nb_transits    rv_template_teff    rv_template_logg    rv_template_fe_h    phot_variable_flag    l                   b                    ecl_lon             ecl_lat              priam_flags    teff_val    teff_percentile_lower    teff_percentile_upper    a_g_val    a_g_percentile_lower    a_g_percentile_upper    e_bp_min_rp_val    e_bp_min_rp_percentile_lower    e_bp_min_rp_percentile_upper    flame_flags    radius_val    radius_percentile_lower    radius_percentile_upper    lum_val     lum_percentile_lower    lum_percentile_upper    distance\n",
       "0              1635721458409799680  b'Gaia DR2 4295806720'           4295806720           833719442       2015.5       44.9961536841596    0.119381727827906     0.005615806210679649   0.12287249077395065  0.07144782399869501  0.16248493485095816  0.43971968             11.733411429340324  0.2431241681877592   -4.7759340851709     0.2389884371856387   0.022670548          0.27376112          -0.061221834    0.09342154       -0.43380169999999996  -0.10258209           -0.23457742          0.2862106             0.24838115             0.30606467            107                     0                       106                          1                           1.6358627000000001    125.30832              0.0                         0.0                             31                           False                       1.6281219999999998       1.6129292688600716           0.03975095740667449                0.026966427             13                                  10                         0.25016737                 0                            13                      False                103             1635.9507708728468  2.7757613305963007        589.3701                       17.65394           10               785.6408778060331    8.304744041442405          94.601456                       18.113329           11               1205.3932347369573   12.695619867587247         94.9456                         17.059097           1.2170502                   0                 1.0542316  0.45938873          0.5948429000000001  nan                nan                      0                 nan                 nan                 nan                 b'NOT_AVAILABLE'      176.9510737567222   -48.901521688994805  42.5337243367526    -16.32957311107743   nan            nan         nan                      nan                      nan        nan                     nan                     nan                nan                             nan                             nan            nan           nan                        nan                        nan         nan                     nan                     13.996227513076745\n",
       "1              1635721458409799680  b'Gaia DR2 34361129088'          34361129088          1253687186      2015.5       45.00431616420765   0.13221516031053107   0.021045032689712983   0.15033009946029466  3.48677407917816     0.1943677537725032   17.939056              30.2997273525487    0.2890571540060363   20.102047674607906   0.2904121164006919   0.06490505           0.10328879          -3.8125843e-05  0.010977124      -0.5181503            -0.15682727           -0.25213727          0.25715247            0.36133286             0.21847394            97                      0                       97                           0                           3.1044097             139.97816              0.4393295485806768          2.2560181660871423              31                           False                       1.285051                 1.3322381786391089           0.043729691466259976               0.030602371             11                                  9                          0.29393765                 0                            11                      False                96              1712.9128925457007  3.0338739347619077        564.59595                      17.604027          11               397.3368347119427    13.369227259151073         29.720254999999998              18.85349            10               2155.4795941459947   8.25350128363993           261.15942                       16.428060000000002  1.4903364                   0                 2.4254303  1.249464            1.1759663           nan                nan                      0                 nan                 nan                 nan                 b'NOT_AVAILABLE'      176.94278716312405  -48.88493841774036   42.54656815575859   -16.317213719979975  nan            nan         nan                      nan                      nan        nan                     nan                     nan                nan                             nan                             nan            nan           nan                        nan                        nan         nan                     nan                     0.28679804807878523\n",
       "2              1635721458409799680  b'Gaia DR2 38655544960'          38655544960          1168973894      2015.5       45.004974244984105  0.029723176168001464  0.019877000365797717   0.0398615194906984   3.1212565825574363   0.04667520041451068  66.87184               29.669773387717747  0.07106567711614904  19.225962799772443   0.08279741152631212  0.11690165           0.2090516           -0.14794418     -0.082815714     -0.6151166            -0.4523399            -0.59776425          0.45273238            0.47702566             0.595477              104                     0                       104                          0                           -2.2898765            69.61933               0.0                         0.0                             31                           False                       54.20531999999999        1.5148504032402288           0.010003998099121137               0.07058261              12                                  9                          0.10163828                 0                            12                      False                103             41605.42089500058   18.392505474272053        2262.0854                      14.140491          11               17692.585419434203   53.957682875030116         327.89743                       14.731910000000001  11               34351.87449020634    58.427462958732775         587.94055                       13.422044           1.2509058000000002          0                 1.309866   0.5914191999999999  0.71844673          nan                nan                      0                 nan                 nan                 nan                 b'NOT_AVAILABLE'      176.94476069003898  -48.88527495232597   42.54686709098933   -16.318523323705843  100001.0       4962.0      4770.505                 5050.6665                0.032      0.0149                  0.2091                  0.016              0.0069                          0.0728                          200111.0       0.5863995     0.5659911999999999         0.63442224                 0.18780576  0.18156888              0.19404264              0.32038378568052195\n",
       "3              1635721458409799680  b'Gaia DR2 309238066432'         309238066432         716364491       2015.5       44.99503703932583   0.3748451704441453    0.03815183599451371    0.354580932399439    1.5788410668677395   0.4509078829430168   3.5014714999999996     0.9185563546406772  0.8071335238976993   -0.4685586426340295  0.7201817396537079   0.042778816          0.14737031          -0.08400111     0.071659945      -0.175486             0.009628623000000001  -0.06346788          0.19779278            0.17691185             0.061723847000000005  114                     0                       114                          0                           -0.38584504           102.75944              0.0                         0.0                             31                           False                       0.1383114                1.2159144402017843           0.1151187960793006                 -0.07122756             13                                  10                         0.71777946                 0                            13                      False                114             263.32165329152957  1.644274128985754         160.14462                      19.63715           9                50.62248230415713    4.981187273921231          10.162734                       21.090529999999998  9                355.4098452181598    7.532196715416053          47.185417                       18.385096           1.5419633                   0                 2.7054348  1.4533806           1.2520542           nan                nan                      0                 nan                 nan                 nan                 b'NOT_AVAILABLE'      176.91426520135354  -48.87974729251865   42.54254808202412   -16.29813865533474   nan            nan         nan                      nan                      nan        nan                     nan                     nan                nan                             nan                             nan            nan           nan                        nan                        nan         nan                     nan                     0.6333759749383125\n",
       "4              1635721458409799680  b'Gaia DR2 343597448960'         343597448960         1007197339      2015.5       44.963895325304286  0.1672591368280593    0.04359518482272568    0.15843084907464913  0.1124232337595906   0.19677095501039435  0.5713406              6.778646355438693   0.34015943821418143  -1.5922073291150058  0.3142620551370774   0.095711425          0.25192115          -0.09463473     0.11687218       -0.14148766           0.10662418            0.001552241          0.1539189             0.0099432925           0.1900829             114                     0                       111                          3                           0.7612909000000001    116.762924             0.4379146032596523          1.164799959704128               31                           False                       0.7568838999999999       1.5231059896314436           0.0485359898688584                 0.009498954             13                                  9                          0.31823537                 0                            13                      False                109             1037.4128672255997  2.2948097285863445        452.06924000000004             18.148487          9                446.11647691960206   12.472760208872558         35.76726                        18.727767999999998  10               851.5124585934102    10.580999260922557         80.47561999999999               17.436443           1.2508317                   0                 1.2913246  0.57928085          0.71204376          nan                nan                      0                 nan                 nan                 nan                 b'NOT_AVAILABLE'      176.8754231026413   -48.89837989670807   42.513191444633726  -16.28380551789907   nan            nan         nan                      nan                      nan        nan                     nan                     nan                nan                             nan                             nan            nan           nan                        nan                        nan         nan                     nan                     8.894958511320104\n",
       "...            ...                  ...                              ...                  ...             ...          ...                 ...                   ...                    ...                  ...                  ...                  ...                    ...                 ...                  ...                  ...                  ...                  ...                 ...             ...              ...                   ...                   ...                  ...                   ...                    ...                   ...                     ...                     ...                          ...                         ...                   ...                    ...                         ...                             ...                          ...                         ...                      ...                          ...                                ...                     ...                                 ...                        ...                        ...                          ...                     ...                  ...             ...                 ...                       ...                            ...                ...              ...                  ...                        ...                             ...                 ...              ...                  ...                        ...                             ...                 ...                         ...               ...        ...                 ...                 ...                ...                      ...               ...                 ...                 ...                 ...                   ...                 ...                  ...                 ...                  ...            ...         ...                      ...                      ...        ...                     ...                     ...                ...                             ...                             ...            ...           ...                        ...                        ...         ...                     ...                     ...\n",
       "1,692,919,130  1635721458409799680  b'Gaia DR2 6917528963217645568'  6917528963217645568  711904833       2015.5       314.98351260118864  6.1917502919260725    -0.017961413757040568  1.9976645630944625   nan                  nan                  nan                    nan                 nan                  nan                  nan                  -0.9468261999999998  nan                 nan             nan              nan                   nan                   nan                  nan                   nan                    nan                   256                     0                       255                          1                           0.09006713            251.34973              0.0                         0.0                             3                            False                       0.035857863999999996     nan                          nan                                -0.18235932             30                                  6                          13.550334                  0                            36                      False                276             130.46916462266304  0.8370730500448316        155.86354                      20.399595          0                nan                  nan                        nan                             nan                 0                nan                  nan                        nan                             nan                 nan                         2                 nan        nan                 nan                 nan                nan                      0                 nan                 nan                 nan                 b'NOT_AVAILABLE'      48.891138199898776  -28.255063825226554  317.44227847436525  16.323719462219874   nan            nan         nan                      nan                      nan        nan                     nan                     nan                nan                             nan                             nan            nan           nan                        nan                        nan         nan                     nan                     nan\n",
       "1,692,919,131  1635721458409799680  b'Gaia DR2 6917528993281571840'  6917528993281571840  1057759634      2015.5       314.9904017564393   0.2686243051566997    -0.008367585301478679  0.13220884263955485  0.9767377244025096   0.20966425878115624  4.658580000000001      -8.789568499444613  0.6024182711252432   -9.887007450999603   0.3609798630506912   -0.71226794          -0.32785413         -0.79407966     0.67225677       0.6483722             0.66855806            -0.88509864          0.31642532            -0.57081836            -0.71771705           288                     0                       286                          2                           0.15602541            284.04306              0.10468895650873274         0.1926633779846534              31                           False                       1.5025905000000002       1.4398141313394808           0.024217901524240717               -0.18079054             33                                  7                          0.6392459                  0                            35                      False                300             1708.7844181229475  1.7183001457312599        994.4621                       17.606647          0                nan                  nan                        nan                             nan                 0                nan                  nan                        nan                             nan                 nan                         2                 nan        nan                 nan                 nan                nan                      0                 nan                 nan                 nan                 b'NOT_AVAILABLE'      48.90450543399686   -28.25599336436905   317.4520713869125   16.330873481856276   nan            nan         nan                      nan                      nan        nan                     nan                     nan                nan                             nan                             nan            nan           nan                        nan                        nan         nan                     nan                     1.0238162968587299\n",
       "1,692,919,132  1635721458409799680  b'Gaia DR2 6917528993281819008'  6917528993281819008  49260802        2015.5       315.00503877002456  0.9552057496355612    -0.005736736411478651  0.4779456781063856   -0.1827374708936312  0.6920683360998278   -0.26404542            -2.893619483581229  2.08879809691233     -10.430692969558967  1.3486921231345796   -0.6087746           -0.27599064         -0.81443137     0.5377084        0.5961895             0.5714225             -0.9083530000000001  0.24399203            -0.50589395            -0.5980193            262                     0                       260                          2                           0.8898790000000001    274.92728              0.0                         0.0                             31                           False                       0.15255077               1.4387809895123045           0.08102495521913795                -0.17755668             30                                  7                          2.18716                    0                            32                      False                276             334.30089812181717  1.2490521307085771        267.64367999999996             19.378021          0                nan                  nan                        nan                             nan                 0                nan                  nan                        nan                             nan                 nan                         2                 nan        nan                 nan                 nan                nan                      0                 nan                 nan                 nan                 b'NOT_AVAILABLE'      48.915662985463     -28.26715505980319   317.46745740038915  16.329098939790963   nan            nan         nan                      nan                      nan        nan                     nan                     nan                nan                             nan                             nan            nan           nan                        nan                        nan         nan                     nan                     -5.472331400395079\n",
       "1,692,919,133  1635721458409799680  b'Gaia DR2 6917528993283204480'  6917528993283204480  916652582       2015.5       314.9990508711522   1.0200557955731553    -0.002570580482067311  0.4785034535013264   1.1944658684106606   0.7390532046807501   1.6162108999999998     -4.969626151660421  2.3067588023833188   -3.8381494703152055  1.3348034677367284   -0.6952682           -0.19890665         -0.81487304     0.6605273        0.5953058000000001    0.6642836999999999    -0.8895016           0.19809727            -0.5282448000000001    -0.72904134           270                     9                       268                          2                           -0.077295646          260.5681               0.0                         0.0                             31                           False                       0.1274624                1.4639756577435132           0.09127171084755213                -0.18912020000000002    31                                  7                          2.3505502000000003         0                            33                      False                283             284.94374839895426  1.2279312655182504        232.05186                      19.551468          0                nan                  nan                        nan                             nan                 0                nan                  nan                        nan                             nan                 nan                         2                 nan        nan                 nan                 nan                nan                      0                 nan                 nan                 nan                 b'NOT_AVAILABLE'      48.91521924800499   -28.26039290592401   317.4624588295149   16.333881134855314   nan            nan         nan                      nan                      nan        nan                     nan                     nan                nan                             nan                             nan            nan           nan                        nan                        nan         nan                     nan                     0.8371942861210308\n",
       "1,692,919,134  1635721458409799680  b'Gaia DR2 6917528997577384320'  6917528997577384320  776446853       2015.5       315.00363653770665  0.5569226827403532    -0.006758168913672078  0.2820440565211547   1.9776835145839613   0.4707730790922877   4.2009273              10.168637963656453  1.3243511199805955   -4.6319503374116335  0.7670280680975615   -0.7069446999999999  -0.3524638          -0.7288846      0.64234614       0.6655390999999999    0.64305264            -0.8681120000000001  0.35158044            -0.5439387             -0.6995311            267                     0                       267                          0                           5.658867              413.15482000000003     0.7578628201652942          2.9604550451112943              31                           False                       0.34310368               1.3329285827339423           0.05324715704124628                -0.18852596             31                                  7                          1.3650335                  0                            33                      False                286             691.5784446136888   1.5703237685944336        440.405                        18.588762          0                nan                  nan                        nan                             nan                 0                nan                  nan                        nan                             nan                 nan                         2                 nan        nan                 nan                 nan                nan                      0                 nan                 nan                 nan                 b'NOT_AVAILABLE'      48.91384657658588   -28.266484088273092  317.4657484276085   16.32853338725998    nan            nan         nan                      nan                      nan        nan                     nan                     nan                nan                             nan                             nan            nan           nan                        nan                        nan         nan                     nan                     0.5056420770187624"
      ]
     },
     "execution_count": 9,
     "metadata": {},
     "output_type": "execute_result"
    }
   ],
   "source": [
    "df"
   ]
  },
  {
   "cell_type": "markdown",
   "metadata": {},
   "source": [
    "# Aggregation and filtering"
   ]
  },
  {
   "cell_type": "code",
   "execution_count": 10,
   "metadata": {
    "ExecuteTime": {
     "end_time": "2020-06-12T14:07:14.393915Z",
     "start_time": "2020-06-12T14:07:11.744742Z"
    },
    "execution": {
     "iopub.execute_input": "2020-06-12T08:42:43.416810Z",
     "iopub.status.busy": "2020-06-12T08:42:43.416584Z",
     "iopub.status.idle": "2020-06-12T08:42:45.031441Z",
     "shell.execute_reply": "2020-06-12T08:42:45.031084Z",
     "shell.execute_reply.started": "2020-06-12T08:42:43.416784Z"
    }
   },
   "outputs": [
    {
     "data": {
      "text/plain": [
       "array(-1.36313359)"
      ]
     },
     "execution_count": 10,
     "metadata": {},
     "output_type": "execute_result"
    }
   ],
   "source": [
    "# out of core aggregation - multithreaded - chunks - eager\n",
    "df.mean(df.distance)"
   ]
  },
  {
   "cell_type": "code",
   "execution_count": 11,
   "metadata": {
    "ExecuteTime": {
     "end_time": "2020-06-12T14:07:45.003443Z",
     "start_time": "2020-06-12T14:07:44.283691Z"
    },
    "execution": {
     "iopub.execute_input": "2020-06-12T08:42:45.032068Z",
     "iopub.status.busy": "2020-06-12T08:42:45.031975Z",
     "iopub.status.idle": "2020-06-12T08:42:45.789588Z",
     "shell.execute_reply": "2020-06-12T08:42:45.789088Z",
     "shell.execute_reply.started": "2020-06-12T08:42:45.032056Z"
    }
   },
   "outputs": [],
   "source": [
    "# filtering - lazy - no copy - data immutable\n",
    "dff = df[df.parallax_over_error>3]"
   ]
  },
  {
   "cell_type": "code",
   "execution_count": 12,
   "metadata": {
    "ExecuteTime": {
     "end_time": "2020-06-12T14:07:54.785010Z",
     "start_time": "2020-06-12T14:07:45.004464Z"
    }
   },
   "outputs": [
    {
     "data": {
      "text/html": [
       "<table>\n",
       "<thead>\n",
       "<tr><th>#                                      </th><th>solution_id        </th><th>designation                    </th><th>source_id          </th><th>random_index  </th><th>ref_epoch  </th><th>ra                </th><th>ra_error            </th><th>dec                  </th><th>dec_error           </th><th>parallax          </th><th>parallax_error     </th><th>parallax_over_error  </th><th>pmra               </th><th>pmra_error         </th><th>pmdec              </th><th>pmdec_error        </th><th>ra_dec_corr           </th><th>ra_parallax_corr    </th><th>ra_pmra_corr        </th><th>ra_pmdec_corr     </th><th>dec_parallax_corr  </th><th>dec_pmra_corr       </th><th>dec_pmdec_corr     </th><th>parallax_pmra_corr  </th><th>parallax_pmdec_corr  </th><th>pmra_pmdec_corr     </th><th>astrometric_n_obs_al  </th><th>astrometric_n_obs_ac  </th><th>astrometric_n_good_obs_al  </th><th>astrometric_n_bad_obs_al  </th><th>astrometric_gof_al  </th><th>astrometric_chi2_al  </th><th>astrometric_excess_noise  </th><th>astrometric_excess_noise_sig  </th><th>astrometric_params_solved  </th><th>astrometric_primary_flag  </th><th>astrometric_weight_al  </th><th>astrometric_pseudo_colour  </th><th>astrometric_pseudo_colour_error  </th><th>mean_varpi_factor_al  </th><th>astrometric_matched_observations  </th><th>visibility_periods_used  </th><th>astrometric_sigma5d_max  </th><th>frame_rotator_object_type  </th><th>matched_observations  </th><th>duplicated_source  </th><th>phot_g_n_obs  </th><th>phot_g_mean_flux  </th><th>phot_g_mean_flux_error  </th><th>phot_g_mean_flux_over_error  </th><th>phot_g_mean_mag   </th><th>phot_bp_n_obs  </th><th>phot_bp_mean_flux  </th><th>phot_bp_mean_flux_error  </th><th>phot_bp_mean_flux_over_error  </th><th>phot_bp_mean_mag  </th><th>phot_rp_n_obs  </th><th>phot_rp_mean_flux  </th><th>phot_rp_mean_flux_error  </th><th>phot_rp_mean_flux_over_error  </th><th>phot_rp_mean_mag  </th><th>phot_bp_rp_excess_factor  </th><th>phot_proc_mode  </th><th>bp_rp             </th><th>bp_g              </th><th>g_rp      </th><th>radial_velocity  </th><th>radial_velocity_error  </th><th>rv_nb_transits  </th><th>rv_template_teff  </th><th>rv_template_logg  </th><th>rv_template_fe_h  </th><th>phot_variable_flag  </th><th>l                 </th><th>b                  </th><th>ecl_lon           </th><th>ecl_lat            </th><th>priam_flags  </th><th>teff_val  </th><th>teff_percentile_lower  </th><th>teff_percentile_upper  </th><th>a_g_val  </th><th>a_g_percentile_lower  </th><th>a_g_percentile_upper  </th><th>e_bp_min_rp_val  </th><th>e_bp_min_rp_percentile_lower  </th><th>e_bp_min_rp_percentile_upper  </th><th>flame_flags  </th><th>radius_val        </th><th>radius_percentile_lower  </th><th>radius_percentile_upper  </th><th>lum_val   </th><th>lum_percentile_lower  </th><th>lum_percentile_upper  </th><th>distance           </th></tr>\n",
       "</thead>\n",
       "<tbody>\n",
       "<tr><td><i style='opacity: 0.6'>0</i>          </td><td>1635721458409799680</td><td>b&#x27;Gaia DR2 34361129088&#x27;        </td><td>34361129088        </td><td>1253687186    </td><td>2015.5     </td><td>45.00431616420765 </td><td>0.13221516031053107 </td><td>0.021045032689712983 </td><td>0.15033009946029466 </td><td>3.48677407917816  </td><td>0.1943677537725032 </td><td>17.939056            </td><td>30.2997273525487   </td><td>0.2890571540060363 </td><td>20.102047674607906 </td><td>0.2904121164006919 </td><td>0.06490505            </td><td>0.10328879          </td><td>-3.8125843e-05      </td><td>0.010977124       </td><td>-0.5181503         </td><td>-0.15682727         </td><td>-0.25213727        </td><td>0.25715247          </td><td>0.36133286           </td><td>0.21847394          </td><td>97                    </td><td>0                     </td><td>97                         </td><td>0                         </td><td>3.1044097           </td><td>139.97816            </td><td>0.4393295485806768        </td><td>2.2560181660871423            </td><td>31                         </td><td>False                     </td><td>1.285051               </td><td>1.3322381786391089         </td><td>0.043729691466259976             </td><td>0.030602371           </td><td>11                                </td><td>9                        </td><td>0.29393765               </td><td>0                          </td><td>11                    </td><td>False              </td><td>96            </td><td>1712.9128925457007</td><td>3.0338739347619077      </td><td>564.59595                    </td><td>17.604027         </td><td>11             </td><td>397.3368347119427  </td><td>13.369227259151073       </td><td>29.720254999999998            </td><td>18.85349          </td><td>10             </td><td>2155.4795941459947 </td><td>8.25350128363993         </td><td>261.15942                     </td><td>16.428060000000002</td><td>1.4903364                 </td><td>0               </td><td>2.4254303         </td><td>1.249464          </td><td>1.1759663 </td><td>nan              </td><td>nan                    </td><td>0               </td><td>nan               </td><td>nan               </td><td>nan               </td><td>b&#x27;NOT_AVAILABLE&#x27;    </td><td>176.94278716312405</td><td>-48.88493841774036 </td><td>42.54656815575859 </td><td>-16.317213719979975</td><td>nan          </td><td>nan       </td><td>nan                    </td><td>nan                    </td><td>nan      </td><td>nan                   </td><td>nan                   </td><td>nan              </td><td>nan                           </td><td>nan                           </td><td>nan          </td><td>nan               </td><td>nan                      </td><td>nan                      </td><td>nan       </td><td>nan                   </td><td>nan                   </td><td>0.28679804807878523</td></tr>\n",
       "<tr><td><i style='opacity: 0.6'>1</i>          </td><td>1635721458409799680</td><td>b&#x27;Gaia DR2 38655544960&#x27;        </td><td>38655544960        </td><td>1168973894    </td><td>2015.5     </td><td>45.004974244984105</td><td>0.029723176168001464</td><td>0.019877000365797717 </td><td>0.0398615194906984  </td><td>3.1212565825574363</td><td>0.04667520041451068</td><td>66.87184             </td><td>29.669773387717747 </td><td>0.07106567711614904</td><td>19.225962799772443 </td><td>0.08279741152631212</td><td>0.11690165            </td><td>0.2090516           </td><td>-0.14794418         </td><td>-0.082815714      </td><td>-0.6151166         </td><td>-0.4523399          </td><td>-0.59776425        </td><td>0.45273238          </td><td>0.47702566           </td><td>0.595477            </td><td>104                   </td><td>0                     </td><td>104                        </td><td>0                         </td><td>-2.2898765          </td><td>69.61933             </td><td>0.0                       </td><td>0.0                           </td><td>31                         </td><td>False                     </td><td>54.20531999999999      </td><td>1.5148504032402288         </td><td>0.010003998099121137             </td><td>0.07058261            </td><td>12                                </td><td>9                        </td><td>0.10163828               </td><td>0                          </td><td>12                    </td><td>False              </td><td>103           </td><td>41605.42089500058 </td><td>18.392505474272053      </td><td>2262.0854                    </td><td>14.140491         </td><td>11             </td><td>17692.585419434203 </td><td>53.957682875030116       </td><td>327.89743                     </td><td>14.731910000000001</td><td>11             </td><td>34351.87449020634  </td><td>58.427462958732775       </td><td>587.94055                     </td><td>13.422044         </td><td>1.2509058000000002        </td><td>0               </td><td>1.309866          </td><td>0.5914191999999999</td><td>0.71844673</td><td>nan              </td><td>nan                    </td><td>0               </td><td>nan               </td><td>nan               </td><td>nan               </td><td>b&#x27;NOT_AVAILABLE&#x27;    </td><td>176.94476069003898</td><td>-48.88527495232597 </td><td>42.54686709098933 </td><td>-16.318523323705843</td><td>100001.0     </td><td>4962.0    </td><td>4770.505               </td><td>5050.6665              </td><td>0.032    </td><td>0.0149                </td><td>0.2091                </td><td>0.016            </td><td>0.0069                        </td><td>0.0728                        </td><td>200111.0     </td><td>0.5863995         </td><td>0.5659911999999999       </td><td>0.63442224               </td><td>0.18780576</td><td>0.18156888            </td><td>0.19404264            </td><td>0.32038378568052195</td></tr>\n",
       "<tr><td><i style='opacity: 0.6'>2</i>          </td><td>1635721458409799680</td><td>b&#x27;Gaia DR2 309238066432&#x27;       </td><td>309238066432       </td><td>716364491     </td><td>2015.5     </td><td>44.99503703932583 </td><td>0.3748451704441453  </td><td>0.03815183599451371  </td><td>0.354580932399439   </td><td>1.5788410668677395</td><td>0.4509078829430168 </td><td>3.5014714999999996   </td><td>0.9185563546406772 </td><td>0.8071335238976993 </td><td>-0.4685586426340295</td><td>0.7201817396537079 </td><td>0.042778816           </td><td>0.14737031          </td><td>-0.08400111         </td><td>0.071659945       </td><td>-0.175486          </td><td>0.009628623000000001</td><td>-0.06346788        </td><td>0.19779278          </td><td>0.17691185           </td><td>0.061723847000000005</td><td>114                   </td><td>0                     </td><td>114                        </td><td>0                         </td><td>-0.38584504         </td><td>102.75944            </td><td>0.0                       </td><td>0.0                           </td><td>31                         </td><td>False                     </td><td>0.1383114              </td><td>1.2159144402017843         </td><td>0.1151187960793006               </td><td>-0.07122756           </td><td>13                                </td><td>10                       </td><td>0.71777946               </td><td>0                          </td><td>13                    </td><td>False              </td><td>114           </td><td>263.32165329152957</td><td>1.644274128985754       </td><td>160.14462                    </td><td>19.63715          </td><td>9              </td><td>50.62248230415713  </td><td>4.981187273921231        </td><td>10.162734                     </td><td>21.090529999999998</td><td>9              </td><td>355.4098452181598  </td><td>7.532196715416053        </td><td>47.185417                     </td><td>18.385096         </td><td>1.5419633                 </td><td>0               </td><td>2.7054348         </td><td>1.4533806         </td><td>1.2520542 </td><td>nan              </td><td>nan                    </td><td>0               </td><td>nan               </td><td>nan               </td><td>nan               </td><td>b&#x27;NOT_AVAILABLE&#x27;    </td><td>176.91426520135354</td><td>-48.87974729251865 </td><td>42.54254808202412 </td><td>-16.29813865533474 </td><td>nan          </td><td>nan       </td><td>nan                    </td><td>nan                    </td><td>nan      </td><td>nan                   </td><td>nan                   </td><td>nan              </td><td>nan                           </td><td>nan                           </td><td>nan          </td><td>nan               </td><td>nan                      </td><td>nan                      </td><td>nan       </td><td>nan                   </td><td>nan                   </td><td>0.6333759749383125 </td></tr>\n",
       "<tr><td><i style='opacity: 0.6'>3</i>          </td><td>1635721458409799680</td><td>b&#x27;Gaia DR2 549755818112&#x27;       </td><td>549755818112       </td><td>1177051613    </td><td>2015.5     </td><td>45.04828219158795 </td><td>0.03581566427312946 </td><td>0.0482562232180315   </td><td>0.03382583596058348 </td><td>1.5757410959854032</td><td>0.04544080275231608</td><td>34.676790000000004   </td><td>0.7765237424569156 </td><td>0.07231605334152694</td><td>-16.297421650379626</td><td>0.06807817471960795</td><td>-0.0028029204999999997</td><td>0.23550634          </td><td>-0.12042919999999999</td><td>0.10023469        </td><td>-0.33905742        </td><td>-0.016589373        </td><td>-0.15386638        </td><td>0.2562643           </td><td>0.11931802           </td><td>0.24038868          </td><td>114                   </td><td>0                     </td><td>114                        </td><td>0                         </td><td>-0.16443342         </td><td>105.93468999999999   </td><td>0.0                       </td><td>0.0                           </td><td>31                         </td><td>True                      </td><td>23.812988              </td><td>1.4879920240090097         </td><td>0.011987293544888769             </td><td>-0.05698471           </td><td>13                                </td><td>9                        </td><td>0.07740031               </td><td>0                          </td><td>13                    </td><td>False              </td><td>114           </td><td>18785.69411068102 </td><td>12.738567124167151      </td><td>1474.7101                    </td><td>15.003798000000002</td><td>11             </td><td>8206.992305292435  </td><td>27.09958109765575        </td><td>302.84573                     </td><td>15.565928         </td><td>12             </td><td>15360.938070368882 </td><td>24.302429083746066       </td><td>632.07416                     </td><td>14.295876000000002</td><td>1.2545680000000001        </td><td>0               </td><td>1.2700528999999998</td><td>0.5621309         </td><td>0.707922  </td><td>nan              </td><td>nan                    </td><td>0               </td><td>nan               </td><td>nan               </td><td>nan               </td><td>b&#x27;NOT_AVAILABLE&#x27;    </td><td>176.95936301682968</td><td>-48.834396027852925</td><td>42.59867362870693 </td><td>-16.304075204960867</td><td>100001.0     </td><td>4907.03   </td><td>4744.117               </td><td>5094.2                 </td><td>nan      </td><td>nan                   </td><td>nan                   </td><td>nan              </td><td>nan                           </td><td>nan                           </td><td>200111.0     </td><td>0.8032756999999999</td><td>0.7453324                </td><td>0.8593917999999999       </td><td>0.33705345</td><td>0.3153752             </td><td>0.3587317             </td><td>0.6346220216936345 </td></tr>\n",
       "<tr><td><i style='opacity: 0.6'>4</i>          </td><td>1635721458409799680</td><td>b&#x27;Gaia DR2 828929527040&#x27;       </td><td>828929527040       </td><td>654264650     </td><td>2015.5     </td><td>45.02361786160386 </td><td>0.09795881408871177 </td><td>0.06842024221607944  </td><td>0.12041206118350332 </td><td>1.150084169026853 </td><td>0.14196433045736287</td><td>8.101219             </td><td>13.599615233997635 </td><td>0.2304435867208865 </td><td>-10.492354103767576</td><td>0.24703732006809065</td><td>0.11152559            </td><td>0.09140981          </td><td>-0.22551225         </td><td>-0.03210462       </td><td>-0.5819791         </td><td>-0.28064206         </td><td>-0.46411532        </td><td>0.36775225          </td><td>0.36757702           </td><td>0.46032217          </td><td>104                   </td><td>0                     </td><td>99                         </td><td>5                         </td><td>8.226082            </td><td>256.6127             </td><td>0.41047042806777145       </td><td>5.326117707341684             </td><td>31                         </td><td>False                     </td><td>2.5559464              </td><td>1.5475051911061672         </td><td>0.032708538741441216             </td><td>0.09494229            </td><td>12                                </td><td>9                        </td><td>0.26908413               </td><td>0                          </td><td>12                    </td><td>False              </td><td>94            </td><td>4330.345010960949 </td><td>3.91207631680022        </td><td>1106.9174                    </td><td>16.59706          </td><td>7              </td><td>1685.6428383284895 </td><td>15.263720518032374       </td><td>110.4346                      </td><td>17.284473000000002</td><td>8              </td><td>3827.0967751436797 </td><td>10.630302321020569       </td><td>360.01767                     </td><td>15.804747         </td><td>1.2730486                 </td><td>0               </td><td>1.4797268         </td><td>0.68741417        </td><td>0.7923126 </td><td>nan              </td><td>nan                    </td><td>0               </td><td>nan               </td><td>nan               </td><td>nan               </td><td>b&#x27;NOT_AVAILABLE&#x27;    </td><td>176.91130222161206</td><td>-48.83816317323111 </td><td>42.58025627440488 </td><td>-16.277572224088974</td><td>100001.0     </td><td>4417.3335 </td><td>4325.29                </td><td>4651.0                 </td><td>0.305    </td><td>0.1016                </td><td>0.7132                </td><td>0.1465           </td><td>0.0525                        </td><td>0.3487                        </td><td>200111.0     </td><td>0.7077532         </td><td>0.63842446               </td><td>0.7381960999999999       </td><td>0.17183004</td><td>0.12877518            </td><td>0.21488490000000002   </td><td>0.8695015781724504 </td></tr>\n",
       "<tr><td>...                                    </td><td>...                </td><td>...                            </td><td>...                </td><td>...           </td><td>...        </td><td>...               </td><td>...                 </td><td>...                  </td><td>...                 </td><td>...               </td><td>...                </td><td>...                  </td><td>...                </td><td>...                </td><td>...                </td><td>...                </td><td>...                   </td><td>...                 </td><td>...                 </td><td>...               </td><td>...                </td><td>...                 </td><td>...                </td><td>...                 </td><td>...                  </td><td>...                 </td><td>...                   </td><td>...                   </td><td>...                        </td><td>...                       </td><td>...                 </td><td>...                  </td><td>...                       </td><td>...                           </td><td>...                        </td><td>...                       </td><td>...                    </td><td>...                        </td><td>...                              </td><td>...                   </td><td>...                               </td><td>...                      </td><td>...                      </td><td>...                        </td><td>...                   </td><td>...                </td><td>...           </td><td>...               </td><td>...                     </td><td>...                          </td><td>...               </td><td>...            </td><td>...                </td><td>...                      </td><td>...                           </td><td>...               </td><td>...            </td><td>...                </td><td>...                      </td><td>...                           </td><td>...               </td><td>...                       </td><td>...             </td><td>...               </td><td>...               </td><td>...       </td><td>...              </td><td>...                    </td><td>...             </td><td>...               </td><td>...               </td><td>...               </td><td>...                 </td><td>...               </td><td>...                </td><td>...               </td><td>...                </td><td>...          </td><td>...       </td><td>...                    </td><td>...                    </td><td>...      </td><td>...                   </td><td>...                   </td><td>...              </td><td>...                           </td><td>...                           </td><td>...          </td><td>...               </td><td>...                      </td><td>...                      </td><td>...       </td><td>...                   </td><td>...                   </td><td>...                </td></tr>\n",
       "<tr><td><i style='opacity: 0.6'>254,993,353</i></td><td>1635721458409799680</td><td>b&#x27;Gaia DR2 6917528649684202496&#x27;</td><td>6917528649684202496</td><td>1053649172    </td><td>2015.5     </td><td>315.0291004576878 </td><td>0.05861753379220761 </td><td>-0.03817898194266277 </td><td>0.028388384329074662</td><td>1.6413220029252662</td><td>0.04268724919385685</td><td>38.449936            </td><td>3.3236257047229034 </td><td>0.13200320952793584</td><td>4.139329737718659  </td><td>0.07584397445049408</td><td>-0.72014606           </td><td>-0.32786918         </td><td>-0.7879513000000001 </td><td>0.67931086        </td><td>0.6134897          </td><td>0.6745606           </td><td>-0.87134486        </td><td>0.31323355          </td><td>-0.5223451           </td><td>-0.72674227         </td><td>242                   </td><td>0                     </td><td>242                        </td><td>0                         </td><td>-2.5549374          </td><td>185.04753            </td><td>0.0                       </td><td>0.0                           </td><td>31                         </td><td>False                     </td><td>117.74651999999999     </td><td>1.6046082181838968         </td><td>0.005422563601014983             </td><td>-0.20179346           </td><td>28                                </td><td>7                        </td><td>0.15548256               </td><td>0                          </td><td>30                    </td><td>False              </td><td>254           </td><td>89898.04942218369 </td><td>43.83830496668274       </td><td>2050.6736                    </td><td>13.303989999999999</td><td>0              </td><td>nan                </td><td>nan                      </td><td>nan                           </td><td>nan               </td><td>0              </td><td>nan                </td><td>nan                      </td><td>nan                           </td><td>nan               </td><td>nan                       </td><td>2               </td><td>nan               </td><td>nan               </td><td>nan       </td><td>nan              </td><td>nan                    </td><td>0               </td><td>nan               </td><td>nan               </td><td>nan               </td><td>b&#x27;NOT_AVAILABLE&#x27;    </td><td>48.89828418875664 </td><td>-28.304535023006014</td><td>317.4815172608697 </td><td>16.29102828139082  </td><td>nan          </td><td>nan       </td><td>nan                    </td><td>nan                    </td><td>nan      </td><td>nan                   </td><td>nan                   </td><td>nan              </td><td>nan                           </td><td>nan                           </td><td>nan          </td><td>nan               </td><td>nan                      </td><td>nan                      </td><td>nan       </td><td>nan                   </td><td>nan                   </td><td>0.6092649694683541 </td></tr>\n",
       "<tr><td><i style='opacity: 0.6'>254,993,354</i></td><td>1635721458409799680</td><td>b&#x27;Gaia DR2 6917528649685921152&#x27;</td><td>6917528649685921152</td><td>716056790     </td><td>2015.5     </td><td>315.0271609049075 </td><td>0.3503450665377464  </td><td>-0.03763745605112698 </td><td>0.1710860284638454  </td><td>1.2487008677381075</td><td>0.2661869619150447 </td><td>4.691066999999999    </td><td>-18.040868673042645</td><td>0.7921861742824134 </td><td>-35.11809190548408 </td><td>0.4688627022749574 </td><td>-0.72607243           </td><td>-0.3573374          </td><td>-0.7626815          </td><td>0.6751590999999999</td><td>0.64408356         </td><td>0.66001904          </td><td>-0.87216926        </td><td>0.29915053          </td><td>-0.5666014           </td><td>-0.73680365         </td><td>264                   </td><td>0                     </td><td>261                        </td><td>3                         </td><td>2.078631            </td><td>305.2231             </td><td>0.3447191861305826        </td><td>1.378767770765858             </td><td>31                         </td><td>False                     </td><td>0.89936143             </td><td>1.4077436535077203         </td><td>0.033669365014478626             </td><td>-0.19285251           </td><td>30                                </td><td>7                        </td><td>0.8343768                </td><td>0                          </td><td>32                    </td><td>False              </td><td>279           </td><td>1262.4417198612484</td><td>1.8364886592356597      </td><td>687.42145                    </td><td>17.935337         </td><td>0              </td><td>nan                </td><td>nan                      </td><td>nan                           </td><td>nan               </td><td>0              </td><td>nan                </td><td>nan                      </td><td>nan                           </td><td>nan               </td><td>nan                       </td><td>2               </td><td>nan               </td><td>nan               </td><td>nan       </td><td>nan              </td><td>nan                    </td><td>0               </td><td>nan               </td><td>nan               </td><td>nan               </td><td>b&#x27;NOT_AVAILABLE&#x27;    </td><td>48.89767036179502 </td><td>-28.30259516852812 </td><td>317.47975077310866</td><td>16.292114651197142 </td><td>nan          </td><td>nan       </td><td>nan                    </td><td>nan                    </td><td>nan      </td><td>nan                   </td><td>nan                   </td><td>nan              </td><td>nan                           </td><td>nan                           </td><td>nan          </td><td>nan               </td><td>nan                      </td><td>nan                      </td><td>nan       </td><td>nan                   </td><td>nan                   </td><td>0.8008323096718885 </td></tr>\n",
       "<tr><td><i style='opacity: 0.6'>254,993,355</i></td><td>1635721458409799680</td><td>b&#x27;Gaia DR2 6917528958921833088&#x27;</td><td>6917528958921833088</td><td>1065290304    </td><td>2015.5     </td><td>314.9834203886185 </td><td>0.3564015902467567  </td><td>-0.02002523009295189 </td><td>0.17675775283230466 </td><td>2.3996757986280075</td><td>0.28027247363113145</td><td>8.561939             </td><td>-14.3798579850303  </td><td>0.7800210731213912 </td><td>-17.69891045662339 </td><td>0.4844934908858207 </td><td>-0.7250105            </td><td>-0.33658540000000003</td><td>-0.8373689000000001 </td><td>0.697822          </td><td>0.6652778          </td><td>0.6982826           </td><td>-0.90057087        </td><td>0.34412098          </td><td>-0.615571            </td><td>-0.72753274         </td><td>296                   </td><td>0                     </td><td>296                        </td><td>0                         </td><td>0.34051087          </td><td>298.6135             </td><td>0.0                       </td><td>0.0                           </td><td>31                         </td><td>False                     </td><td>0.87872297             </td><td>1.3624897122373965         </td><td>0.030954193482770877             </td><td>-0.1681345            </td><td>34                                </td><td>7                        </td><td>0.8413782                </td><td>0                          </td><td>36                    </td><td>False              </td><td>310           </td><td>1146.0551361279975</td><td>1.5903097032787212      </td><td>720.64905                    </td><td>18.040352         </td><td>0              </td><td>nan                </td><td>nan                      </td><td>nan                           </td><td>nan               </td><td>0              </td><td>nan                </td><td>nan                      </td><td>nan                           </td><td>nan               </td><td>nan                       </td><td>2               </td><td>nan               </td><td>nan               </td><td>nan       </td><td>nan              </td><td>nan                    </td><td>0               </td><td>nan               </td><td>nan               </td><td>nan               </td><td>b&#x27;NOT_AVAILABLE&#x27;    </td><td>48.889079146481244</td><td>-28.25605292059626 </td><td>317.4415565122605 </td><td>16.321773239593252 </td><td>nan          </td><td>nan       </td><td>nan                    </td><td>nan                    </td><td>nan      </td><td>nan                   </td><td>nan                   </td><td>nan              </td><td>nan                           </td><td>nan                           </td><td>nan          </td><td>nan               </td><td>nan                      </td><td>nan                      </td><td>nan       </td><td>nan                   </td><td>nan                   </td><td>0.4167229592313015 </td></tr>\n",
       "<tr><td><i style='opacity: 0.6'>254,993,356</i></td><td>1635721458409799680</td><td>b&#x27;Gaia DR2 6917528993281571840&#x27;</td><td>6917528993281571840</td><td>1057759634    </td><td>2015.5     </td><td>314.9904017564393 </td><td>0.2686243051566997  </td><td>-0.008367585301478679</td><td>0.13220884263955485 </td><td>0.9767377244025096</td><td>0.20966425878115624</td><td>4.658580000000001    </td><td>-8.789568499444613 </td><td>0.6024182711252432 </td><td>-9.887007450999603 </td><td>0.3609798630506912 </td><td>-0.71226794           </td><td>-0.32785413         </td><td>-0.79407966         </td><td>0.67225677        </td><td>0.6483722          </td><td>0.66855806          </td><td>-0.88509864        </td><td>0.31642532          </td><td>-0.57081836          </td><td>-0.71771705         </td><td>288                   </td><td>0                     </td><td>286                        </td><td>2                         </td><td>0.15602541          </td><td>284.04306            </td><td>0.10468895650873274       </td><td>0.1926633779846534            </td><td>31                         </td><td>False                     </td><td>1.5025905000000002     </td><td>1.4398141313394808         </td><td>0.024217901524240717             </td><td>-0.18079054           </td><td>33                                </td><td>7                        </td><td>0.6392459                </td><td>0                          </td><td>35                    </td><td>False              </td><td>300           </td><td>1708.7844181229475</td><td>1.7183001457312599      </td><td>994.4621                     </td><td>17.606647         </td><td>0              </td><td>nan                </td><td>nan                      </td><td>nan                           </td><td>nan               </td><td>0              </td><td>nan                </td><td>nan                      </td><td>nan                           </td><td>nan               </td><td>nan                       </td><td>2               </td><td>nan               </td><td>nan               </td><td>nan       </td><td>nan              </td><td>nan                    </td><td>0               </td><td>nan               </td><td>nan               </td><td>nan               </td><td>b&#x27;NOT_AVAILABLE&#x27;    </td><td>48.90450543399686 </td><td>-28.25599336436905 </td><td>317.4520713869125 </td><td>16.330873481856276 </td><td>nan          </td><td>nan       </td><td>nan                    </td><td>nan                    </td><td>nan      </td><td>nan                   </td><td>nan                   </td><td>nan              </td><td>nan                           </td><td>nan                           </td><td>nan          </td><td>nan               </td><td>nan                      </td><td>nan                      </td><td>nan       </td><td>nan                   </td><td>nan                   </td><td>1.0238162968587299 </td></tr>\n",
       "<tr><td><i style='opacity: 0.6'>254,993,357</i></td><td>1635721458409799680</td><td>b&#x27;Gaia DR2 6917528997577384320&#x27;</td><td>6917528997577384320</td><td>776446853     </td><td>2015.5     </td><td>315.00363653770665</td><td>0.5569226827403532  </td><td>-0.006758168913672078</td><td>0.2820440565211547  </td><td>1.9776835145839613</td><td>0.4707730790922877 </td><td>4.2009273            </td><td>10.168637963656453 </td><td>1.3243511199805955 </td><td>-4.6319503374116335</td><td>0.7670280680975615 </td><td>-0.7069446999999999   </td><td>-0.3524638          </td><td>-0.7288846          </td><td>0.64234614        </td><td>0.6655390999999999 </td><td>0.64305264          </td><td>-0.8681120000000001</td><td>0.35158044          </td><td>-0.5439387           </td><td>-0.6995311          </td><td>267                   </td><td>0                     </td><td>267                        </td><td>0                         </td><td>5.658867            </td><td>413.15482000000003   </td><td>0.7578628201652942        </td><td>2.9604550451112943            </td><td>31                         </td><td>False                     </td><td>0.34310368             </td><td>1.3329285827339423         </td><td>0.05324715704124628              </td><td>-0.18852596           </td><td>31                                </td><td>7                        </td><td>1.3650335                </td><td>0                          </td><td>33                    </td><td>False              </td><td>286           </td><td>691.5784446136888 </td><td>1.5703237685944336      </td><td>440.405                      </td><td>18.588762         </td><td>0              </td><td>nan                </td><td>nan                      </td><td>nan                           </td><td>nan               </td><td>0              </td><td>nan                </td><td>nan                      </td><td>nan                           </td><td>nan               </td><td>nan                       </td><td>2               </td><td>nan               </td><td>nan               </td><td>nan       </td><td>nan              </td><td>nan                    </td><td>0               </td><td>nan               </td><td>nan               </td><td>nan               </td><td>b&#x27;NOT_AVAILABLE&#x27;    </td><td>48.91384657658588 </td><td>-28.266484088273092</td><td>317.4657484276085 </td><td>16.32853338725998  </td><td>nan          </td><td>nan       </td><td>nan                    </td><td>nan                    </td><td>nan      </td><td>nan                   </td><td>nan                   </td><td>nan              </td><td>nan                           </td><td>nan                           </td><td>nan          </td><td>nan               </td><td>nan                      </td><td>nan                      </td><td>nan       </td><td>nan                   </td><td>nan                   </td><td>0.5056420770187624 </td></tr>\n",
       "</tbody>\n",
       "</table>"
      ],
      "text/plain": [
       "#            solution_id          designation                      source_id            random_index    ref_epoch    ra                  ra_error              dec                    dec_error             parallax            parallax_error       parallax_over_error    pmra                 pmra_error           pmdec                pmdec_error          ra_dec_corr             ra_parallax_corr      ra_pmra_corr          ra_pmdec_corr       dec_parallax_corr    dec_pmra_corr         dec_pmdec_corr       parallax_pmra_corr    parallax_pmdec_corr    pmra_pmdec_corr       astrometric_n_obs_al    astrometric_n_obs_ac    astrometric_n_good_obs_al    astrometric_n_bad_obs_al    astrometric_gof_al    astrometric_chi2_al    astrometric_excess_noise    astrometric_excess_noise_sig    astrometric_params_solved    astrometric_primary_flag    astrometric_weight_al    astrometric_pseudo_colour    astrometric_pseudo_colour_error    mean_varpi_factor_al    astrometric_matched_observations    visibility_periods_used    astrometric_sigma5d_max    frame_rotator_object_type    matched_observations    duplicated_source    phot_g_n_obs    phot_g_mean_flux    phot_g_mean_flux_error    phot_g_mean_flux_over_error    phot_g_mean_mag     phot_bp_n_obs    phot_bp_mean_flux    phot_bp_mean_flux_error    phot_bp_mean_flux_over_error    phot_bp_mean_mag    phot_rp_n_obs    phot_rp_mean_flux    phot_rp_mean_flux_error    phot_rp_mean_flux_over_error    phot_rp_mean_mag    phot_bp_rp_excess_factor    phot_proc_mode    bp_rp               bp_g                g_rp        radial_velocity    radial_velocity_error    rv_nb_transits    rv_template_teff    rv_template_logg    rv_template_fe_h    phot_variable_flag    l                   b                    ecl_lon             ecl_lat              priam_flags    teff_val    teff_percentile_lower    teff_percentile_upper    a_g_val    a_g_percentile_lower    a_g_percentile_upper    e_bp_min_rp_val    e_bp_min_rp_percentile_lower    e_bp_min_rp_percentile_upper    flame_flags    radius_val          radius_percentile_lower    radius_percentile_upper    lum_val     lum_percentile_lower    lum_percentile_upper    distance\n",
       "0            1635721458409799680  b'Gaia DR2 34361129088'          34361129088          1253687186      2015.5       45.00431616420765   0.13221516031053107   0.021045032689712983   0.15033009946029466   3.48677407917816    0.1943677537725032   17.939056              30.2997273525487     0.2890571540060363   20.102047674607906   0.2904121164006919   0.06490505              0.10328879            -3.8125843e-05        0.010977124         -0.5181503           -0.15682727           -0.25213727          0.25715247            0.36133286             0.21847394            97                      0                       97                           0                           3.1044097             139.97816              0.4393295485806768          2.2560181660871423              31                           False                       1.285051                 1.3322381786391089           0.043729691466259976               0.030602371             11                                  9                          0.29393765                 0                            11                      False                96              1712.9128925457007  3.0338739347619077        564.59595                      17.604027           11               397.3368347119427    13.369227259151073         29.720254999999998              18.85349            10               2155.4795941459947   8.25350128363993           261.15942                       16.428060000000002  1.4903364                   0                 2.4254303           1.249464            1.1759663   nan                nan                      0                 nan                 nan                 nan                 b'NOT_AVAILABLE'      176.94278716312405  -48.88493841774036   42.54656815575859   -16.317213719979975  nan            nan         nan                      nan                      nan        nan                     nan                     nan                nan                             nan                             nan            nan                 nan                        nan                        nan         nan                     nan                     0.28679804807878523\n",
       "1            1635721458409799680  b'Gaia DR2 38655544960'          38655544960          1168973894      2015.5       45.004974244984105  0.029723176168001464  0.019877000365797717   0.0398615194906984    3.1212565825574363  0.04667520041451068  66.87184               29.669773387717747   0.07106567711614904  19.225962799772443   0.08279741152631212  0.11690165              0.2090516             -0.14794418           -0.082815714        -0.6151166           -0.4523399            -0.59776425          0.45273238            0.47702566             0.595477              104                     0                       104                          0                           -2.2898765            69.61933               0.0                         0.0                             31                           False                       54.20531999999999        1.5148504032402288           0.010003998099121137               0.07058261              12                                  9                          0.10163828                 0                            12                      False                103             41605.42089500058   18.392505474272053        2262.0854                      14.140491           11               17692.585419434203   53.957682875030116         327.89743                       14.731910000000001  11               34351.87449020634    58.427462958732775         587.94055                       13.422044           1.2509058000000002          0                 1.309866            0.5914191999999999  0.71844673  nan                nan                      0                 nan                 nan                 nan                 b'NOT_AVAILABLE'      176.94476069003898  -48.88527495232597   42.54686709098933   -16.318523323705843  100001.0       4962.0      4770.505                 5050.6665                0.032      0.0149                  0.2091                  0.016              0.0069                          0.0728                          200111.0       0.5863995           0.5659911999999999         0.63442224                 0.18780576  0.18156888              0.19404264              0.32038378568052195\n",
       "2            1635721458409799680  b'Gaia DR2 309238066432'         309238066432         716364491       2015.5       44.99503703932583   0.3748451704441453    0.03815183599451371    0.354580932399439     1.5788410668677395  0.4509078829430168   3.5014714999999996     0.9185563546406772   0.8071335238976993   -0.4685586426340295  0.7201817396537079   0.042778816             0.14737031            -0.08400111           0.071659945         -0.175486            0.009628623000000001  -0.06346788          0.19779278            0.17691185             0.061723847000000005  114                     0                       114                          0                           -0.38584504           102.75944              0.0                         0.0                             31                           False                       0.1383114                1.2159144402017843           0.1151187960793006                 -0.07122756             13                                  10                         0.71777946                 0                            13                      False                114             263.32165329152957  1.644274128985754         160.14462                      19.63715            9                50.62248230415713    4.981187273921231          10.162734                       21.090529999999998  9                355.4098452181598    7.532196715416053          47.185417                       18.385096           1.5419633                   0                 2.7054348           1.4533806           1.2520542   nan                nan                      0                 nan                 nan                 nan                 b'NOT_AVAILABLE'      176.91426520135354  -48.87974729251865   42.54254808202412   -16.29813865533474   nan            nan         nan                      nan                      nan        nan                     nan                     nan                nan                             nan                             nan            nan                 nan                        nan                        nan         nan                     nan                     0.6333759749383125\n",
       "3            1635721458409799680  b'Gaia DR2 549755818112'         549755818112         1177051613      2015.5       45.04828219158795   0.03581566427312946   0.0482562232180315     0.03382583596058348   1.5757410959854032  0.04544080275231608  34.676790000000004     0.7765237424569156   0.07231605334152694  -16.297421650379626  0.06807817471960795  -0.0028029204999999997  0.23550634            -0.12042919999999999  0.10023469          -0.33905742          -0.016589373          -0.15386638          0.2562643             0.11931802             0.24038868            114                     0                       114                          0                           -0.16443342           105.93468999999999     0.0                         0.0                             31                           True                        23.812988                1.4879920240090097           0.011987293544888769               -0.05698471             13                                  9                          0.07740031                 0                            13                      False                114             18785.69411068102   12.738567124167151        1474.7101                      15.003798000000002  11               8206.992305292435    27.09958109765575          302.84573                       15.565928           12               15360.938070368882   24.302429083746066         632.07416                       14.295876000000002  1.2545680000000001          0                 1.2700528999999998  0.5621309           0.707922    nan                nan                      0                 nan                 nan                 nan                 b'NOT_AVAILABLE'      176.95936301682968  -48.834396027852925  42.59867362870693   -16.304075204960867  100001.0       4907.03     4744.117                 5094.2                   nan        nan                     nan                     nan                nan                             nan                             200111.0       0.8032756999999999  0.7453324                  0.8593917999999999         0.33705345  0.3153752               0.3587317               0.6346220216936345\n",
       "4            1635721458409799680  b'Gaia DR2 828929527040'         828929527040         654264650       2015.5       45.02361786160386   0.09795881408871177   0.06842024221607944    0.12041206118350332   1.150084169026853   0.14196433045736287  8.101219               13.599615233997635   0.2304435867208865   -10.492354103767576  0.24703732006809065  0.11152559              0.09140981            -0.22551225           -0.03210462         -0.5819791           -0.28064206           -0.46411532          0.36775225            0.36757702             0.46032217            104                     0                       99                           5                           8.226082              256.6127               0.41047042806777145         5.326117707341684               31                           False                       2.5559464                1.5475051911061672           0.032708538741441216               0.09494229              12                                  9                          0.26908413                 0                            12                      False                94              4330.345010960949   3.91207631680022          1106.9174                      16.59706            7                1685.6428383284895   15.263720518032374         110.4346                        17.284473000000002  8                3827.0967751436797   10.630302321020569         360.01767                       15.804747           1.2730486                   0                 1.4797268           0.68741417          0.7923126   nan                nan                      0                 nan                 nan                 nan                 b'NOT_AVAILABLE'      176.91130222161206  -48.83816317323111   42.58025627440488   -16.277572224088974  100001.0       4417.3335   4325.29                  4651.0                   0.305      0.1016                  0.7132                  0.1465             0.0525                          0.3487                          200111.0       0.7077532           0.63842446                 0.7381960999999999         0.17183004  0.12877518              0.21488490000000002     0.8695015781724504\n",
       "...          ...                  ...                              ...                  ...             ...          ...                 ...                   ...                    ...                   ...                 ...                  ...                    ...                  ...                  ...                  ...                  ...                     ...                   ...                   ...                 ...                  ...                   ...                  ...                   ...                    ...                   ...                     ...                     ...                          ...                         ...                   ...                    ...                         ...                             ...                          ...                         ...                      ...                          ...                                ...                     ...                                 ...                        ...                        ...                          ...                     ...                  ...             ...                 ...                       ...                            ...                 ...              ...                  ...                        ...                             ...                 ...              ...                  ...                        ...                             ...                 ...                         ...               ...                 ...                 ...         ...                ...                      ...               ...                 ...                 ...                 ...                   ...                 ...                  ...                 ...                  ...            ...         ...                      ...                      ...        ...                     ...                     ...                ...                             ...                             ...            ...                 ...                        ...                        ...         ...                     ...                     ...\n",
       "254,993,353  1635721458409799680  b'Gaia DR2 6917528649684202496'  6917528649684202496  1053649172      2015.5       315.0291004576878   0.05861753379220761   -0.03817898194266277   0.028388384329074662  1.6413220029252662  0.04268724919385685  38.449936              3.3236257047229034   0.13200320952793584  4.139329737718659    0.07584397445049408  -0.72014606             -0.32786918           -0.7879513000000001   0.67931086          0.6134897            0.6745606             -0.87134486          0.31323355            -0.5223451             -0.72674227           242                     0                       242                          0                           -2.5549374            185.04753              0.0                         0.0                             31                           False                       117.74651999999999       1.6046082181838968           0.005422563601014983               -0.20179346             28                                  7                          0.15548256                 0                            30                      False                254             89898.04942218369   43.83830496668274         2050.6736                      13.303989999999999  0                nan                  nan                        nan                             nan                 0                nan                  nan                        nan                             nan                 nan                         2                 nan                 nan                 nan         nan                nan                      0                 nan                 nan                 nan                 b'NOT_AVAILABLE'      48.89828418875664   -28.304535023006014  317.4815172608697   16.29102828139082    nan            nan         nan                      nan                      nan        nan                     nan                     nan                nan                             nan                             nan            nan                 nan                        nan                        nan         nan                     nan                     0.6092649694683541\n",
       "254,993,354  1635721458409799680  b'Gaia DR2 6917528649685921152'  6917528649685921152  716056790       2015.5       315.0271609049075   0.3503450665377464    -0.03763745605112698   0.1710860284638454    1.2487008677381075  0.2661869619150447   4.691066999999999      -18.040868673042645  0.7921861742824134   -35.11809190548408   0.4688627022749574   -0.72607243             -0.3573374            -0.7626815            0.6751590999999999  0.64408356           0.66001904            -0.87216926          0.29915053            -0.5666014             -0.73680365           264                     0                       261                          3                           2.078631              305.2231               0.3447191861305826          1.378767770765858               31                           False                       0.89936143               1.4077436535077203           0.033669365014478626               -0.19285251             30                                  7                          0.8343768                  0                            32                      False                279             1262.4417198612484  1.8364886592356597        687.42145                      17.935337           0                nan                  nan                        nan                             nan                 0                nan                  nan                        nan                             nan                 nan                         2                 nan                 nan                 nan         nan                nan                      0                 nan                 nan                 nan                 b'NOT_AVAILABLE'      48.89767036179502   -28.30259516852812   317.47975077310866  16.292114651197142   nan            nan         nan                      nan                      nan        nan                     nan                     nan                nan                             nan                             nan            nan                 nan                        nan                        nan         nan                     nan                     0.8008323096718885\n",
       "254,993,355  1635721458409799680  b'Gaia DR2 6917528958921833088'  6917528958921833088  1065290304      2015.5       314.9834203886185   0.3564015902467567    -0.02002523009295189   0.17675775283230466   2.3996757986280075  0.28027247363113145  8.561939               -14.3798579850303    0.7800210731213912   -17.69891045662339   0.4844934908858207   -0.7250105              -0.33658540000000003  -0.8373689000000001   0.697822            0.6652778            0.6982826             -0.90057087          0.34412098            -0.615571              -0.72753274           296                     0                       296                          0                           0.34051087            298.6135               0.0                         0.0                             31                           False                       0.87872297               1.3624897122373965           0.030954193482770877               -0.1681345              34                                  7                          0.8413782                  0                            36                      False                310             1146.0551361279975  1.5903097032787212        720.64905                      18.040352           0                nan                  nan                        nan                             nan                 0                nan                  nan                        nan                             nan                 nan                         2                 nan                 nan                 nan         nan                nan                      0                 nan                 nan                 nan                 b'NOT_AVAILABLE'      48.889079146481244  -28.25605292059626   317.4415565122605   16.321773239593252   nan            nan         nan                      nan                      nan        nan                     nan                     nan                nan                             nan                             nan            nan                 nan                        nan                        nan         nan                     nan                     0.4167229592313015\n",
       "254,993,356  1635721458409799680  b'Gaia DR2 6917528993281571840'  6917528993281571840  1057759634      2015.5       314.9904017564393   0.2686243051566997    -0.008367585301478679  0.13220884263955485   0.9767377244025096  0.20966425878115624  4.658580000000001      -8.789568499444613   0.6024182711252432   -9.887007450999603   0.3609798630506912   -0.71226794             -0.32785413           -0.79407966           0.67225677          0.6483722            0.66855806            -0.88509864          0.31642532            -0.57081836            -0.71771705           288                     0                       286                          2                           0.15602541            284.04306              0.10468895650873274         0.1926633779846534              31                           False                       1.5025905000000002       1.4398141313394808           0.024217901524240717               -0.18079054             33                                  7                          0.6392459                  0                            35                      False                300             1708.7844181229475  1.7183001457312599        994.4621                       17.606647           0                nan                  nan                        nan                             nan                 0                nan                  nan                        nan                             nan                 nan                         2                 nan                 nan                 nan         nan                nan                      0                 nan                 nan                 nan                 b'NOT_AVAILABLE'      48.90450543399686   -28.25599336436905   317.4520713869125   16.330873481856276   nan            nan         nan                      nan                      nan        nan                     nan                     nan                nan                             nan                             nan            nan                 nan                        nan                        nan         nan                     nan                     1.0238162968587299\n",
       "254,993,357  1635721458409799680  b'Gaia DR2 6917528997577384320'  6917528997577384320  776446853       2015.5       315.00363653770665  0.5569226827403532    -0.006758168913672078  0.2820440565211547    1.9776835145839613  0.4707730790922877   4.2009273              10.168637963656453   1.3243511199805955   -4.6319503374116335  0.7670280680975615   -0.7069446999999999     -0.3524638            -0.7288846            0.64234614          0.6655390999999999   0.64305264            -0.8681120000000001  0.35158044            -0.5439387             -0.6995311            267                     0                       267                          0                           5.658867              413.15482000000003     0.7578628201652942          2.9604550451112943              31                           False                       0.34310368               1.3329285827339423           0.05324715704124628                -0.18852596             31                                  7                          1.3650335                  0                            33                      False                286             691.5784446136888   1.5703237685944336        440.405                        18.588762           0                nan                  nan                        nan                             nan                 0                nan                  nan                        nan                             nan                 nan                         2                 nan                 nan                 nan         nan                nan                      0                 nan                 nan                 nan                 b'NOT_AVAILABLE'      48.91384657658588   -28.266484088273092  317.4657484276085   16.32853338725998    nan            nan         nan                      nan                      nan        nan                     nan                     nan                nan                             nan                             nan            nan                 nan                        nan                        nan         nan                     nan                     0.5056420770187624"
      ]
     },
     "execution_count": 12,
     "metadata": {},
     "output_type": "execute_result"
    }
   ],
   "source": [
    "dff"
   ]
  },
  {
   "cell_type": "code",
   "execution_count": 13,
   "metadata": {
    "ExecuteTime": {
     "end_time": "2020-06-12T14:08:12.112680Z",
     "start_time": "2020-06-12T14:08:11.203178Z"
    },
    "execution": {
     "iopub.execute_input": "2020-06-12T08:42:46.888755Z",
     "iopub.status.busy": "2020-06-12T08:42:46.888530Z",
     "iopub.status.idle": "2020-06-12T08:42:48.278404Z",
     "shell.execute_reply": "2020-06-12T08:42:48.278057Z",
     "shell.execute_reply.started": "2020-06-12T08:42:46.888729Z"
    }
   },
   "outputs": [
    {
     "data": {
      "text/plain": [
       "array(1.64527875)"
      ]
     },
     "execution_count": 13,
     "metadata": {},
     "output_type": "execute_result"
    }
   ],
   "source": [
    "dff.mean(dff.distance)"
   ]
  },
  {
   "cell_type": "code",
   "execution_count": 14,
   "metadata": {
    "ExecuteTime": {
     "end_time": "2020-06-12T14:08:38.725685Z",
     "start_time": "2020-06-12T14:08:35.805208Z"
    },
    "execution": {
     "iopub.execute_input": "2020-06-12T08:42:49.199565Z",
     "iopub.status.busy": "2020-06-12T08:42:49.199409Z",
     "iopub.status.idle": "2020-06-12T08:42:50.975576Z",
     "shell.execute_reply": "2020-06-12T08:42:50.975118Z",
     "shell.execute_reply.started": "2020-06-12T08:42:49.199549Z"
    }
   },
   "outputs": [
    {
     "data": {
      "text/plain": [
       "array([ 2.04322801e-01, -8.67326041e-02,  2.09344123e-01,  2.44889821e-01,\n",
       "        2.42443737e-01,  2.75645458e-01,  2.60451711e-01,  2.97047988e-01,\n",
       "        3.06115490e-01,  2.83810258e-01,  3.05959349e-01,  3.15702557e-01,\n",
       "        8.97328926e-02,  3.54976058e-01,  4.16271032e-01,  3.84148443e-01,\n",
       "        4.38291999e-01,  3.97344443e-01,  4.33921258e-01,  4.46700775e-01,\n",
       "        4.90246486e-01,  4.77647391e-01,  4.98258872e-01,  5.11047502e-01,\n",
       "        5.52889404e-01,  5.08551103e-01,  5.49160814e-01,  6.70030947e-01,\n",
       "        6.58296181e-01,  7.03629516e-01,  7.05721531e-01,  7.71547349e-01,\n",
       "        7.73187063e-01,  7.99464608e-01,  8.31550698e-01,  8.41322485e-01,\n",
       "        9.29607426e-01,  9.78306562e-01,  6.20219588e-01,  1.08335344e+00,\n",
       "        1.09011173e+00,  1.15537194e+00,  1.29836917e+00,  1.26519645e+00,\n",
       "        1.36039298e+00,  1.45479664e+00,  1.78772764e+00,  1.98413593e+00,\n",
       "        1.65851766e+00,  1.79841693e+00,  1.98547508e+00,  1.53609996e+00,\n",
       "        1.58929022e+00,  4.19080129e+00,  1.91391839e+00,  2.49464845e+00,\n",
       "        2.55999450e+00,  1.54159419e+00,  7.46048507e+00,  2.38457192e+00,\n",
       "        2.20757275e+00,  3.57630272e+00,  2.23952525e+02,  9.80693358e+00,\n",
       "        8.22453811e+00,  2.20952675e+00,  3.28685846e+00,  2.83147301e+00,\n",
       "        2.27100005e+00,  8.35796874e+00,  3.08808835e+00,  4.05898003e+00,\n",
       "        2.44126740e+00,  1.31155252e+00,  6.46573718e+00,  4.01637447e+00,\n",
       "        2.51590762e+00,  1.21889758e+00, -2.58153803e+00,  3.78642888e-01,\n",
       "        4.24032158e+00,  4.41549267e+00,  3.37524536e+00,  4.63934405e+00,\n",
       "        7.94796296e-01, -7.24857177e+00,  5.49576748e+00, -8.75295323e-01,\n",
       "        1.89163821e+00, -1.20448788e+00, -2.24857180e+00, -4.37005864e+01,\n",
       "        8.91370558e+00,  2.25241257e+00, -1.85734316e+00, -2.93255063e+01,\n",
       "       -1.85346903e+00, -2.01522744e-01,  3.67815042e-01,  1.19647173e+00])"
      ]
     },
     "execution_count": 14,
     "metadata": {},
     "output_type": "execute_result"
    }
   ],
   "source": [
    "distances = df.mean(df.distance, binby=[df.phot_g_mean_mag], limits=[5, 20], shape=100)\n",
    "distances"
   ]
  },
  {
   "cell_type": "markdown",
   "metadata": {},
   "source": [
    "# Visualization"
   ]
  },
  {
   "cell_type": "code",
   "execution_count": 15,
   "metadata": {
    "ExecuteTime": {
     "end_time": "2020-06-12T14:08:47.010261Z",
     "start_time": "2020-06-12T14:08:46.936090Z"
    },
    "execution": {
     "iopub.execute_input": "2020-06-12T08:42:51.929138Z",
     "iopub.status.busy": "2020-06-12T08:42:51.928912Z",
     "iopub.status.idle": "2020-06-12T08:42:52.017973Z",
     "shell.execute_reply": "2020-06-12T08:42:52.017548Z",
     "shell.execute_reply.started": "2020-06-12T08:42:51.929113Z"
    }
   },
   "outputs": [
    {
     "data": {
      "text/plain": [
       "[<matplotlib.lines.Line2D at 0x7f31b3fcc390>]"
      ]
     },
     "execution_count": 15,
     "metadata": {},
     "output_type": "execute_result"
    },
    {
     "data": {
      "image/png": "[encoded data removed]",
      "text/plain": [
       "<Figure size 432x288 with 1 Axes>"
      ]
     },
     "metadata": {
      "needs_background": "light"
     },
     "output_type": "display_data"
    }
   ],
   "source": [
    "import matplotlib.pylab as plt\n",
    "plt.plot(distances)"
   ]
  },
  {
   "cell_type": "code",
   "execution_count": 16,
   "metadata": {
    "ExecuteTime": {
     "end_time": "2020-06-12T14:09:14.174062Z",
     "start_time": "2020-06-12T14:09:11.276779Z"
    },
    "execution": {
     "iopub.execute_input": "2020-06-12T08:43:03.779579Z",
     "iopub.status.busy": "2020-06-12T08:43:03.779355Z",
     "iopub.status.idle": "2020-06-12T08:43:05.580117Z",
     "shell.execute_reply": "2020-06-12T08:43:05.579702Z",
     "shell.execute_reply.started": "2020-06-12T08:43:03.779553Z"
    }
   },
   "outputs": [
    {
     "data": {
      "text/html": [
       "<div><svg style=\"position: absolute; width: 0; height: 0; overflow: hidden\">\n",
       "<defs>\n",
       "<symbol id=\"icon-database\" viewBox=\"0 0 32 32\">\n",
       "<title>Show/Hide data repr</title>\n",
       "<path d=\"M16 0c-8.837 0-16 2.239-16 5v4c0 2.761 7.163 5 16 5s16-2.239 16-5v-4c0-2.761-7.163-5-16-5z\"></path>\n",
       "<path d=\"M16 17c-8.837 0-16-2.239-16-5v6c0 2.761 7.163 5 16 5s16-2.239 16-5v-6c0 2.761-7.163 5-16 5z\"></path>\n",
       "<path d=\"M16 26c-8.837 0-16-2.239-16-5v6c0 2.761 7.163 5 16 5s16-2.239 16-5v-6c0 2.761-7.163 5-16 5z\"></path>\n",
       "</symbol>\n",
       "<symbol id=\"icon-file-text2\" viewBox=\"0 0 32 32\">\n",
       "<title>Show/Hide attributes</title>\n",
       "<path d=\"M28.681 7.159c-0.694-0.947-1.662-2.053-2.724-3.116s-2.169-2.030-3.116-2.724c-1.612-1.182-2.393-1.319-2.841-1.319h-15.5c-1.378 0-2.5 1.121-2.5 2.5v27c0 1.378 1.122 2.5 2.5 2.5h23c1.378 0 2.5-1.122 2.5-2.5v-19.5c0-0.448-0.137-1.23-1.319-2.841zM24.543 5.457c0.959 0.959 1.712 1.825 2.268 2.543h-4.811v-4.811c0.718 0.556 1.584 1.309 2.543 2.268zM28 29.5c0 0.271-0.229 0.5-0.5 0.5h-23c-0.271 0-0.5-0.229-0.5-0.5v-27c0-0.271 0.229-0.5 0.5-0.5 0 0 15.499-0 15.5 0v7c0 0.552 0.448 1 1 1h7v19.5z\"></path>\n",
       "<path d=\"M23 26h-14c-0.552 0-1-0.448-1-1s0.448-1 1-1h14c0.552 0 1 0.448 1 1s-0.448 1-1 1z\"></path>\n",
       "<path d=\"M23 22h-14c-0.552 0-1-0.448-1-1s0.448-1 1-1h14c0.552 0 1 0.448 1 1s-0.448 1-1 1z\"></path>\n",
       "<path d=\"M23 18h-14c-0.552 0-1-0.448-1-1s0.448-1 1-1h14c0.552 0 1 0.448 1 1s-0.448 1-1 1z\"></path>\n",
       "</symbol>\n",
       "</defs>\n",
       "</svg>\n",
       "<style>/* CSS stylesheet for displaying xarray objects in jupyterlab.\n",
       " *\n",
       " */\n",
       "\n",
       ":root {\n",
       "  --xr-font-color0: var(--jp-content-font-color0, rgba(0, 0, 0, 1));\n",
       "  --xr-font-color2: var(--jp-content-font-color2, rgba(0, 0, 0, 0.54));\n",
       "  --xr-font-color3: var(--jp-content-font-color3, rgba(0, 0, 0, 0.38));\n",
       "  --xr-border-color: var(--jp-border-color2, #e0e0e0);\n",
       "  --xr-disabled-color: var(--jp-layout-color3, #bdbdbd);\n",
       "  --xr-background-color: var(--jp-layout-color0, white);\n",
       "  --xr-background-color-row-even: var(--jp-layout-color1, white);\n",
       "  --xr-background-color-row-odd: var(--jp-layout-color2, #eeeeee);\n",
       "}\n",
       "\n",
       ".xr-wrap {\n",
       "  min-width: 300px;\n",
       "  max-width: 700px;\n",
       "}\n",
       "\n",
       ".xr-header {\n",
       "  padding-top: 6px;\n",
       "  padding-bottom: 6px;\n",
       "  margin-bottom: 4px;\n",
       "  border-bottom: solid 1px var(--xr-border-color);\n",
       "}\n",
       "\n",
       ".xr-header > div,\n",
       ".xr-header > ul {\n",
       "  display: inline;\n",
       "  margin-top: 0;\n",
       "  margin-bottom: 0;\n",
       "}\n",
       "\n",
       ".xr-obj-type,\n",
       ".xr-array-name {\n",
       "  margin-left: 2px;\n",
       "  margin-right: 10px;\n",
       "}\n",
       "\n",
       ".xr-obj-type {\n",
       "  color: var(--xr-font-color2);\n",
       "}\n",
       "\n",
       ".xr-sections {\n",
       "  padding-left: 0 !important;\n",
       "  display: grid;\n",
       "  grid-template-columns: 150px auto auto 1fr 20px 20px;\n",
       "}\n",
       "\n",
       ".xr-section-item {\n",
       "  display: contents;\n",
       "}\n",
       "\n",
       ".xr-section-item input {\n",
       "  display: none;\n",
       "}\n",
       "\n",
       ".xr-section-item input + label {\n",
       "  color: var(--xr-disabled-color);\n",
       "}\n",
       "\n",
       ".xr-section-item input:enabled + label {\n",
       "  cursor: pointer;\n",
       "  color: var(--xr-font-color2);\n",
       "}\n",
       "\n",
       ".xr-section-item input:enabled + label:hover {\n",
       "  color: var(--xr-font-color0);\n",
       "}\n",
       "\n",
       ".xr-section-summary {\n",
       "  grid-column: 1;\n",
       "  color: var(--xr-font-color2);\n",
       "  font-weight: 500;\n",
       "}\n",
       "\n",
       ".xr-section-summary > span {\n",
       "  display: inline-block;\n",
       "  padding-left: 0.5em;\n",
       "}\n",
       "\n",
       ".xr-section-summary-in:disabled + label {\n",
       "  color: var(--xr-font-color2);\n",
       "}\n",
       "\n",
       ".xr-section-summary-in + label:before {\n",
       "  display: inline-block;\n",
       "  content: '►';\n",
       "  font-size: 11px;\n",
       "  width: 15px;\n",
       "  text-align: center;\n",
       "}\n",
       "\n",
       ".xr-section-summary-in:disabled + label:before {\n",
       "  color: var(--xr-disabled-color);\n",
       "}\n",
       "\n",
       ".xr-section-summary-in:checked + label:before {\n",
       "  content: '▼';\n",
       "}\n",
       "\n",
       ".xr-section-summary-in:checked + label > span {\n",
       "  display: none;\n",
       "}\n",
       "\n",
       ".xr-section-summary,\n",
       ".xr-section-inline-details {\n",
       "  padding-top: 4px;\n",
       "  padding-bottom: 4px;\n",
       "}\n",
       "\n",
       ".xr-section-inline-details {\n",
       "  grid-column: 2 / -1;\n",
       "}\n",
       "\n",
       ".xr-section-details {\n",
       "  display: none;\n",
       "  grid-column: 1 / -1;\n",
       "  margin-bottom: 5px;\n",
       "}\n",
       "\n",
       ".xr-section-summary-in:checked ~ .xr-section-details {\n",
       "  display: contents;\n",
       "}\n",
       "\n",
       ".xr-array-wrap {\n",
       "  grid-column: 1 / -1;\n",
       "  display: grid;\n",
       "  grid-template-columns: 20px auto;\n",
       "}\n",
       "\n",
       ".xr-array-wrap > label {\n",
       "  grid-column: 1;\n",
       "  vertical-align: top;\n",
       "}\n",
       "\n",
       ".xr-preview {\n",
       "  color: var(--xr-font-color3);\n",
       "}\n",
       "\n",
       ".xr-array-preview,\n",
       ".xr-array-data {\n",
       "  padding: 0 5px !important;\n",
       "  grid-column: 2;\n",
       "}\n",
       "\n",
       ".xr-array-data,\n",
       ".xr-array-in:checked ~ .xr-array-preview {\n",
       "  display: none;\n",
       "}\n",
       "\n",
       ".xr-array-in:checked ~ .xr-array-data,\n",
       ".xr-array-preview {\n",
       "  display: inline-block;\n",
       "}\n",
       "\n",
       ".xr-dim-list {\n",
       "  display: inline-block !important;\n",
       "  list-style: none;\n",
       "  padding: 0 !important;\n",
       "  margin: 0;\n",
       "}\n",
       "\n",
       ".xr-dim-list li {\n",
       "  display: inline-block;\n",
       "  padding: 0;\n",
       "  margin: 0;\n",
       "}\n",
       "\n",
       ".xr-dim-list:before {\n",
       "  content: '(';\n",
       "}\n",
       "\n",
       ".xr-dim-list:after {\n",
       "  content: ')';\n",
       "}\n",
       "\n",
       ".xr-dim-list li:not(:last-child):after {\n",
       "  content: ',';\n",
       "  padding-right: 5px;\n",
       "}\n",
       "\n",
       ".xr-has-index {\n",
       "  font-weight: bold;\n",
       "}\n",
       "\n",
       ".xr-var-list,\n",
       ".xr-var-item {\n",
       "  display: contents;\n",
       "}\n",
       "\n",
       ".xr-var-item > div,\n",
       ".xr-var-item label,\n",
       ".xr-var-item > .xr-var-name span {\n",
       "  background-color: var(--xr-background-color-row-even);\n",
       "  margin-bottom: 0;\n",
       "}\n",
       "\n",
       ".xr-var-item > .xr-var-name:hover span {\n",
       "  padding-right: 5px;\n",
       "}\n",
       "\n",
       ".xr-var-list > li:nth-child(odd) > div,\n",
       ".xr-var-list > li:nth-child(odd) > label,\n",
       ".xr-var-list > li:nth-child(odd) > .xr-var-name span {\n",
       "  background-color: var(--xr-background-color-row-odd);\n",
       "}\n",
       "\n",
       ".xr-var-name {\n",
       "  grid-column: 1;\n",
       "}\n",
       "\n",
       ".xr-var-dims {\n",
       "  grid-column: 2;\n",
       "}\n",
       "\n",
       ".xr-var-dtype {\n",
       "  grid-column: 3;\n",
       "  text-align: right;\n",
       "  color: var(--xr-font-color2);\n",
       "}\n",
       "\n",
       ".xr-var-preview {\n",
       "  grid-column: 4;\n",
       "}\n",
       "\n",
       ".xr-var-name,\n",
       ".xr-var-dims,\n",
       ".xr-var-dtype,\n",
       ".xr-preview,\n",
       ".xr-attrs dt {\n",
       "  white-space: nowrap;\n",
       "  overflow: hidden;\n",
       "  text-overflow: ellipsis;\n",
       "  padding-right: 10px;\n",
       "}\n",
       "\n",
       ".xr-var-name:hover,\n",
       ".xr-var-dims:hover,\n",
       ".xr-var-dtype:hover,\n",
       ".xr-attrs dt:hover {\n",
       "  overflow: visible;\n",
       "  width: auto;\n",
       "  z-index: 1;\n",
       "}\n",
       "\n",
       ".xr-var-attrs,\n",
       ".xr-var-data {\n",
       "  display: none;\n",
       "  background-color: var(--xr-background-color) !important;\n",
       "  padding-bottom: 5px !important;\n",
       "}\n",
       "\n",
       ".xr-var-attrs-in:checked ~ .xr-var-attrs,\n",
       ".xr-var-data-in:checked ~ .xr-var-data {\n",
       "  display: block;\n",
       "}\n",
       "\n",
       ".xr-var-data > table {\n",
       "  float: right;\n",
       "}\n",
       "\n",
       ".xr-var-name span,\n",
       ".xr-var-data,\n",
       ".xr-attrs {\n",
       "  padding-left: 25px !important;\n",
       "}\n",
       "\n",
       ".xr-attrs,\n",
       ".xr-var-attrs,\n",
       ".xr-var-data {\n",
       "  grid-column: 1 / -1;\n",
       "}\n",
       "\n",
       "dl.xr-attrs {\n",
       "  padding: 0;\n",
       "  margin: 0;\n",
       "  display: grid;\n",
       "  grid-template-columns: 125px auto;\n",
       "}\n",
       "\n",
       ".xr-attrs dt, dd {\n",
       "  padding: 0;\n",
       "  margin: 0;\n",
       "  float: left;\n",
       "  padding-right: 10px;\n",
       "  width: auto;\n",
       "}\n",
       "\n",
       ".xr-attrs dt {\n",
       "  font-weight: normal;\n",
       "  grid-column: 1;\n",
       "}\n",
       "\n",
       ".xr-attrs dt:hover span {\n",
       "  display: inline-block;\n",
       "  background: var(--xr-background-color);\n",
       "  padding-right: 10px;\n",
       "}\n",
       "\n",
       ".xr-attrs dd {\n",
       "  grid-column: 2;\n",
       "  white-space: pre-wrap;\n",
       "  word-break: break-all;\n",
       "}\n",
       "\n",
       ".xr-icon-database,\n",
       ".xr-icon-file-text2 {\n",
       "  display: inline-block;\n",
       "  vertical-align: middle;\n",
       "  width: 1em;\n",
       "  height: 1.5em !important;\n",
       "  stroke-width: 0;\n",
       "  stroke: currentColor;\n",
       "  fill: currentColor;\n",
       "}\n",
       "</style><div class='xr-wrap'><div class='xr-header'><div class='xr-obj-type'>xarray.DataArray</div><div class='xr-array-name'></div><ul class='xr-dim-list'><li><span class='xr-has-index'>phot_g_mean_mag</span>: 100</li></ul></div><ul class='xr-sections'><li class='xr-section-item'><div class='xr-array-wrap'><input id='section-ae246667-5776-4be0-b3de-b9c4b5d14490' class='xr-array-in' type='checkbox' ><label for='section-ae246667-5776-4be0-b3de-b9c4b5d14490' title='Show/hide data repr'><svg class='icon xr-icon-database'><use xlink:href='#icon-database'></use></svg></label><div class='xr-array-preview xr-preview'><span>0.2043 -0.08673 0.2093 0.2449 0.2424 ... -1.853 -0.2015 0.3678 1.196</span></div><pre class='xr-array-data'>array([ 2.04322801e-01, -8.67326041e-02,  2.09344123e-01,  2.44889821e-01,\n",
       "        2.42443737e-01,  2.75645458e-01,  2.60451711e-01,  2.97047988e-01,\n",
       "        3.06115490e-01,  2.83810258e-01,  3.05959349e-01,  3.15702557e-01,\n",
       "        8.97328926e-02,  3.54976058e-01,  4.16271032e-01,  3.84148443e-01,\n",
       "        4.38291999e-01,  3.97344443e-01,  4.33921258e-01,  4.46700775e-01,\n",
       "        4.90246486e-01,  4.77647391e-01,  4.98258872e-01,  5.11047502e-01,\n",
       "        5.52889404e-01,  5.08551103e-01,  5.49160814e-01,  6.70030947e-01,\n",
       "        6.58296181e-01,  7.03629516e-01,  7.05721531e-01,  7.71547349e-01,\n",
       "        7.73187063e-01,  7.99464608e-01,  8.31550698e-01,  8.41322485e-01,\n",
       "        9.29607426e-01,  9.78306562e-01,  6.20219588e-01,  1.08335344e+00,\n",
       "        1.09011173e+00,  1.15537194e+00,  1.29836917e+00,  1.26519645e+00,\n",
       "        1.36039298e+00,  1.45479664e+00,  1.78772764e+00,  1.98413593e+00,\n",
       "        1.65851766e+00,  1.79841693e+00,  1.98547508e+00,  1.53609996e+00,\n",
       "        1.58929022e+00,  4.19080129e+00,  1.91391839e+00,  2.49464845e+00,\n",
       "        2.55999450e+00,  1.54159419e+00,  7.46048507e+00,  2.38457192e+00,\n",
       "        2.20757275e+00,  3.57630272e+00,  2.23952525e+02,  9.80693358e+00,\n",
       "        8.22453811e+00,  2.20952675e+00,  3.28685846e+00,  2.83147301e+00,\n",
       "        2.27100005e+00,  8.35796874e+00,  3.08808835e+00,  4.05898003e+00,\n",
       "        2.44126740e+00,  1.31155252e+00,  6.46573718e+00,  4.01637447e+00,\n",
       "        2.51590762e+00,  1.21889758e+00, -2.58153803e+00,  3.78642888e-01,\n",
       "        4.24032158e+00,  4.41549267e+00,  3.37524536e+00,  4.63934405e+00,\n",
       "        7.94796296e-01, -7.24857177e+00,  5.49576748e+00, -8.75295323e-01,\n",
       "        1.89163821e+00, -1.20448788e+00, -2.24857180e+00, -4.37005864e+01,\n",
       "        8.91370558e+00,  2.25241257e+00, -1.85734316e+00, -2.93255063e+01,\n",
       "       -1.85346903e+00, -2.01522744e-01,  3.67815042e-01,  1.19647173e+00])</pre></div></li><li class='xr-section-item'><input id='section-494608db-c857-426b-9510-734bd3962a2f' class='xr-section-summary-in' type='checkbox'  checked><label for='section-494608db-c857-426b-9510-734bd3962a2f' class='xr-section-summary' >Coordinates: <span>(1)</span></label><div class='xr-section-inline-details'></div><div class='xr-section-details'><ul class='xr-var-list'><li class='xr-var-item'><div class='xr-var-name'><span class='xr-has-index'>phot_g_mean_mag</span></div><div class='xr-var-dims'>(phot_g_mean_mag)</div><div class='xr-var-dtype'>float64</div><div class='xr-var-preview xr-preview'>5.075 5.225 5.375 ... 19.78 19.93</div><input id='attrs-204af884-2bb0-4f21-b1e6-fc15564685b1' class='xr-var-attrs-in' type='checkbox' disabled><label for='attrs-204af884-2bb0-4f21-b1e6-fc15564685b1' title='Show/Hide attributes'><svg class='icon xr-icon-file-text2'><use xlink:href='#icon-file-text2'></use></svg></label><input id='data-4acf4f8f-171d-4dde-af40-c26f794c71a3' class='xr-var-data-in' type='checkbox'><label for='data-4acf4f8f-171d-4dde-af40-c26f794c71a3' title='Show/Hide data repr'><svg class='icon xr-icon-database'><use xlink:href='#icon-database'></use></svg></label><div class='xr-var-attrs'><dl class='xr-attrs'></dl></div><pre class='xr-var-data'>array([ 5.075,  5.225,  5.375,  5.525,  5.675,  5.825,  5.975,  6.125,  6.275,\n",
       "        6.425,  6.575,  6.725,  6.875,  7.025,  7.175,  7.325,  7.475,  7.625,\n",
       "        7.775,  7.925,  8.075,  8.225,  8.375,  8.525,  8.675,  8.825,  8.975,\n",
       "        9.125,  9.275,  9.425,  9.575,  9.725,  9.875, 10.025, 10.175, 10.325,\n",
       "       10.475, 10.625, 10.775, 10.925, 11.075, 11.225, 11.375, 11.525, 11.675,\n",
       "       11.825, 11.975, 12.125, 12.275, 12.425, 12.575, 12.725, 12.875, 13.025,\n",
       "       13.175, 13.325, 13.475, 13.625, 13.775, 13.925, 14.075, 14.225, 14.375,\n",
       "       14.525, 14.675, 14.825, 14.975, 15.125, 15.275, 15.425, 15.575, 15.725,\n",
       "       15.875, 16.025, 16.175, 16.325, 16.475, 16.625, 16.775, 16.925, 17.075,\n",
       "       17.225, 17.375, 17.525, 17.675, 17.825, 17.975, 18.125, 18.275, 18.425,\n",
       "       18.575, 18.725, 18.875, 19.025, 19.175, 19.325, 19.475, 19.625, 19.775,\n",
       "       19.925])</pre></li></ul></div></li><li class='xr-section-item'><input id='section-d6c5ece9-8253-439b-abf8-4d593eb4192f' class='xr-section-summary-in' type='checkbox' disabled ><label for='section-d6c5ece9-8253-439b-abf8-4d593eb4192f' class='xr-section-summary'  title='Expand/collapse section'>Attributes: <span>(0)</span></label><div class='xr-section-inline-details'></div><div class='xr-section-details'><dl class='xr-attrs'></dl></div></li></ul></div></div>"
      ],
      "text/plain": [
       "<xarray.DataArray (phot_g_mean_mag: 100)>\n",
       "array([ 2.04322801e-01, -8.67326041e-02,  2.09344123e-01,  2.44889821e-01,\n",
       "        2.42443737e-01,  2.75645458e-01,  2.60451711e-01,  2.97047988e-01,\n",
       "        3.06115490e-01,  2.83810258e-01,  3.05959349e-01,  3.15702557e-01,\n",
       "        8.97328926e-02,  3.54976058e-01,  4.16271032e-01,  3.84148443e-01,\n",
       "        4.38291999e-01,  3.97344443e-01,  4.33921258e-01,  4.46700775e-01,\n",
       "        4.90246486e-01,  4.77647391e-01,  4.98258872e-01,  5.11047502e-01,\n",
       "        5.52889404e-01,  5.08551103e-01,  5.49160814e-01,  6.70030947e-01,\n",
       "        6.58296181e-01,  7.03629516e-01,  7.05721531e-01,  7.71547349e-01,\n",
       "        7.73187063e-01,  7.99464608e-01,  8.31550698e-01,  8.41322485e-01,\n",
       "        9.29607426e-01,  9.78306562e-01,  6.20219588e-01,  1.08335344e+00,\n",
       "        1.09011173e+00,  1.15537194e+00,  1.29836917e+00,  1.26519645e+00,\n",
       "        1.36039298e+00,  1.45479664e+00,  1.78772764e+00,  1.98413593e+00,\n",
       "        1.65851766e+00,  1.79841693e+00,  1.98547508e+00,  1.53609996e+00,\n",
       "        1.58929022e+00,  4.19080129e+00,  1.91391839e+00,  2.49464845e+00,\n",
       "        2.55999450e+00,  1.54159419e+00,  7.46048507e+00,  2.38457192e+00,\n",
       "        2.20757275e+00,  3.57630272e+00,  2.23952525e+02,  9.80693358e+00,\n",
       "        8.22453811e+00,  2.20952675e+00,  3.28685846e+00,  2.83147301e+00,\n",
       "        2.27100005e+00,  8.35796874e+00,  3.08808835e+00,  4.05898003e+00,\n",
       "        2.44126740e+00,  1.31155252e+00,  6.46573718e+00,  4.01637447e+00,\n",
       "        2.51590762e+00,  1.21889758e+00, -2.58153803e+00,  3.78642888e-01,\n",
       "        4.24032158e+00,  4.41549267e+00,  3.37524536e+00,  4.63934405e+00,\n",
       "        7.94796296e-01, -7.24857177e+00,  5.49576748e+00, -8.75295323e-01,\n",
       "        1.89163821e+00, -1.20448788e+00, -2.24857180e+00, -4.37005864e+01,\n",
       "        8.91370558e+00,  2.25241257e+00, -1.85734316e+00, -2.93255063e+01,\n",
       "       -1.85346903e+00, -2.01522744e-01,  3.67815042e-01,  1.19647173e+00])\n",
       "Coordinates:\n",
       "  * phot_g_mean_mag  (phot_g_mean_mag) float64 5.075 5.225 5.375 ... 19.78 19.93"
      ]
     },
     "execution_count": 16,
     "metadata": {},
     "output_type": "execute_result"
    }
   ],
   "source": [
    "distances = df.mean(df.distance, binby=[df.phot_g_mean_mag], limits=[5, 20], shape=100, array_type='xarray')\n",
    "distances"
   ]
  },
  {
   "cell_type": "code",
   "execution_count": 17,
   "metadata": {
    "ExecuteTime": {
     "end_time": "2020-06-12T14:09:27.937357Z",
     "start_time": "2020-06-12T14:09:27.857023Z"
    },
    "execution": {
     "iopub.execute_input": "2020-06-12T08:43:05.580736Z",
     "iopub.status.busy": "2020-06-12T08:43:05.580643Z",
     "iopub.status.idle": "2020-06-12T08:43:05.670266Z",
     "shell.execute_reply": "2020-06-12T08:43:05.669848Z",
     "shell.execute_reply.started": "2020-06-12T08:43:05.580723Z"
    }
   },
   "outputs": [
    {
     "data": {
      "text/plain": [
       "[<matplotlib.lines.Line2D at 0x7f31a83d8bd0>]"
      ]
     },
     "execution_count": 17,
     "metadata": {},
     "output_type": "execute_result"
    },
    {
     "data": {
      "image/png": "[encoded data removed]",
      "text/plain": [
       "<Figure size 432x288 with 1 Axes>"
      ]
     },
     "metadata": {
      "needs_background": "light"
     },
     "output_type": "display_data"
    }
   ],
   "source": [
    "distances.plot()"
   ]
  },
  {
   "cell_type": "code",
   "execution_count": 18,
   "metadata": {
    "ExecuteTime": {
     "end_time": "2020-06-12T14:10:12.316915Z",
     "start_time": "2020-06-12T14:10:06.113825Z"
    },
    "execution": {
     "iopub.execute_input": "2020-06-12T08:43:11.443444Z",
     "iopub.status.busy": "2020-06-12T08:43:11.443222Z",
     "iopub.status.idle": "2020-06-12T08:43:16.507949Z",
     "shell.execute_reply": "2020-06-12T08:43:16.507630Z",
     "shell.execute_reply.started": "2020-06-12T08:43:11.443418Z"
    }
   },
   "outputs": [
    {
     "data": {
      "text/html": [
       "<div><svg style=\"position: absolute; width: 0; height: 0; overflow: hidden\">\n",
       "<defs>\n",
       "<symbol id=\"icon-database\" viewBox=\"0 0 32 32\">\n",
       "<title>Show/Hide data repr</title>\n",
       "<path d=\"M16 0c-8.837 0-16 2.239-16 5v4c0 2.761 7.163 5 16 5s16-2.239 16-5v-4c0-2.761-7.163-5-16-5z\"></path>\n",
       "<path d=\"M16 17c-8.837 0-16-2.239-16-5v6c0 2.761 7.163 5 16 5s16-2.239 16-5v-6c0 2.761-7.163 5-16 5z\"></path>\n",
       "<path d=\"M16 26c-8.837 0-16-2.239-16-5v6c0 2.761 7.163 5 16 5s16-2.239 16-5v-6c0 2.761-7.163 5-16 5z\"></path>\n",
       "</symbol>\n",
       "<symbol id=\"icon-file-text2\" viewBox=\"0 0 32 32\">\n",
       "<title>Show/Hide attributes</title>\n",
       "<path d=\"M28.681 7.159c-0.694-0.947-1.662-2.053-2.724-3.116s-2.169-2.030-3.116-2.724c-1.612-1.182-2.393-1.319-2.841-1.319h-15.5c-1.378 0-2.5 1.121-2.5 2.5v27c0 1.378 1.122 2.5 2.5 2.5h23c1.378 0 2.5-1.122 2.5-2.5v-19.5c0-0.448-0.137-1.23-1.319-2.841zM24.543 5.457c0.959 0.959 1.712 1.825 2.268 2.543h-4.811v-4.811c0.718 0.556 1.584 1.309 2.543 2.268zM28 29.5c0 0.271-0.229 0.5-0.5 0.5h-23c-0.271 0-0.5-0.229-0.5-0.5v-27c0-0.271 0.229-0.5 0.5-0.5 0 0 15.499-0 15.5 0v7c0 0.552 0.448 1 1 1h7v19.5z\"></path>\n",
       "<path d=\"M23 26h-14c-0.552 0-1-0.448-1-1s0.448-1 1-1h14c0.552 0 1 0.448 1 1s-0.448 1-1 1z\"></path>\n",
       "<path d=\"M23 22h-14c-0.552 0-1-0.448-1-1s0.448-1 1-1h14c0.552 0 1 0.448 1 1s-0.448 1-1 1z\"></path>\n",
       "<path d=\"M23 18h-14c-0.552 0-1-0.448-1-1s0.448-1 1-1h14c0.552 0 1 0.448 1 1s-0.448 1-1 1z\"></path>\n",
       "</symbol>\n",
       "</defs>\n",
       "</svg>\n",
       "<style>/* CSS stylesheet for displaying xarray objects in jupyterlab.\n",
       " *\n",
       " */\n",
       "\n",
       ":root {\n",
       "  --xr-font-color0: var(--jp-content-font-color0, rgba(0, 0, 0, 1));\n",
       "  --xr-font-color2: var(--jp-content-font-color2, rgba(0, 0, 0, 0.54));\n",
       "  --xr-font-color3: var(--jp-content-font-color3, rgba(0, 0, 0, 0.38));\n",
       "  --xr-border-color: var(--jp-border-color2, #e0e0e0);\n",
       "  --xr-disabled-color: var(--jp-layout-color3, #bdbdbd);\n",
       "  --xr-background-color: var(--jp-layout-color0, white);\n",
       "  --xr-background-color-row-even: var(--jp-layout-color1, white);\n",
       "  --xr-background-color-row-odd: var(--jp-layout-color2, #eeeeee);\n",
       "}\n",
       "\n",
       ".xr-wrap {\n",
       "  min-width: 300px;\n",
       "  max-width: 700px;\n",
       "}\n",
       "\n",
       ".xr-header {\n",
       "  padding-top: 6px;\n",
       "  padding-bottom: 6px;\n",
       "  margin-bottom: 4px;\n",
       "  border-bottom: solid 1px var(--xr-border-color);\n",
       "}\n",
       "\n",
       ".xr-header > div,\n",
       ".xr-header > ul {\n",
       "  display: inline;\n",
       "  margin-top: 0;\n",
       "  margin-bottom: 0;\n",
       "}\n",
       "\n",
       ".xr-obj-type,\n",
       ".xr-array-name {\n",
       "  margin-left: 2px;\n",
       "  margin-right: 10px;\n",
       "}\n",
       "\n",
       ".xr-obj-type {\n",
       "  color: var(--xr-font-color2);\n",
       "}\n",
       "\n",
       ".xr-sections {\n",
       "  padding-left: 0 !important;\n",
       "  display: grid;\n",
       "  grid-template-columns: 150px auto auto 1fr 20px 20px;\n",
       "}\n",
       "\n",
       ".xr-section-item {\n",
       "  display: contents;\n",
       "}\n",
       "\n",
       ".xr-section-item input {\n",
       "  display: none;\n",
       "}\n",
       "\n",
       ".xr-section-item input + label {\n",
       "  color: var(--xr-disabled-color);\n",
       "}\n",
       "\n",
       ".xr-section-item input:enabled + label {\n",
       "  cursor: pointer;\n",
       "  color: var(--xr-font-color2);\n",
       "}\n",
       "\n",
       ".xr-section-item input:enabled + label:hover {\n",
       "  color: var(--xr-font-color0);\n",
       "}\n",
       "\n",
       ".xr-section-summary {\n",
       "  grid-column: 1;\n",
       "  color: var(--xr-font-color2);\n",
       "  font-weight: 500;\n",
       "}\n",
       "\n",
       ".xr-section-summary > span {\n",
       "  display: inline-block;\n",
       "  padding-left: 0.5em;\n",
       "}\n",
       "\n",
       ".xr-section-summary-in:disabled + label {\n",
       "  color: var(--xr-font-color2);\n",
       "}\n",
       "\n",
       ".xr-section-summary-in + label:before {\n",
       "  display: inline-block;\n",
       "  content: '►';\n",
       "  font-size: 11px;\n",
       "  width: 15px;\n",
       "  text-align: center;\n",
       "}\n",
       "\n",
       ".xr-section-summary-in:disabled + label:before {\n",
       "  color: var(--xr-disabled-color);\n",
       "}\n",
       "\n",
       ".xr-section-summary-in:checked + label:before {\n",
       "  content: '▼';\n",
       "}\n",
       "\n",
       ".xr-section-summary-in:checked + label > span {\n",
       "  display: none;\n",
       "}\n",
       "\n",
       ".xr-section-summary,\n",
       ".xr-section-inline-details {\n",
       "  padding-top: 4px;\n",
       "  padding-bottom: 4px;\n",
       "}\n",
       "\n",
       ".xr-section-inline-details {\n",
       "  grid-column: 2 / -1;\n",
       "}\n",
       "\n",
       ".xr-section-details {\n",
       "  display: none;\n",
       "  grid-column: 1 / -1;\n",
       "  margin-bottom: 5px;\n",
       "}\n",
       "\n",
       ".xr-section-summary-in:checked ~ .xr-section-details {\n",
       "  display: contents;\n",
       "}\n",
       "\n",
       ".xr-array-wrap {\n",
       "  grid-column: 1 / -1;\n",
       "  display: grid;\n",
       "  grid-template-columns: 20px auto;\n",
       "}\n",
       "\n",
       ".xr-array-wrap > label {\n",
       "  grid-column: 1;\n",
       "  vertical-align: top;\n",
       "}\n",
       "\n",
       ".xr-preview {\n",
       "  color: var(--xr-font-color3);\n",
       "}\n",
       "\n",
       ".xr-array-preview,\n",
       ".xr-array-data {\n",
       "  padding: 0 5px !important;\n",
       "  grid-column: 2;\n",
       "}\n",
       "\n",
       ".xr-array-data,\n",
       ".xr-array-in:checked ~ .xr-array-preview {\n",
       "  display: none;\n",
       "}\n",
       "\n",
       ".xr-array-in:checked ~ .xr-array-data,\n",
       ".xr-array-preview {\n",
       "  display: inline-block;\n",
       "}\n",
       "\n",
       ".xr-dim-list {\n",
       "  display: inline-block !important;\n",
       "  list-style: none;\n",
       "  padding: 0 !important;\n",
       "  margin: 0;\n",
       "}\n",
       "\n",
       ".xr-dim-list li {\n",
       "  display: inline-block;\n",
       "  padding: 0;\n",
       "  margin: 0;\n",
       "}\n",
       "\n",
       ".xr-dim-list:before {\n",
       "  content: '(';\n",
       "}\n",
       "\n",
       ".xr-dim-list:after {\n",
       "  content: ')';\n",
       "}\n",
       "\n",
       ".xr-dim-list li:not(:last-child):after {\n",
       "  content: ',';\n",
       "  padding-right: 5px;\n",
       "}\n",
       "\n",
       ".xr-has-index {\n",
       "  font-weight: bold;\n",
       "}\n",
       "\n",
       ".xr-var-list,\n",
       ".xr-var-item {\n",
       "  display: contents;\n",
       "}\n",
       "\n",
       ".xr-var-item > div,\n",
       ".xr-var-item label,\n",
       ".xr-var-item > .xr-var-name span {\n",
       "  background-color: var(--xr-background-color-row-even);\n",
       "  margin-bottom: 0;\n",
       "}\n",
       "\n",
       ".xr-var-item > .xr-var-name:hover span {\n",
       "  padding-right: 5px;\n",
       "}\n",
       "\n",
       ".xr-var-list > li:nth-child(odd) > div,\n",
       ".xr-var-list > li:nth-child(odd) > label,\n",
       ".xr-var-list > li:nth-child(odd) > .xr-var-name span {\n",
       "  background-color: var(--xr-background-color-row-odd);\n",
       "}\n",
       "\n",
       ".xr-var-name {\n",
       "  grid-column: 1;\n",
       "}\n",
       "\n",
       ".xr-var-dims {\n",
       "  grid-column: 2;\n",
       "}\n",
       "\n",
       ".xr-var-dtype {\n",
       "  grid-column: 3;\n",
       "  text-align: right;\n",
       "  color: var(--xr-font-color2);\n",
       "}\n",
       "\n",
       ".xr-var-preview {\n",
       "  grid-column: 4;\n",
       "}\n",
       "\n",
       ".xr-var-name,\n",
       ".xr-var-dims,\n",
       ".xr-var-dtype,\n",
       ".xr-preview,\n",
       ".xr-attrs dt {\n",
       "  white-space: nowrap;\n",
       "  overflow: hidden;\n",
       "  text-overflow: ellipsis;\n",
       "  padding-right: 10px;\n",
       "}\n",
       "\n",
       ".xr-var-name:hover,\n",
       ".xr-var-dims:hover,\n",
       ".xr-var-dtype:hover,\n",
       ".xr-attrs dt:hover {\n",
       "  overflow: visible;\n",
       "  width: auto;\n",
       "  z-index: 1;\n",
       "}\n",
       "\n",
       ".xr-var-attrs,\n",
       ".xr-var-data {\n",
       "  display: none;\n",
       "  background-color: var(--xr-background-color) !important;\n",
       "  padding-bottom: 5px !important;\n",
       "}\n",
       "\n",
       ".xr-var-attrs-in:checked ~ .xr-var-attrs,\n",
       ".xr-var-data-in:checked ~ .xr-var-data {\n",
       "  display: block;\n",
       "}\n",
       "\n",
       ".xr-var-data > table {\n",
       "  float: right;\n",
       "}\n",
       "\n",
       ".xr-var-name span,\n",
       ".xr-var-data,\n",
       ".xr-attrs {\n",
       "  padding-left: 25px !important;\n",
       "}\n",
       "\n",
       ".xr-attrs,\n",
       ".xr-var-attrs,\n",
       ".xr-var-data {\n",
       "  grid-column: 1 / -1;\n",
       "}\n",
       "\n",
       "dl.xr-attrs {\n",
       "  padding: 0;\n",
       "  margin: 0;\n",
       "  display: grid;\n",
       "  grid-template-columns: 125px auto;\n",
       "}\n",
       "\n",
       ".xr-attrs dt, dd {\n",
       "  padding: 0;\n",
       "  margin: 0;\n",
       "  float: left;\n",
       "  padding-right: 10px;\n",
       "  width: auto;\n",
       "}\n",
       "\n",
       ".xr-attrs dt {\n",
       "  font-weight: normal;\n",
       "  grid-column: 1;\n",
       "}\n",
       "\n",
       ".xr-attrs dt:hover span {\n",
       "  display: inline-block;\n",
       "  background: var(--xr-background-color);\n",
       "  padding-right: 10px;\n",
       "}\n",
       "\n",
       ".xr-attrs dd {\n",
       "  grid-column: 2;\n",
       "  white-space: pre-wrap;\n",
       "  word-break: break-all;\n",
       "}\n",
       "\n",
       ".xr-icon-database,\n",
       ".xr-icon-file-text2 {\n",
       "  display: inline-block;\n",
       "  vertical-align: middle;\n",
       "  width: 1em;\n",
       "  height: 1.5em !important;\n",
       "  stroke-width: 0;\n",
       "  stroke: currentColor;\n",
       "  fill: currentColor;\n",
       "}\n",
       "</style><div class='xr-wrap'><div class='xr-header'><div class='xr-obj-type'>xarray.DataArray</div><div class='xr-array-name'></div><ul class='xr-dim-list'><li><span class='xr-has-index'>selection</span>: 3</li><li><span class='xr-has-index'>phot_g_mean_mag</span>: 100</li></ul></div><ul class='xr-sections'><li class='xr-section-item'><div class='xr-array-wrap'><input id='section-b76b82c2-f875-4ddc-9889-a0aa58e48cba' class='xr-array-in' type='checkbox' ><label for='section-b76b82c2-f875-4ddc-9889-a0aa58e48cba' title='Show/hide data repr'><svg class='icon xr-icon-database'><use xlink:href='#icon-database'></use></svg></label><div class='xr-array-preview xr-preview'><span>0.2043 0.2086 0.2068 0.2449 0.2448 ... 0.1846 0.1606 0.1393 0.1198</span></div><pre class='xr-array-data'>array([[0.2043228 , 0.20855799, 0.20677075, 0.24488982, 0.24480711,\n",
       "        0.2729951 , 0.26045171, 0.28930038, 0.29342783, 0.31121297,\n",
       "        0.31719832, 0.33197274, 0.34449391, 0.35517166, 0.3727981 ,\n",
       "        0.38589477, 0.39479467, 0.40273139, 0.43278005, 0.4484956 ,\n",
       "        0.45929171, 0.47322512, 0.49783484, 0.51187973, 0.5444121 ,\n",
       "        0.56947532, 0.5956532 , 0.61417492, 0.64933487, 0.67347525,\n",
       "        0.70328495, 0.7348454 , 0.76412249, 0.80236634, 0.84359854,\n",
       "        0.87782799, 0.92307323, 0.96323177, 1.00710126, 1.05030139,\n",
       "        1.09737218, 1.14228421, 1.19916851, 1.24975812, 1.30544335,\n",
       "        1.36899753, 1.44196601, 1.51398835, 1.59043667, 1.6620808 ,\n",
       "        1.72458809, 1.78845168, 1.83549833, 1.9126428 , 2.02278924,\n",
       "        2.11322311, 2.19297005, 2.26191282, 2.34090514, 2.41349141,\n",
       "        2.48684726, 2.55751382, 2.6242175 , 2.69383941, 2.76008797,\n",
       "        2.82467321, 2.88887257, 2.95229716, 3.00163631, 3.04326868,\n",
       "        3.07056863, 3.07824724, 3.07792587, 3.07142801, 3.05952699,\n",
       "        3.04758958, 3.04192399, 3.04092867, 3.0408575 , 3.03897116,\n",
       "        3.03015433, 3.01027987, 2.97427395, 2.9207819 , 2.84915261,\n",
       "        2.7607328 , 2.65624569, 2.53362529, 2.40034848, 2.26176274,\n",
       "        2.1182679 , 1.97502416, 1.83393925, 1.68863684, 1.54530653,\n",
       "        1.41933021, 1.30089646, 1.18968361, 1.08599011, 0.9890113 ],\n",
       "       [0.18881875, 0.1899532 , 0.20182169, 0.23493068, 0.23101733,\n",
       "        0.25456112, 0.25998607, 0.28930038, 0.29247351, 0.3100474 ,\n",
       "        0.31385288, 0.33049923, 0.33975483, 0.3496181 , 0.36933651,\n",
       "        0.3767583 , 0.39138634, 0.40030779, 0.42718643, 0.44305926,\n",
       "        0.45499682, 0.46952338, 0.49285786, 0.5074732 , 0.54078186,\n",
       "        0.5624218 , 0.58825145, 0.60847241, 0.63937375, 0.66523471,\n",
       "        0.69388963, 0.72491559, 0.74978145, 0.78765403, 0.82578055,\n",
       "        0.85893131, 0.90116939, 0.93886869, 0.97432769, 1.00955429,\n",
       "        1.0482872 , 1.07954321, 1.12405718, 1.17258797, 1.21975149,\n",
       "        1.27027638, 1.32003309, 1.36578154, 1.41653116, 1.46081632,\n",
       "        1.50273244, 1.54684327, 1.57631459, 1.65152331, 1.76443286,\n",
       "        1.83742562, 1.89382534, 1.94254235, 1.99600411, 2.04497011,\n",
       "        2.08919418, 2.13215448, 2.16895285, 2.2017879 , 2.22848173,\n",
       "        2.24349842, 2.25085847, 2.25260318, 2.24072397, 2.22770487,\n",
       "        2.21420495, 2.20215865, 2.19623017, 2.19874936, 2.19900425,\n",
       "        2.19473142, 2.18687613, 2.16741604, 2.13294381, 2.08140156,\n",
       "        2.01540541, 1.93465867, 1.84174844, 1.74129669, 1.63407042,\n",
       "        1.52507421, 1.41434637, 1.30182484, 1.19276753, 1.08993411,\n",
       "        0.99444028, 0.90525786, 0.82501535, 0.75088963, 0.68297958,\n",
       "        0.6253291 , 0.5718129 , 0.52210623, 0.47576918, 0.43328098],\n",
       "       [0.16125622, 0.16885421, 0.18000033, 0.189631  , 0.20280343,\n",
       "        0.22357469, 0.2363877 , 0.24604877, 0.26883299, 0.27342613,\n",
       "        0.28949532, 0.31043844, 0.31382214, 0.32087648, 0.33852722,\n",
       "        0.35380046, 0.36291852, 0.37019487, 0.39766475, 0.40851466,\n",
       "        0.42115013, 0.4334227 , 0.45066317, 0.46778922, 0.49708652,\n",
       "        0.5172451 , 0.54232829, 0.55753665, 0.58298091, 0.60166313,\n",
       "        0.62031889, 0.64133409, 0.65780709, 0.67800567, 0.6988451 ,\n",
       "        0.72240521, 0.7460391 , 0.77273106, 0.78729093, 0.79986971,\n",
       "        0.81479599, 0.83493819, 0.86481854, 0.90330032, 0.93200726,\n",
       "        0.96140572, 0.9836186 , 1.00288125, 1.02006884, 1.03678315,\n",
       "        1.04787152, 1.06623271, 1.1113845 , 1.25939514, 1.35748672,\n",
       "        1.38897377, 1.40557311, 1.41314962, 1.41502151, 1.41040599,\n",
       "        1.40249477, 1.38979464, 1.38134639, 1.37675272, 1.37730283,\n",
       "        1.38272734, 1.39075994, 1.39877797, 1.40167365, 1.3973785 ,\n",
       "        1.38159015, 1.35309014, 1.31147504, 1.25754545, 1.19318427,\n",
       "        1.12121423, 1.04948428, 0.97672617, 0.90294928, 0.83101895,\n",
       "        0.76195821, 0.69463428, 0.6355145 , 0.58249055, 0.53644058,\n",
       "        0.49640404, 0.46131434, 0.42889773, 0.39972126, 0.37323561,\n",
       "        0.34762246, 0.32142759, 0.29492214, 0.26689692, 0.23783894,\n",
       "        0.21073291, 0.18464568, 0.16061286, 0.13929319, 0.11978347]])</pre></div></li><li class='xr-section-item'><input id='section-1800b985-c681-4fea-a6ba-016d3fca673f' class='xr-section-summary-in' type='checkbox'  checked><label for='section-1800b985-c681-4fea-a6ba-016d3fca673f' class='xr-section-summary' >Coordinates: <span>(2)</span></label><div class='xr-section-inline-details'></div><div class='xr-section-details'><ul class='xr-var-list'><li class='xr-var-item'><div class='xr-var-name'><span class='xr-has-index'>selection</span></div><div class='xr-var-dims'>(selection)</div><div class='xr-var-dtype'>&lt;U26</div><div class='xr-var-preview xr-preview'>&#x27;(parallax_over_error &gt; 1)&#x27; ... &#x27;(parallax_over_error &gt; 10)&#x27;</div><input id='attrs-5b6ac3f0-a99e-4b9c-aa8b-0e5a0763736e' class='xr-var-attrs-in' type='checkbox' disabled><label for='attrs-5b6ac3f0-a99e-4b9c-aa8b-0e5a0763736e' title='Show/Hide attributes'><svg class='icon xr-icon-file-text2'><use xlink:href='#icon-file-text2'></use></svg></label><input id='data-e833953f-4381-439f-8c78-0de694ae7479' class='xr-var-data-in' type='checkbox'><label for='data-e833953f-4381-439f-8c78-0de694ae7479' title='Show/Hide data repr'><svg class='icon xr-icon-database'><use xlink:href='#icon-database'></use></svg></label><div class='xr-var-attrs'><dl class='xr-attrs'></dl></div><pre class='xr-var-data'>array([&#x27;(parallax_over_error &gt; 1)&#x27;, &#x27;(parallax_over_error &gt; 3)&#x27;,\n",
       "       &#x27;(parallax_over_error &gt; 10)&#x27;], dtype=&#x27;&lt;U26&#x27;)</pre></li><li class='xr-var-item'><div class='xr-var-name'><span class='xr-has-index'>phot_g_mean_mag</span></div><div class='xr-var-dims'>(phot_g_mean_mag)</div><div class='xr-var-dtype'>float64</div><div class='xr-var-preview xr-preview'>5.075 5.225 5.375 ... 19.78 19.93</div><input id='attrs-4b2cca19-54b9-4d80-b17e-f3a45b8f2035' class='xr-var-attrs-in' type='checkbox' disabled><label for='attrs-4b2cca19-54b9-4d80-b17e-f3a45b8f2035' title='Show/Hide attributes'><svg class='icon xr-icon-file-text2'><use xlink:href='#icon-file-text2'></use></svg></label><input id='data-7fd59f39-f067-4ce7-a423-98c198dea6ee' class='xr-var-data-in' type='checkbox'><label for='data-7fd59f39-f067-4ce7-a423-98c198dea6ee' title='Show/Hide data repr'><svg class='icon xr-icon-database'><use xlink:href='#icon-database'></use></svg></label><div class='xr-var-attrs'><dl class='xr-attrs'></dl></div><pre class='xr-var-data'>array([ 5.075,  5.225,  5.375,  5.525,  5.675,  5.825,  5.975,  6.125,  6.275,\n",
       "        6.425,  6.575,  6.725,  6.875,  7.025,  7.175,  7.325,  7.475,  7.625,\n",
       "        7.775,  7.925,  8.075,  8.225,  8.375,  8.525,  8.675,  8.825,  8.975,\n",
       "        9.125,  9.275,  9.425,  9.575,  9.725,  9.875, 10.025, 10.175, 10.325,\n",
       "       10.475, 10.625, 10.775, 10.925, 11.075, 11.225, 11.375, 11.525, 11.675,\n",
       "       11.825, 11.975, 12.125, 12.275, 12.425, 12.575, 12.725, 12.875, 13.025,\n",
       "       13.175, 13.325, 13.475, 13.625, 13.775, 13.925, 14.075, 14.225, 14.375,\n",
       "       14.525, 14.675, 14.825, 14.975, 15.125, 15.275, 15.425, 15.575, 15.725,\n",
       "       15.875, 16.025, 16.175, 16.325, 16.475, 16.625, 16.775, 16.925, 17.075,\n",
       "       17.225, 17.375, 17.525, 17.675, 17.825, 17.975, 18.125, 18.275, 18.425,\n",
       "       18.575, 18.725, 18.875, 19.025, 19.175, 19.325, 19.475, 19.625, 19.775,\n",
       "       19.925])</pre></li></ul></div></li><li class='xr-section-item'><input id='section-31420400-ae2a-4e6a-b200-362b3ec2ab76' class='xr-section-summary-in' type='checkbox' disabled ><label for='section-31420400-ae2a-4e6a-b200-362b3ec2ab76' class='xr-section-summary'  title='Expand/collapse section'>Attributes: <span>(0)</span></label><div class='xr-section-inline-details'></div><div class='xr-section-details'><dl class='xr-attrs'></dl></div></li></ul></div></div>"
      ],
      "text/plain": [
       "<xarray.DataArray (selection: 3, phot_g_mean_mag: 100)>\n",
       "array([[0.2043228 , 0.20855799, 0.20677075, 0.24488982, 0.24480711,\n",
       "        0.2729951 , 0.26045171, 0.28930038, 0.29342783, 0.31121297,\n",
       "        0.31719832, 0.33197274, 0.34449391, 0.35517166, 0.3727981 ,\n",
       "        0.38589477, 0.39479467, 0.40273139, 0.43278005, 0.4484956 ,\n",
       "        0.45929171, 0.47322512, 0.49783484, 0.51187973, 0.5444121 ,\n",
       "        0.56947532, 0.5956532 , 0.61417492, 0.64933487, 0.67347525,\n",
       "        0.70328495, 0.7348454 , 0.76412249, 0.80236634, 0.84359854,\n",
       "        0.87782799, 0.92307323, 0.96323177, 1.00710126, 1.05030139,\n",
       "        1.09737218, 1.14228421, 1.19916851, 1.24975812, 1.30544335,\n",
       "        1.36899753, 1.44196601, 1.51398835, 1.59043667, 1.6620808 ,\n",
       "        1.72458809, 1.78845168, 1.83549833, 1.9126428 , 2.02278924,\n",
       "        2.11322311, 2.19297005, 2.26191282, 2.34090514, 2.41349141,\n",
       "        2.48684726, 2.55751382, 2.6242175 , 2.69383941, 2.76008797,\n",
       "        2.82467321, 2.88887257, 2.95229716, 3.00163631, 3.04326868,\n",
       "        3.07056863, 3.07824724, 3.07792587, 3.07142801, 3.05952699,\n",
       "        3.04758958, 3.04192399, 3.04092867, 3.0408575 , 3.03897116,\n",
       "        3.03015433, 3.01027987, 2.97427395, 2.9207819 , 2.84915261,\n",
       "        2.7607328 , 2.65624569, 2.53362529, 2.40034848, 2.26176274,\n",
       "        2.1182679 , 1.97502416, 1.83393925, 1.68863684, 1.54530653,\n",
       "        1.41933021, 1.30089646, 1.18968361, 1.08599011, 0.9890113 ],\n",
       "       [0.18881875, 0.1899532 , 0.20182169, 0.23493068, 0.23101733,\n",
       "        0.25456112, 0.25998607, 0.28930038, 0.29247351, 0.3100474 ,\n",
       "        0.31385288, 0.33049923, 0.33975483, 0.3496181 , 0.36933651,\n",
       "        0.3767583 , 0.39138634, 0.40030779, 0.42718643, 0.44305926,\n",
       "        0.45499682, 0.46952338, 0.49285786, 0.5074732 , 0.54078186,\n",
       "        0.5624218 , 0.58825145, 0.60847241, 0.63937375, 0.66523471,\n",
       "        0.69388963, 0.72491559, 0.74978145, 0.78765403, 0.82578055,\n",
       "        0.85893131, 0.90116939, 0.93886869, 0.97432769, 1.00955429,\n",
       "        1.0482872 , 1.07954321, 1.12405718, 1.17258797, 1.21975149,\n",
       "        1.27027638, 1.32003309, 1.36578154, 1.41653116, 1.46081632,\n",
       "        1.50273244, 1.54684327, 1.57631459, 1.65152331, 1.76443286,\n",
       "        1.83742562, 1.89382534, 1.94254235, 1.99600411, 2.04497011,\n",
       "        2.08919418, 2.13215448, 2.16895285, 2.2017879 , 2.22848173,\n",
       "        2.24349842, 2.25085847, 2.25260318, 2.24072397, 2.22770487,\n",
       "        2.21420495, 2.20215865, 2.19623017, 2.19874936, 2.19900425,\n",
       "        2.19473142, 2.18687613, 2.16741604, 2.13294381, 2.08140156,\n",
       "        2.01540541, 1.93465867, 1.84174844, 1.74129669, 1.63407042,\n",
       "        1.52507421, 1.41434637, 1.30182484, 1.19276753, 1.08993411,\n",
       "        0.99444028, 0.90525786, 0.82501535, 0.75088963, 0.68297958,\n",
       "        0.6253291 , 0.5718129 , 0.52210623, 0.47576918, 0.43328098],\n",
       "       [0.16125622, 0.16885421, 0.18000033, 0.189631  , 0.20280343,\n",
       "        0.22357469, 0.2363877 , 0.24604877, 0.26883299, 0.27342613,\n",
       "        0.28949532, 0.31043844, 0.31382214, 0.32087648, 0.33852722,\n",
       "        0.35380046, 0.36291852, 0.37019487, 0.39766475, 0.40851466,\n",
       "        0.42115013, 0.4334227 , 0.45066317, 0.46778922, 0.49708652,\n",
       "        0.5172451 , 0.54232829, 0.55753665, 0.58298091, 0.60166313,\n",
       "        0.62031889, 0.64133409, 0.65780709, 0.67800567, 0.6988451 ,\n",
       "        0.72240521, 0.7460391 , 0.77273106, 0.78729093, 0.79986971,\n",
       "        0.81479599, 0.83493819, 0.86481854, 0.90330032, 0.93200726,\n",
       "        0.96140572, 0.9836186 , 1.00288125, 1.02006884, 1.03678315,\n",
       "        1.04787152, 1.06623271, 1.1113845 , 1.25939514, 1.35748672,\n",
       "        1.38897377, 1.40557311, 1.41314962, 1.41502151, 1.41040599,\n",
       "        1.40249477, 1.38979464, 1.38134639, 1.37675272, 1.37730283,\n",
       "        1.38272734, 1.39075994, 1.39877797, 1.40167365, 1.3973785 ,\n",
       "        1.38159015, 1.35309014, 1.31147504, 1.25754545, 1.19318427,\n",
       "        1.12121423, 1.04948428, 0.97672617, 0.90294928, 0.83101895,\n",
       "        0.76195821, 0.69463428, 0.6355145 , 0.58249055, 0.53644058,\n",
       "        0.49640404, 0.46131434, 0.42889773, 0.39972126, 0.37323561,\n",
       "        0.34762246, 0.32142759, 0.29492214, 0.26689692, 0.23783894,\n",
       "        0.21073291, 0.18464568, 0.16061286, 0.13929319, 0.11978347]])\n",
       "Coordinates:\n",
       "  * selection        (selection) <U26 '(parallax_over_error > 1)' ... '(parallax_over_error > 10)'\n",
       "  * phot_g_mean_mag  (phot_g_mean_mag) float64 5.075 5.225 5.375 ... 19.78 19.93"
      ]
     },
     "execution_count": 18,
     "metadata": {},
     "output_type": "execute_result"
    }
   ],
   "source": [
    "distances = df.mean(df.distance, binby=[df.phot_g_mean_mag], limits=[5, 20], shape=100, array_type='xarray',\n",
    "                    selection=[df.parallax_over_error > 1,\n",
    "                               df.parallax_over_error > 3,\n",
    "                               df.parallax_over_error > 10])\n",
    "distances"
   ]
  },
  {
   "cell_type": "code",
   "execution_count": 19,
   "metadata": {
    "ExecuteTime": {
     "end_time": "2020-06-12T14:10:22.706879Z",
     "start_time": "2020-06-12T14:10:22.615430Z"
    }
   },
   "outputs": [
    {
     "data": {
      "text/plain": [
       "[<matplotlib.lines.Line2D at 0x7f31a7dca6d0>,\n",
       " <matplotlib.lines.Line2D at 0x7f31a7dca210>,\n",
       " <matplotlib.lines.Line2D at 0x7f31a7dca910>]"
      ]
     },
     "execution_count": 19,
     "metadata": {},
     "output_type": "execute_result"
    },
    {
     "data": {
      "image/png": "[encoded data removed]",
      "text/plain": [
       "<Figure size 432x288 with 1 Axes>"
      ]
     },
     "metadata": {
      "needs_background": "light"
     },
     "output_type": "display_data"
    }
   ],
   "source": [
    "distances.plot(hue='selection')"
   ]
  },
  {
   "cell_type": "markdown",
   "metadata": {},
   "source": [
    "# Visualization in 2d"
   ]
  },
  {
   "cell_type": "code",
   "execution_count": 20,
   "metadata": {
    "ExecuteTime": {
     "end_time": "2020-06-12T14:10:46.331070Z",
     "start_time": "2020-06-12T14:10:44.943636Z"
    },
    "execution": {
     "iopub.execute_input": "2020-06-12T08:43:21.386934Z",
     "iopub.status.busy": "2020-06-12T08:43:21.386708Z",
     "iopub.status.idle": "2020-06-12T08:43:22.143051Z",
     "shell.execute_reply": "2020-06-12T08:43:22.142700Z",
     "shell.execute_reply.started": "2020-06-12T08:43:21.386908Z"
    }
   },
   "outputs": [
    {
     "data": {
      "text/html": [
       "<div><svg style=\"position: absolute; width: 0; height: 0; overflow: hidden\">\n",
       "<defs>\n",
       "<symbol id=\"icon-database\" viewBox=\"0 0 32 32\">\n",
       "<title>Show/Hide data repr</title>\n",
       "<path d=\"M16 0c-8.837 0-16 2.239-16 5v4c0 2.761 7.163 5 16 5s16-2.239 16-5v-4c0-2.761-7.163-5-16-5z\"></path>\n",
       "<path d=\"M16 17c-8.837 0-16-2.239-16-5v6c0 2.761 7.163 5 16 5s16-2.239 16-5v-6c0 2.761-7.163 5-16 5z\"></path>\n",
       "<path d=\"M16 26c-8.837 0-16-2.239-16-5v6c0 2.761 7.163 5 16 5s16-2.239 16-5v-6c0 2.761-7.163 5-16 5z\"></path>\n",
       "</symbol>\n",
       "<symbol id=\"icon-file-text2\" viewBox=\"0 0 32 32\">\n",
       "<title>Show/Hide attributes</title>\n",
       "<path d=\"M28.681 7.159c-0.694-0.947-1.662-2.053-2.724-3.116s-2.169-2.030-3.116-2.724c-1.612-1.182-2.393-1.319-2.841-1.319h-15.5c-1.378 0-2.5 1.121-2.5 2.5v27c0 1.378 1.122 2.5 2.5 2.5h23c1.378 0 2.5-1.122 2.5-2.5v-19.5c0-0.448-0.137-1.23-1.319-2.841zM24.543 5.457c0.959 0.959 1.712 1.825 2.268 2.543h-4.811v-4.811c0.718 0.556 1.584 1.309 2.543 2.268zM28 29.5c0 0.271-0.229 0.5-0.5 0.5h-23c-0.271 0-0.5-0.229-0.5-0.5v-27c0-0.271 0.229-0.5 0.5-0.5 0 0 15.499-0 15.5 0v7c0 0.552 0.448 1 1 1h7v19.5z\"></path>\n",
       "<path d=\"M23 26h-14c-0.552 0-1-0.448-1-1s0.448-1 1-1h14c0.552 0 1 0.448 1 1s-0.448 1-1 1z\"></path>\n",
       "<path d=\"M23 22h-14c-0.552 0-1-0.448-1-1s0.448-1 1-1h14c0.552 0 1 0.448 1 1s-0.448 1-1 1z\"></path>\n",
       "<path d=\"M23 18h-14c-0.552 0-1-0.448-1-1s0.448-1 1-1h14c0.552 0 1 0.448 1 1s-0.448 1-1 1z\"></path>\n",
       "</symbol>\n",
       "</defs>\n",
       "</svg>\n",
       "<style>/* CSS stylesheet for displaying xarray objects in jupyterlab.\n",
       " *\n",
       " */\n",
       "\n",
       ":root {\n",
       "  --xr-font-color0: var(--jp-content-font-color0, rgba(0, 0, 0, 1));\n",
       "  --xr-font-color2: var(--jp-content-font-color2, rgba(0, 0, 0, 0.54));\n",
       "  --xr-font-color3: var(--jp-content-font-color3, rgba(0, 0, 0, 0.38));\n",
       "  --xr-border-color: var(--jp-border-color2, #e0e0e0);\n",
       "  --xr-disabled-color: var(--jp-layout-color3, #bdbdbd);\n",
       "  --xr-background-color: var(--jp-layout-color0, white);\n",
       "  --xr-background-color-row-even: var(--jp-layout-color1, white);\n",
       "  --xr-background-color-row-odd: var(--jp-layout-color2, #eeeeee);\n",
       "}\n",
       "\n",
       ".xr-wrap {\n",
       "  min-width: 300px;\n",
       "  max-width: 700px;\n",
       "}\n",
       "\n",
       ".xr-header {\n",
       "  padding-top: 6px;\n",
       "  padding-bottom: 6px;\n",
       "  margin-bottom: 4px;\n",
       "  border-bottom: solid 1px var(--xr-border-color);\n",
       "}\n",
       "\n",
       ".xr-header > div,\n",
       ".xr-header > ul {\n",
       "  display: inline;\n",
       "  margin-top: 0;\n",
       "  margin-bottom: 0;\n",
       "}\n",
       "\n",
       ".xr-obj-type,\n",
       ".xr-array-name {\n",
       "  margin-left: 2px;\n",
       "  margin-right: 10px;\n",
       "}\n",
       "\n",
       ".xr-obj-type {\n",
       "  color: var(--xr-font-color2);\n",
       "}\n",
       "\n",
       ".xr-sections {\n",
       "  padding-left: 0 !important;\n",
       "  display: grid;\n",
       "  grid-template-columns: 150px auto auto 1fr 20px 20px;\n",
       "}\n",
       "\n",
       ".xr-section-item {\n",
       "  display: contents;\n",
       "}\n",
       "\n",
       ".xr-section-item input {\n",
       "  display: none;\n",
       "}\n",
       "\n",
       ".xr-section-item input + label {\n",
       "  color: var(--xr-disabled-color);\n",
       "}\n",
       "\n",
       ".xr-section-item input:enabled + label {\n",
       "  cursor: pointer;\n",
       "  color: var(--xr-font-color2);\n",
       "}\n",
       "\n",
       ".xr-section-item input:enabled + label:hover {\n",
       "  color: var(--xr-font-color0);\n",
       "}\n",
       "\n",
       ".xr-section-summary {\n",
       "  grid-column: 1;\n",
       "  color: var(--xr-font-color2);\n",
       "  font-weight: 500;\n",
       "}\n",
       "\n",
       ".xr-section-summary > span {\n",
       "  display: inline-block;\n",
       "  padding-left: 0.5em;\n",
       "}\n",
       "\n",
       ".xr-section-summary-in:disabled + label {\n",
       "  color: var(--xr-font-color2);\n",
       "}\n",
       "\n",
       ".xr-section-summary-in + label:before {\n",
       "  display: inline-block;\n",
       "  content: '►';\n",
       "  font-size: 11px;\n",
       "  width: 15px;\n",
       "  text-align: center;\n",
       "}\n",
       "\n",
       ".xr-section-summary-in:disabled + label:before {\n",
       "  color: var(--xr-disabled-color);\n",
       "}\n",
       "\n",
       ".xr-section-summary-in:checked + label:before {\n",
       "  content: '▼';\n",
       "}\n",
       "\n",
       ".xr-section-summary-in:checked + label > span {\n",
       "  display: none;\n",
       "}\n",
       "\n",
       ".xr-section-summary,\n",
       ".xr-section-inline-details {\n",
       "  padding-top: 4px;\n",
       "  padding-bottom: 4px;\n",
       "}\n",
       "\n",
       ".xr-section-inline-details {\n",
       "  grid-column: 2 / -1;\n",
       "}\n",
       "\n",
       ".xr-section-details {\n",
       "  display: none;\n",
       "  grid-column: 1 / -1;\n",
       "  margin-bottom: 5px;\n",
       "}\n",
       "\n",
       ".xr-section-summary-in:checked ~ .xr-section-details {\n",
       "  display: contents;\n",
       "}\n",
       "\n",
       ".xr-array-wrap {\n",
       "  grid-column: 1 / -1;\n",
       "  display: grid;\n",
       "  grid-template-columns: 20px auto;\n",
       "}\n",
       "\n",
       ".xr-array-wrap > label {\n",
       "  grid-column: 1;\n",
       "  vertical-align: top;\n",
       "}\n",
       "\n",
       ".xr-preview {\n",
       "  color: var(--xr-font-color3);\n",
       "}\n",
       "\n",
       ".xr-array-preview,\n",
       ".xr-array-data {\n",
       "  padding: 0 5px !important;\n",
       "  grid-column: 2;\n",
       "}\n",
       "\n",
       ".xr-array-data,\n",
       ".xr-array-in:checked ~ .xr-array-preview {\n",
       "  display: none;\n",
       "}\n",
       "\n",
       ".xr-array-in:checked ~ .xr-array-data,\n",
       ".xr-array-preview {\n",
       "  display: inline-block;\n",
       "}\n",
       "\n",
       ".xr-dim-list {\n",
       "  display: inline-block !important;\n",
       "  list-style: none;\n",
       "  padding: 0 !important;\n",
       "  margin: 0;\n",
       "}\n",
       "\n",
       ".xr-dim-list li {\n",
       "  display: inline-block;\n",
       "  padding: 0;\n",
       "  margin: 0;\n",
       "}\n",
       "\n",
       ".xr-dim-list:before {\n",
       "  content: '(';\n",
       "}\n",
       "\n",
       ".xr-dim-list:after {\n",
       "  content: ')';\n",
       "}\n",
       "\n",
       ".xr-dim-list li:not(:last-child):after {\n",
       "  content: ',';\n",
       "  padding-right: 5px;\n",
       "}\n",
       "\n",
       ".xr-has-index {\n",
       "  font-weight: bold;\n",
       "}\n",
       "\n",
       ".xr-var-list,\n",
       ".xr-var-item {\n",
       "  display: contents;\n",
       "}\n",
       "\n",
       ".xr-var-item > div,\n",
       ".xr-var-item label,\n",
       ".xr-var-item > .xr-var-name span {\n",
       "  background-color: var(--xr-background-color-row-even);\n",
       "  margin-bottom: 0;\n",
       "}\n",
       "\n",
       ".xr-var-item > .xr-var-name:hover span {\n",
       "  padding-right: 5px;\n",
       "}\n",
       "\n",
       ".xr-var-list > li:nth-child(odd) > div,\n",
       ".xr-var-list > li:nth-child(odd) > label,\n",
       ".xr-var-list > li:nth-child(odd) > .xr-var-name span {\n",
       "  background-color: var(--xr-background-color-row-odd);\n",
       "}\n",
       "\n",
       ".xr-var-name {\n",
       "  grid-column: 1;\n",
       "}\n",
       "\n",
       ".xr-var-dims {\n",
       "  grid-column: 2;\n",
       "}\n",
       "\n",
       ".xr-var-dtype {\n",
       "  grid-column: 3;\n",
       "  text-align: right;\n",
       "  color: var(--xr-font-color2);\n",
       "}\n",
       "\n",
       ".xr-var-preview {\n",
       "  grid-column: 4;\n",
       "}\n",
       "\n",
       ".xr-var-name,\n",
       ".xr-var-dims,\n",
       ".xr-var-dtype,\n",
       ".xr-preview,\n",
       ".xr-attrs dt {\n",
       "  white-space: nowrap;\n",
       "  overflow: hidden;\n",
       "  text-overflow: ellipsis;\n",
       "  padding-right: 10px;\n",
       "}\n",
       "\n",
       ".xr-var-name:hover,\n",
       ".xr-var-dims:hover,\n",
       ".xr-var-dtype:hover,\n",
       ".xr-attrs dt:hover {\n",
       "  overflow: visible;\n",
       "  width: auto;\n",
       "  z-index: 1;\n",
       "}\n",
       "\n",
       ".xr-var-attrs,\n",
       ".xr-var-data {\n",
       "  display: none;\n",
       "  background-color: var(--xr-background-color) !important;\n",
       "  padding-bottom: 5px !important;\n",
       "}\n",
       "\n",
       ".xr-var-attrs-in:checked ~ .xr-var-attrs,\n",
       ".xr-var-data-in:checked ~ .xr-var-data {\n",
       "  display: block;\n",
       "}\n",
       "\n",
       ".xr-var-data > table {\n",
       "  float: right;\n",
       "}\n",
       "\n",
       ".xr-var-name span,\n",
       ".xr-var-data,\n",
       ".xr-attrs {\n",
       "  padding-left: 25px !important;\n",
       "}\n",
       "\n",
       ".xr-attrs,\n",
       ".xr-var-attrs,\n",
       ".xr-var-data {\n",
       "  grid-column: 1 / -1;\n",
       "}\n",
       "\n",
       "dl.xr-attrs {\n",
       "  padding: 0;\n",
       "  margin: 0;\n",
       "  display: grid;\n",
       "  grid-template-columns: 125px auto;\n",
       "}\n",
       "\n",
       ".xr-attrs dt, dd {\n",
       "  padding: 0;\n",
       "  margin: 0;\n",
       "  float: left;\n",
       "  padding-right: 10px;\n",
       "  width: auto;\n",
       "}\n",
       "\n",
       ".xr-attrs dt {\n",
       "  font-weight: normal;\n",
       "  grid-column: 1;\n",
       "}\n",
       "\n",
       ".xr-attrs dt:hover span {\n",
       "  display: inline-block;\n",
       "  background: var(--xr-background-color);\n",
       "  padding-right: 10px;\n",
       "}\n",
       "\n",
       ".xr-attrs dd {\n",
       "  grid-column: 2;\n",
       "  white-space: pre-wrap;\n",
       "  word-break: break-all;\n",
       "}\n",
       "\n",
       ".xr-icon-database,\n",
       ".xr-icon-file-text2 {\n",
       "  display: inline-block;\n",
       "  vertical-align: middle;\n",
       "  width: 1em;\n",
       "  height: 1.5em !important;\n",
       "  stroke-width: 0;\n",
       "  stroke: currentColor;\n",
       "  fill: currentColor;\n",
       "}\n",
       "</style><div class='xr-wrap'><div class='xr-header'><div class='xr-obj-type'>xarray.DataArray</div><div class='xr-array-name'></div><ul class='xr-dim-list'><li><span class='xr-has-index'>l</span>: 128</li><li><span class='xr-has-index'>b</span>: 128</li></ul></div><ul class='xr-sections'><li class='xr-section-item'><div class='xr-array-wrap'><input id='section-c83d6ff4-3fe5-424b-a470-a59c8237833f' class='xr-array-in' type='checkbox' ><label for='section-c83d6ff4-3fe5-424b-a470-a59c8237833f' title='Show/hide data repr'><svg class='icon xr-icon-database'><use xlink:href='#icon-database'></use></svg></label><div class='xr-array-preview xr-preview'><span>133 415 633 911 1152 1493 1775 1967 ... 1769 1509 1124 974 691 383 128</span></div><pre class='xr-array-data'>array([[133, 415, 633, ..., 625, 386, 142],\n",
       "       [138, 380, 612, ..., 702, 370, 125],\n",
       "       [133, 360, 644, ..., 617, 399, 116],\n",
       "       ...,\n",
       "       [107, 404, 653, ..., 652, 425, 124],\n",
       "       [142, 439, 703, ..., 662, 405, 107],\n",
       "       [149, 403, 686, ..., 691, 383, 128]])</pre></div></li><li class='xr-section-item'><input id='section-8517549c-36bf-4f6c-bea4-2b11e675680a' class='xr-section-summary-in' type='checkbox'  checked><label for='section-8517549c-36bf-4f6c-bea4-2b11e675680a' class='xr-section-summary' >Coordinates: <span>(2)</span></label><div class='xr-section-inline-details'></div><div class='xr-section-details'><ul class='xr-var-list'><li class='xr-var-item'><div class='xr-var-name'><span class='xr-has-index'>l</span></div><div class='xr-var-dims'>(l)</div><div class='xr-var-dtype'>float64</div><div class='xr-var-preview xr-preview'>1.406 4.219 7.031 ... 355.8 358.6</div><input id='attrs-bf8761d4-7eef-4091-a1a1-760a6b15de65' class='xr-var-attrs-in' type='checkbox' disabled><label for='attrs-bf8761d4-7eef-4091-a1a1-760a6b15de65' title='Show/Hide attributes'><svg class='icon xr-icon-file-text2'><use xlink:href='#icon-file-text2'></use></svg></label><input id='data-65f617bd-4970-4a48-b048-df3cffab9663' class='xr-var-data-in' type='checkbox'><label for='data-65f617bd-4970-4a48-b048-df3cffab9663' title='Show/Hide data repr'><svg class='icon xr-icon-database'><use xlink:href='#icon-database'></use></svg></label><div class='xr-var-attrs'><dl class='xr-attrs'></dl></div><pre class='xr-var-data'>array([  1.40625,   4.21875,   7.03125,   9.84375,  12.65625,  15.46875,\n",
       "        18.28125,  21.09375,  23.90625,  26.71875,  29.53125,  32.34375,\n",
       "        35.15625,  37.96875,  40.78125,  43.59375,  46.40625,  49.21875,\n",
       "        52.03125,  54.84375,  57.65625,  60.46875,  63.28125,  66.09375,\n",
       "        68.90625,  71.71875,  74.53125,  77.34375,  80.15625,  82.96875,\n",
       "        85.78125,  88.59375,  91.40625,  94.21875,  97.03125,  99.84375,\n",
       "       102.65625, 105.46875, 108.28125, 111.09375, 113.90625, 116.71875,\n",
       "       119.53125, 122.34375, 125.15625, 127.96875, 130.78125, 133.59375,\n",
       "       136.40625, 139.21875, 142.03125, 144.84375, 147.65625, 150.46875,\n",
       "       153.28125, 156.09375, 158.90625, 161.71875, 164.53125, 167.34375,\n",
       "       170.15625, 172.96875, 175.78125, 178.59375, 181.40625, 184.21875,\n",
       "       187.03125, 189.84375, 192.65625, 195.46875, 198.28125, 201.09375,\n",
       "       203.90625, 206.71875, 209.53125, 212.34375, 215.15625, 217.96875,\n",
       "       220.78125, 223.59375, 226.40625, 229.21875, 232.03125, 234.84375,\n",
       "       237.65625, 240.46875, 243.28125, 246.09375, 248.90625, 251.71875,\n",
       "       254.53125, 257.34375, 260.15625, 262.96875, 265.78125, 268.59375,\n",
       "       271.40625, 274.21875, 277.03125, 279.84375, 282.65625, 285.46875,\n",
       "       288.28125, 291.09375, 293.90625, 296.71875, 299.53125, 302.34375,\n",
       "       305.15625, 307.96875, 310.78125, 313.59375, 316.40625, 319.21875,\n",
       "       322.03125, 324.84375, 327.65625, 330.46875, 333.28125, 336.09375,\n",
       "       338.90625, 341.71875, 344.53125, 347.34375, 350.15625, 352.96875,\n",
       "       355.78125, 358.59375])</pre></li><li class='xr-var-item'><div class='xr-var-name'><span class='xr-has-index'>b</span></div><div class='xr-var-dims'>(b)</div><div class='xr-var-dtype'>float64</div><div class='xr-var-preview xr-preview'>-89.3 -87.89 -86.48 ... 87.89 89.3</div><input id='attrs-6c68db2c-f077-4e88-a913-95f222ef3d3e' class='xr-var-attrs-in' type='checkbox' disabled><label for='attrs-6c68db2c-f077-4e88-a913-95f222ef3d3e' title='Show/Hide attributes'><svg class='icon xr-icon-file-text2'><use xlink:href='#icon-file-text2'></use></svg></label><input id='data-a4dac864-7d46-4abd-9f25-b3c36f879361' class='xr-var-data-in' type='checkbox'><label for='data-a4dac864-7d46-4abd-9f25-b3c36f879361' title='Show/Hide data repr'><svg class='icon xr-icon-database'><use xlink:href='#icon-database'></use></svg></label><div class='xr-var-attrs'><dl class='xr-attrs'></dl></div><pre class='xr-var-data'>array([-89.296875, -87.890625, -86.484375, -85.078125, -83.671875, -82.265625,\n",
       "       -80.859375, -79.453125, -78.046875, -76.640625, -75.234375, -73.828125,\n",
       "       -72.421875, -71.015625, -69.609375, -68.203125, -66.796875, -65.390625,\n",
       "       -63.984375, -62.578125, -61.171875, -59.765625, -58.359375, -56.953125,\n",
       "       -55.546875, -54.140625, -52.734375, -51.328125, -49.921875, -48.515625,\n",
       "       -47.109375, -45.703125, -44.296875, -42.890625, -41.484375, -40.078125,\n",
       "       -38.671875, -37.265625, -35.859375, -34.453125, -33.046875, -31.640625,\n",
       "       -30.234375, -28.828125, -27.421875, -26.015625, -24.609375, -23.203125,\n",
       "       -21.796875, -20.390625, -18.984375, -17.578125, -16.171875, -14.765625,\n",
       "       -13.359375, -11.953125, -10.546875,  -9.140625,  -7.734375,  -6.328125,\n",
       "        -4.921875,  -3.515625,  -2.109375,  -0.703125,   0.703125,   2.109375,\n",
       "         3.515625,   4.921875,   6.328125,   7.734375,   9.140625,  10.546875,\n",
       "        11.953125,  13.359375,  14.765625,  16.171875,  17.578125,  18.984375,\n",
       "        20.390625,  21.796875,  23.203125,  24.609375,  26.015625,  27.421875,\n",
       "        28.828125,  30.234375,  31.640625,  33.046875,  34.453125,  35.859375,\n",
       "        37.265625,  38.671875,  40.078125,  41.484375,  42.890625,  44.296875,\n",
       "        45.703125,  47.109375,  48.515625,  49.921875,  51.328125,  52.734375,\n",
       "        54.140625,  55.546875,  56.953125,  58.359375,  59.765625,  61.171875,\n",
       "        62.578125,  63.984375,  65.390625,  66.796875,  68.203125,  69.609375,\n",
       "        71.015625,  72.421875,  73.828125,  75.234375,  76.640625,  78.046875,\n",
       "        79.453125,  80.859375,  82.265625,  83.671875,  85.078125,  86.484375,\n",
       "        87.890625,  89.296875])</pre></li></ul></div></li><li class='xr-section-item'><input id='section-9485feec-88cb-4492-8718-ab8e44447e1a' class='xr-section-summary-in' type='checkbox' disabled ><label for='section-9485feec-88cb-4492-8718-ab8e44447e1a' class='xr-section-summary'  title='Expand/collapse section'>Attributes: <span>(0)</span></label><div class='xr-section-inline-details'></div><div class='xr-section-details'><dl class='xr-attrs'></dl></div></li></ul></div></div>"
      ],
      "text/plain": [
       "<xarray.DataArray (l: 128, b: 128)>\n",
       "array([[133, 415, 633, ..., 625, 386, 142],\n",
       "       [138, 380, 612, ..., 702, 370, 125],\n",
       "       [133, 360, 644, ..., 617, 399, 116],\n",
       "       ...,\n",
       "       [107, 404, 653, ..., 652, 425, 124],\n",
       "       [142, 439, 703, ..., 662, 405, 107],\n",
       "       [149, 403, 686, ..., 691, 383, 128]])\n",
       "Coordinates:\n",
       "  * l        (l) float64 1.406 4.219 7.031 9.844 ... 350.2 353.0 355.8 358.6\n",
       "  * b        (b) float64 -89.3 -87.89 -86.48 -85.08 ... 85.08 86.48 87.89 89.3"
      ]
     },
     "execution_count": 20,
     "metadata": {},
     "output_type": "execute_result"
    }
   ],
   "source": [
    "sky_counts = df.count(binby=[df.l, df.b], limits=[[0, 360], [-90, 90]], array_type='xarray')\n",
    "sky_counts"
   ]
  },
  {
   "cell_type": "code",
   "execution_count": 21,
   "metadata": {
    "ExecuteTime": {
     "end_time": "2020-06-12T14:10:50.627767Z",
     "start_time": "2020-06-12T14:10:50.497454Z"
    },
    "execution": {
     "iopub.execute_input": "2020-06-12T08:43:22.588022Z",
     "iopub.status.busy": "2020-06-12T08:43:22.587865Z",
     "iopub.status.idle": "2020-06-12T08:43:22.730911Z",
     "shell.execute_reply": "2020-06-12T08:43:22.730464Z",
     "shell.execute_reply.started": "2020-06-12T08:43:22.588006Z"
    }
   },
   "outputs": [
    {
     "data": {
      "text/plain": [
       "<matplotlib.collections.QuadMesh at 0x7f31a82cb9d0>"
      ]
     },
     "execution_count": 21,
     "metadata": {},
     "output_type": "execute_result"
    },
    {
     "data": {
      "image/png": "[encoded data removed]",
      "text/plain": [
       "<Figure size 432x288 with 2 Axes>"
      ]
     },
     "metadata": {
      "needs_background": "light"
     },
     "output_type": "display_data"
    }
   ],
   "source": [
    "sky_counts.plot()"
   ]
  },
  {
   "cell_type": "code",
   "execution_count": 22,
   "metadata": {
    "ExecuteTime": {
     "end_time": "2020-06-12T14:11:02.155099Z",
     "start_time": "2020-06-12T14:11:02.032820Z"
    },
    "execution": {
     "iopub.execute_input": "2020-06-12T08:43:25.892146Z",
     "iopub.status.busy": "2020-06-12T08:43:25.891918Z",
     "iopub.status.idle": "2020-06-12T08:43:26.028830Z",
     "shell.execute_reply": "2020-06-12T08:43:26.028396Z",
     "shell.execute_reply.started": "2020-06-12T08:43:25.892121Z"
    }
   },
   "outputs": [
    {
     "data": {
      "text/plain": [
       "<matplotlib.collections.QuadMesh at 0x7f31a8252f50>"
      ]
     },
     "execution_count": 22,
     "metadata": {},
     "output_type": "execute_result"
    },
    {
     "data": {
      "image/png": "[encoded data removed]",
      "text/plain": [
       "<Figure size 432x288 with 2 Axes>"
      ]
     },
     "metadata": {
      "needs_background": "light"
     },
     "output_type": "display_data"
    }
   ],
   "source": [
    "np.log10(sky_counts).T.plot()"
   ]
  },
  {
   "cell_type": "markdown",
   "metadata": {},
   "source": [
    "# Vaex-jupyter\n",
    " * Redraw/re-execute code when a selection changes\n",
    " * Connect to ipywidgets (and ipyvuetify, bqplot, plotly)\n",
    " * Base widgets for Voila (dashboarding)\n",
    " * Deal with async updating, cancelling, scheduling, debouncing (details you do not want to care about)"
   ]
  },
  {
   "cell_type": "code",
   "execution_count": null,
   "metadata": {
    "ExecuteTime": {
     "end_time": "2020-06-12T10:30:29.059439Z",
     "start_time": "2020-06-12T10:30:29.057584Z"
    },
    "execution": {
     "iopub.execute_input": "2020-06-12T08:47:10.682470Z",
     "iopub.status.busy": "2020-06-12T08:47:10.682251Z",
     "iopub.status.idle": "2020-06-12T08:47:10.777039Z",
     "shell.execute_reply": "2020-06-12T08:47:10.776607Z",
     "shell.execute_reply.started": "2020-06-12T08:47:10.682444Z"
    }
   },
   "outputs": [],
   "source": [
    "# import vaex\n",
    "# import numpy as np\n",
    "# import matplotlib\n",
    "# matplotlib.rcParams['figure.dpi'] = 100\n",
    "# np.seterr(all='ignore')\n",
    "# import warnings; warnings.simplefilter('ignore')\n",
    "# df = vaex.open('/data/gaia/gaia-dr2-sort-by-source_id.hdf5')\n",
    "# df['distance'] = 1/df.parallax\n",
    "# df"
   ]
  },
  {
   "cell_type": "code",
   "execution_count": 23,
   "metadata": {
    "ExecuteTime": {
     "end_time": "2020-06-12T14:11:58.333878Z",
     "start_time": "2020-06-12T14:11:58.181630Z"
    },
    "execution": {
     "iopub.execute_input": "2020-06-12T08:47:10.967800Z",
     "iopub.status.busy": "2020-06-12T08:47:10.967576Z",
     "iopub.status.idle": "2020-06-12T08:47:10.983358Z",
     "shell.execute_reply": "2020-06-12T08:47:10.982934Z",
     "shell.execute_reply.started": "2020-06-12T08:47:10.967774Z"
    }
   },
   "outputs": [
    {
     "data": {
      "text/plain": [
       "Axis(bin_centers=[ 0.234375  0.703125  1.171875  1.640625  2.109375  2.578125  3.046875\n",
       "  3.515625  3.984375  4.453125  4.921875  5.390625  5.859375  6.328125\n",
       "  6.796875  7.265625  7.734375  8.203125  8.671875  9.140625  9.609375\n",
       " 10.078125 10.546875 11.015625 11.484375 11.953125 12.421875 12.890625\n",
       " 13.359375 13.828125 14.296875 14.765625 15.234375 15.703125 16.171875\n",
       " 16.640625 17.109375 17.578125 18.046875 18.515625 18.984375 19.453125\n",
       " 19.921875 20.390625 20.859375 21.328125 21.796875 22.265625 22.734375\n",
       " 23.203125 23.671875 24.140625 24.609375 25.078125 25.546875 26.015625\n",
       " 26.484375 26.953125 27.421875 27.890625 28.359375 28.828125 29.296875\n",
       " 29.765625], exception=None, expression=distance, max=30.0, min=0.0, shape=None, shape_default=64, slice=None, status=Status.READY)"
      ]
     },
     "execution_count": 23,
     "metadata": {},
     "output_type": "execute_result"
    }
   ],
   "source": [
    "distance_axis = df.widget.axis_model(df.distance, limits=[0, 30])\n",
    "distance_axis"
   ]
  },
  {
   "cell_type": "code",
   "execution_count": 24,
   "metadata": {
    "ExecuteTime": {
     "end_time": "2020-06-12T14:12:23.579041Z",
     "start_time": "2020-06-12T14:12:23.520399Z"
    },
    "execution": {
     "iopub.execute_input": "2020-06-12T08:47:11.493759Z",
     "iopub.status.busy": "2020-06-12T08:47:11.493572Z",
     "iopub.status.idle": "2020-06-12T08:47:11.519294Z",
     "shell.execute_reply": "2020-06-12T08:47:11.518938Z",
     "shell.execute_reply.started": "2020-06-12T08:47:11.493737Z"
    }
   },
   "outputs": [
    {
     "data": {
      "application/vnd.jupyter.widget-view+json": {
       "model_id": "58cd1644799547ee92e731f62e0d78a2",
       "version_major": 2,
       "version_minor": 0
      },
      "text/plain": [
       "DataArray(children=[Container(children=[ProgressCircularNoAnimation(color='#9ECBF5', size=30, text='', value=1…"
      ]
     },
     "metadata": {},
     "output_type": "display_data"
    }
   ],
   "source": [
    "data_array_widget = df.widget.data_array([distance_axis])\n",
    "data_array_widget"
   ]
  },
  {
   "cell_type": "code",
   "execution_count": 25,
   "metadata": {
    "ExecuteTime": {
     "end_time": "2020-06-12T14:12:34.390041Z",
     "start_time": "2020-06-12T14:12:34.386899Z"
    },
    "execution": {
     "iopub.execute_input": "2020-06-12T08:47:11.523866Z",
     "iopub.status.busy": "2020-06-12T08:47:11.523733Z",
     "iopub.status.idle": "2020-06-12T08:47:11.526074Z",
     "shell.execute_reply": "2020-06-12T08:47:11.525693Z",
     "shell.execute_reply.started": "2020-06-12T08:47:11.523848Z"
    }
   },
   "outputs": [],
   "source": [
    "distance_axis.max = 21"
   ]
  },
  {
   "cell_type": "code",
   "execution_count": 26,
   "metadata": {
    "ExecuteTime": {
     "end_time": "2020-06-12T14:13:11.203927Z",
     "start_time": "2020-06-12T14:13:11.178242Z"
    },
    "execution": {
     "iopub.execute_input": "2020-06-12T08:47:11.561850Z",
     "iopub.status.busy": "2020-06-12T08:47:11.561684Z",
     "iopub.status.idle": "2020-06-12T08:47:11.587833Z",
     "shell.execute_reply": "2020-06-12T08:47:11.587502Z",
     "shell.execute_reply.started": "2020-06-12T08:47:11.561827Z"
    }
   },
   "outputs": [
    {
     "data": {
      "application/vnd.jupyter.widget-view+json": {
       "model_id": "c514f959d7a94771965d34aeb1100900",
       "version_major": 2,
       "version_minor": 0
      },
      "text/plain": [
       "DataArray(children=[Container(children=[ProgressCircularNoAnimation(color='#9ECBF5', size=30, text='', value=1…"
      ]
     },
     "metadata": {},
     "output_type": "display_data"
    }
   ],
   "source": [
    "def my_custom_display(data_array):\n",
    "    data_array.plot()\n",
    "data_array_widget = df.widget.data_array([distance_axis], display_function=my_custom_display)\n",
    "data_array_widget"
   ]
  },
  {
   "cell_type": "code",
   "execution_count": 27,
   "metadata": {
    "ExecuteTime": {
     "end_time": "2020-06-12T14:13:21.993461Z",
     "start_time": "2020-06-12T14:13:21.989954Z"
    },
    "execution": {
     "iopub.execute_input": "2020-06-12T08:47:14.080329Z",
     "iopub.status.busy": "2020-06-12T08:47:14.080092Z",
     "iopub.status.idle": "2020-06-12T08:47:14.084175Z",
     "shell.execute_reply": "2020-06-12T08:47:14.083719Z",
     "shell.execute_reply.started": "2020-06-12T08:47:14.080302Z"
    }
   },
   "outputs": [],
   "source": [
    "distance_axis.max = 10"
   ]
  },
  {
   "cell_type": "code",
   "execution_count": 28,
   "metadata": {
    "ExecuteTime": {
     "end_time": "2020-06-12T14:13:30.647715Z",
     "start_time": "2020-06-12T14:13:30.258675Z"
    },
    "execution": {
     "iopub.execute_input": "2020-06-12T08:47:16.670873Z",
     "iopub.status.busy": "2020-06-12T08:47:16.670642Z",
     "iopub.status.idle": "2020-06-12T08:47:17.021073Z",
     "shell.execute_reply": "2020-06-12T08:47:17.020658Z",
     "shell.execute_reply.started": "2020-06-12T08:47:16.670846Z"
    }
   },
   "outputs": [],
   "source": [
    "logdistance_axis = df.widget.axis_model(np.log(df.distance), limits=[-3, 3])\n",
    "df.select(df.parallax_over_error > 3)"
   ]
  },
  {
   "cell_type": "code",
   "execution_count": 29,
   "metadata": {
    "ExecuteTime": {
     "end_time": "2020-06-12T14:13:45.954880Z",
     "start_time": "2020-06-12T14:13:45.928394Z"
    },
    "execution": {
     "iopub.execute_input": "2020-06-12T08:48:35.801903Z",
     "iopub.status.busy": "2020-06-12T08:48:35.801682Z",
     "iopub.status.idle": "2020-06-12T08:48:35.828496Z",
     "shell.execute_reply": "2020-06-12T08:48:35.828211Z",
     "shell.execute_reply.started": "2020-06-12T08:48:35.801878Z"
    }
   },
   "outputs": [
    {
     "data": {
      "application/vnd.jupyter.widget-view+json": {
       "model_id": "e5853631aaec4cd3992caa14c427f7cd",
       "version_major": 2,
       "version_minor": 0
      },
      "text/plain": [
       "DataArray(children=[Container(children=[ProgressCircularNoAnimation(color='#9ECBF5', size=30, text='', value=1…"
      ]
     },
     "metadata": {},
     "output_type": "display_data"
    }
   ],
   "source": [
    "def my_custom_display_with_selection(data_array):\n",
    "    data_array.plot(hue='selection')\n",
    "data_array_widget = df.widget.data_array([logdistance_axis],\n",
    "                                         display_function=my_custom_display_with_selection,\n",
    "                                         selection=[None, 'default'])\n",
    "data_array_widget"
   ]
  },
  {
   "cell_type": "code",
   "execution_count": 30,
   "metadata": {
    "ExecuteTime": {
     "end_time": "2020-06-12T14:14:04.552571Z",
     "start_time": "2020-06-12T14:14:04.548380Z"
    },
    "execution": {
     "iopub.execute_input": "2020-06-12T08:47:25.569086Z",
     "iopub.status.busy": "2020-06-12T08:47:25.568859Z",
     "iopub.status.idle": "2020-06-12T08:47:25.573615Z",
     "shell.execute_reply": "2020-06-12T08:47:25.573129Z",
     "shell.execute_reply.started": "2020-06-12T08:47:25.569060Z"
    }
   },
   "outputs": [],
   "source": [
    "logdistance_axis.expression = np.log10(df.distance)"
   ]
  },
  {
   "cell_type": "code",
   "execution_count": 31,
   "metadata": {
    "ExecuteTime": {
     "end_time": "2020-06-12T14:14:15.574328Z",
     "start_time": "2020-06-12T14:14:15.571026Z"
    },
    "execution": {
     "iopub.execute_input": "2020-06-12T08:47:30.816860Z",
     "iopub.status.busy": "2020-06-12T08:47:30.816628Z",
     "iopub.status.idle": "2020-06-12T08:47:30.820527Z",
     "shell.execute_reply": "2020-06-12T08:47:30.820044Z",
     "shell.execute_reply.started": "2020-06-12T08:47:30.816834Z"
    }
   },
   "outputs": [],
   "source": [
    "logdistance_axis.min = -2\n",
    "logdistance_axis.max = 2"
   ]
  },
  {
   "cell_type": "code",
   "execution_count": 32,
   "metadata": {
    "ExecuteTime": {
     "end_time": "2020-06-12T14:14:24.740778Z",
     "start_time": "2020-06-12T14:14:24.737648Z"
    },
    "execution": {
     "iopub.execute_input": "2020-06-12T08:48:49.915292Z",
     "iopub.status.busy": "2020-06-12T08:48:49.915056Z",
     "iopub.status.idle": "2020-06-12T08:48:49.919191Z",
     "shell.execute_reply": "2020-06-12T08:48:49.918790Z",
     "shell.execute_reply.started": "2020-06-12T08:48:49.915264Z"
    }
   },
   "outputs": [],
   "source": [
    "df.select(df.parallax_over_error > 1)"
   ]
  },
  {
   "cell_type": "code",
   "execution_count": 33,
   "metadata": {
    "ExecuteTime": {
     "end_time": "2020-06-12T14:14:33.148017Z",
     "start_time": "2020-06-12T14:14:33.137654Z"
    },
    "execution": {
     "iopub.execute_input": "2020-06-12T08:48:54.903935Z",
     "iopub.status.busy": "2020-06-12T08:48:54.903698Z",
     "iopub.status.idle": "2020-06-12T08:48:54.914849Z",
     "shell.execute_reply": "2020-06-12T08:48:54.914628Z",
     "shell.execute_reply.started": "2020-06-12T08:48:54.903909Z"
    }
   },
   "outputs": [
    {
     "data": {
      "application/vnd.jupyter.widget-view+json": {
       "model_id": "4cc07587902c45b1a0b4e3a59b1257b5",
       "version_major": 2,
       "version_minor": 0
      },
      "text/plain": [
       "ExpressionSelectionTextArea(label='Filter by custom expression', placeholder='Enter a custom (boolean) express…"
      ]
     },
     "metadata": {},
     "output_type": "display_data"
    }
   ],
   "source": [
    "df.widget.selection_expression()"
   ]
  },
  {
   "cell_type": "code",
   "execution_count": 34,
   "metadata": {
    "ExecuteTime": {
     "end_time": "2020-06-12T14:14:54.718216Z",
     "start_time": "2020-06-12T14:14:54.664208Z"
    }
   },
   "outputs": [
    {
     "data": {
      "application/vnd.jupyter.widget-view+json": {
       "model_id": "a9bef0579e6d427cac156c0e9d3cfa34",
       "version_major": 2,
       "version_minor": 0
      },
      "text/plain": [
       "Histogram(children=[ToolsToolbar(interact_items=[{'value': 'pan-zoom', 'icon': 'pan_tool', 'tooltip': 'Pan & z…"
      ]
     },
     "metadata": {},
     "output_type": "display_data"
    }
   ],
   "source": [
    "distance_histogram_widget = df.widget.histogram(np.log10(df.distance), limits=[-2, 2], selection=[None, 'default'])\n",
    "distance_histogram_widget"
   ]
  },
  {
   "cell_type": "code",
   "execution_count": 35,
   "metadata": {
    "ExecuteTime": {
     "end_time": "2020-06-12T14:15:19.656633Z",
     "start_time": "2020-06-12T14:15:19.612438Z"
    }
   },
   "outputs": [
    {
     "data": {
      "application/vnd.jupyter.widget-view+json": {
       "model_id": "b534514897284025aba63c6a8f31da95",
       "version_major": 2,
       "version_minor": 0
      },
      "text/plain": [
       "Histogram(children=[ToolsToolbar(interact_items=[{'value': 'pan-zoom', 'icon': 'pan_tool', 'tooltip': 'Pan & z…"
      ]
     },
     "metadata": {},
     "output_type": "display_data"
    }
   ],
   "source": [
    "parallax_over_error_histogram_widget = df.widget.histogram(df.parallax_over_error, limits=[0, 30], selection=[None, 'default'])\n",
    "parallax_over_error_histogram_widget"
   ]
  },
  {
   "cell_type": "code",
   "execution_count": 36,
   "metadata": {
    "ExecuteTime": {
     "end_time": "2020-06-12T14:15:45.100598Z",
     "start_time": "2020-06-12T14:15:44.545856Z"
    }
   },
   "outputs": [
    {
     "data": {
      "application/vnd.jupyter.widget-view+json": {
       "model_id": "14d63f0bd2804050bd166ac98b2cf182",
       "version_major": 2,
       "version_minor": 0
      },
      "text/plain": [
       "Heatmap(children=[ToolsToolbar(interact_value=None, supports_normalize=False, template='<template>\\n  <v-toolb…"
      ]
     },
     "metadata": {},
     "output_type": "display_data"
    }
   ],
   "source": [
    "df.widget.heatmap(df.l, df.b, selection=['default'])"
   ]
  },
  {
   "cell_type": "code",
   "execution_count": null,
   "metadata": {},
   "outputs": [],
   "source": []
  }
 ],
 "metadata": {
  "kernelspec": {
   "display_name": "Python 3",
   "language": "python",
   "name": "python3"
  },
  "language_info": {
   "codemirror_mode": {
    "name": "ipython",
    "version": 3
   },
   "file_extension": ".py",
   "mimetype": "text/x-python",
   "name": "python",
   "nbconvert_exporter": "python",
   "pygments_lexer": "ipython3",
   "version": "3.7.7"
  }
 },
 "nbformat": 4,
 "nbformat_minor": 4
}
